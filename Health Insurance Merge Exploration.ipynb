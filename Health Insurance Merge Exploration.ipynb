{
 "cells": [
  {
   "cell_type": "code",
   "execution_count": 52,
   "metadata": {
    "collapsed": true
   },
   "outputs": [],
   "source": [
    "import pandas as pd\n",
    "import matplotlib.pyplot as plt\n",
    "% matplotlib inline\n",
    "\n",
    "import seaborn as sns\n",
    "\n",
    "import internal_ref as ref"
   ]
  },
  {
   "cell_type": "code",
   "execution_count": 53,
   "metadata": {
    "collapsed": true
   },
   "outputs": [],
   "source": [
    "_14 = ref.HI + '/ACS_14_1YR_B992701_with_ann.csv'\n",
    "_13 = ref.HI + '/ACS_13_1YR_B992701_with_ann.csv'\n",
    "_12 = ref.HI + '/ACS_12_1YR_B992701_with_ann.csv'\n",
    "_11 = ref.HI + '/ACS_11_1YR_B992701_with_ann.csv'\n",
    "_10 = ref.HI + '/ACS_10_1YR_B992701_with_ann.csv'\n",
    "_09 = ref.HI + '/ACS_09_1YR_B992701_with_ann.csv'\n",
    "_08 = ref.HI + '/ACS_08_1YR_B992701_with_ann.csv'"
   ]
  },
  {
   "cell_type": "code",
   "execution_count": 54,
   "metadata": {
    "collapsed": true
   },
   "outputs": [],
   "source": [
    "hi14 = pd.read_csv(_14, encoding='latin-1', skiprows=1)\n",
    "hi13 = pd.read_csv(_13, encoding='latin-1', skiprows=1)\n",
    "hi12 = pd.read_csv(_12, encoding='latin-1', skiprows=1)\n",
    "hi11 = pd.read_csv(_11, encoding='latin-1', skiprows=1)\n",
    "hi10 = pd.read_csv(_10, encoding='latin-1', skiprows=1)\n",
    "hi09 = pd.read_csv(_09, encoding='latin-1', skiprows=1)\n",
    "hi08 = pd.read_csv(_08, encoding='latin-1', skiprows=1)"
   ]
  },
  {
   "cell_type": "code",
   "execution_count": 55,
   "metadata": {
    "collapsed": true
   },
   "outputs": [],
   "source": [
    "# Add Year to each health insurance dataset\n",
    "hi14['Year'] = 2014\n",
    "hi13['Year'] = 2013\n",
    "hi12['Year'] = 2012\n",
    "hi11['Year'] = 2011\n",
    "hi10['Year'] = 2010\n",
    "hi09['Year'] = 2009\n",
    "hi08['Year'] = 2008"
   ]
  },
  {
   "cell_type": "code",
   "execution_count": 56,
   "metadata": {
    "collapsed": true
   },
   "outputs": [],
   "source": [
    "# Change column ids for ease of merging\n",
    "final_cols = ['Id', 'Id2', 'Geography', 'Est_total_pop',\n",
    "             'Est_1_HI_pop', 'Est_0_HI_pop', 'Year']\n",
    "\n",
    "\n",
    "hi14.columns = final_cols\n",
    "hi13.columns = final_cols\n",
    "hi12.columns = final_cols\n",
    "hi11.columns = final_cols\n",
    "hi10.columns = final_cols\n",
    "hi09.columns = final_cols\n",
    "hi08.columns = final_cols"
   ]
  },
  {
   "cell_type": "code",
   "execution_count": 57,
   "metadata": {
    "collapsed": true
   },
   "outputs": [],
   "source": [
    "df_hi = pd.concat([hi14, hi13, hi12, hi11, hi10, hi09, hi08], axis=0, \n",
    "                  ignore_index=True )"
   ]
  },
  {
   "cell_type": "code",
   "execution_count": 104,
   "metadata": {
    "collapsed": true
   },
   "outputs": [],
   "source": [
    "# Save \n",
    "filename = ref.Home + '/HI.csv'\n",
    "df_hi.to_csv(filename, index_label=False)"
   ]
  },
  {
   "cell_type": "markdown",
   "metadata": {},
   "source": [
    "## Analysis"
   ]
  },
  {
   "cell_type": "code",
   "execution_count": 18,
   "metadata": {},
   "outputs": [
    {
     "data": {
      "text/html": [
       "<div>\n",
       "<style>\n",
       "    .dataframe thead tr:only-child th {\n",
       "        text-align: right;\n",
       "    }\n",
       "\n",
       "    .dataframe thead th {\n",
       "        text-align: left;\n",
       "    }\n",
       "\n",
       "    .dataframe tbody tr th {\n",
       "        vertical-align: top;\n",
       "    }\n",
       "</style>\n",
       "<table border=\"1\" class=\"dataframe\">\n",
       "  <thead>\n",
       "    <tr style=\"text-align: right;\">\n",
       "      <th></th>\n",
       "      <th>Id</th>\n",
       "      <th>Id2</th>\n",
       "      <th>Geography</th>\n",
       "      <th>Est_total_pop</th>\n",
       "      <th>Est_1+_HI_pop</th>\n",
       "      <th>Est_0_HI_pop</th>\n",
       "      <th>Year</th>\n",
       "    </tr>\n",
       "  </thead>\n",
       "  <tbody>\n",
       "    <tr>\n",
       "      <th>0</th>\n",
       "      <td>0500000US01003</td>\n",
       "      <td>1003</td>\n",
       "      <td>Baldwin County, Alabama</td>\n",
       "      <td>197501</td>\n",
       "      <td>22613</td>\n",
       "      <td>174888</td>\n",
       "      <td>2014</td>\n",
       "    </tr>\n",
       "    <tr>\n",
       "      <th>1</th>\n",
       "      <td>0500000US01015</td>\n",
       "      <td>1015</td>\n",
       "      <td>Calhoun County, Alabama</td>\n",
       "      <td>114583</td>\n",
       "      <td>14036</td>\n",
       "      <td>100547</td>\n",
       "      <td>2014</td>\n",
       "    </tr>\n",
       "    <tr>\n",
       "      <th>2</th>\n",
       "      <td>0500000US01043</td>\n",
       "      <td>1043</td>\n",
       "      <td>Cullman County, Alabama</td>\n",
       "      <td>80363</td>\n",
       "      <td>8514</td>\n",
       "      <td>71849</td>\n",
       "      <td>2014</td>\n",
       "    </tr>\n",
       "  </tbody>\n",
       "</table>\n",
       "</div>"
      ],
      "text/plain": [
       "               Id   Id2                Geography  Est_total_pop  \\\n",
       "0  0500000US01003  1003  Baldwin County, Alabama         197501   \n",
       "1  0500000US01015  1015  Calhoun County, Alabama         114583   \n",
       "2  0500000US01043  1043  Cullman County, Alabama          80363   \n",
       "\n",
       "   Est_1+_HI_pop  Est_0_HI_pop  Year  \n",
       "0          22613        174888  2014  \n",
       "1          14036        100547  2014  \n",
       "2           8514         71849  2014  "
      ]
     },
     "execution_count": 18,
     "metadata": {},
     "output_type": "execute_result"
    }
   ],
   "source": [
    "df_hi.head(3)"
   ]
  },
  {
   "cell_type": "code",
   "execution_count": 43,
   "metadata": {},
   "outputs": [
    {
     "data": {
      "text/html": [
       "<div>\n",
       "<style>\n",
       "    .dataframe thead tr:only-child th {\n",
       "        text-align: right;\n",
       "    }\n",
       "\n",
       "    .dataframe thead th {\n",
       "        text-align: left;\n",
       "    }\n",
       "\n",
       "    .dataframe tbody tr th {\n",
       "        vertical-align: top;\n",
       "    }\n",
       "</style>\n",
       "<table border=\"1\" class=\"dataframe\">\n",
       "  <thead>\n",
       "    <tr style=\"text-align: right;\">\n",
       "      <th></th>\n",
       "      <th>Id2</th>\n",
       "      <th>Est_total_pop</th>\n",
       "      <th>Est_1+_HI_pop</th>\n",
       "      <th>Est_0_HI_pop</th>\n",
       "    </tr>\n",
       "    <tr>\n",
       "      <th>Year</th>\n",
       "      <th></th>\n",
       "      <th></th>\n",
       "      <th></th>\n",
       "      <th></th>\n",
       "    </tr>\n",
       "  </thead>\n",
       "  <tbody>\n",
       "    <tr>\n",
       "      <th>2008</th>\n",
       "      <td>23628237</td>\n",
       "      <td>249650388</td>\n",
       "      <td>26856457</td>\n",
       "      <td>222793931</td>\n",
       "    </tr>\n",
       "    <tr>\n",
       "      <th>2009</th>\n",
       "      <td>23692583</td>\n",
       "      <td>252636926</td>\n",
       "      <td>22043029</td>\n",
       "      <td>230593897</td>\n",
       "    </tr>\n",
       "    <tr>\n",
       "      <th>2010</th>\n",
       "      <td>24188662</td>\n",
       "      <td>255459275</td>\n",
       "      <td>24533495</td>\n",
       "      <td>230925780</td>\n",
       "    </tr>\n",
       "    <tr>\n",
       "      <th>2011</th>\n",
       "      <td>24320248</td>\n",
       "      <td>258000154</td>\n",
       "      <td>24660078</td>\n",
       "      <td>233340076</td>\n",
       "    </tr>\n",
       "    <tr>\n",
       "      <th>2012</th>\n",
       "      <td>24397345</td>\n",
       "      <td>260583382</td>\n",
       "      <td>26274391</td>\n",
       "      <td>234308991</td>\n",
       "    </tr>\n",
       "    <tr>\n",
       "      <th>2013</th>\n",
       "      <td>24492626</td>\n",
       "      <td>263000839</td>\n",
       "      <td>33119923</td>\n",
       "      <td>229880916</td>\n",
       "    </tr>\n",
       "    <tr>\n",
       "      <th>2014</th>\n",
       "      <td>24492626</td>\n",
       "      <td>265750996</td>\n",
       "      <td>34801057</td>\n",
       "      <td>230949939</td>\n",
       "    </tr>\n",
       "  </tbody>\n",
       "</table>\n",
       "</div>"
      ],
      "text/plain": [
       "           Id2  Est_total_pop  Est_1+_HI_pop  Est_0_HI_pop\n",
       "Year                                                      \n",
       "2008  23628237      249650388       26856457     222793931\n",
       "2009  23692583      252636926       22043029     230593897\n",
       "2010  24188662      255459275       24533495     230925780\n",
       "2011  24320248      258000154       24660078     233340076\n",
       "2012  24397345      260583382       26274391     234308991\n",
       "2013  24492626      263000839       33119923     229880916\n",
       "2014  24492626      265750996       34801057     230949939"
      ]
     },
     "execution_count": 43,
     "metadata": {},
     "output_type": "execute_result"
    }
   ],
   "source": [
    "df_hi.groupby('Year').sum()"
   ]
  },
  {
   "cell_type": "code",
   "execution_count": 31,
   "metadata": {},
   "outputs": [
    {
     "data": {
      "text/html": [
       "<div>\n",
       "<style>\n",
       "    .dataframe thead tr:only-child th {\n",
       "        text-align: right;\n",
       "    }\n",
       "\n",
       "    .dataframe thead th {\n",
       "        text-align: left;\n",
       "    }\n",
       "\n",
       "    .dataframe tbody tr th {\n",
       "        vertical-align: top;\n",
       "    }\n",
       "</style>\n",
       "<table border=\"1\" class=\"dataframe\">\n",
       "  <thead>\n",
       "    <tr style=\"text-align: right;\">\n",
       "      <th></th>\n",
       "      <th>count</th>\n",
       "      <th>unique</th>\n",
       "      <th>top</th>\n",
       "      <th>freq</th>\n",
       "    </tr>\n",
       "    <tr>\n",
       "      <th>Year</th>\n",
       "      <th></th>\n",
       "      <th></th>\n",
       "      <th></th>\n",
       "      <th></th>\n",
       "    </tr>\n",
       "  </thead>\n",
       "  <tbody>\n",
       "    <tr>\n",
       "      <th>2008</th>\n",
       "      <td>790</td>\n",
       "      <td>790</td>\n",
       "      <td>Lake County, Indiana</td>\n",
       "      <td>1</td>\n",
       "    </tr>\n",
       "    <tr>\n",
       "      <th>2009</th>\n",
       "      <td>792</td>\n",
       "      <td>792</td>\n",
       "      <td>Lake County, Indiana</td>\n",
       "      <td>1</td>\n",
       "    </tr>\n",
       "    <tr>\n",
       "      <th>2010</th>\n",
       "      <td>807</td>\n",
       "      <td>807</td>\n",
       "      <td>Lake County, Indiana</td>\n",
       "      <td>1</td>\n",
       "    </tr>\n",
       "    <tr>\n",
       "      <th>2011</th>\n",
       "      <td>811</td>\n",
       "      <td>811</td>\n",
       "      <td>Lake County, Indiana</td>\n",
       "      <td>1</td>\n",
       "    </tr>\n",
       "    <tr>\n",
       "      <th>2012</th>\n",
       "      <td>814</td>\n",
       "      <td>814</td>\n",
       "      <td>Lake County, Indiana</td>\n",
       "      <td>1</td>\n",
       "    </tr>\n",
       "    <tr>\n",
       "      <th>2013</th>\n",
       "      <td>817</td>\n",
       "      <td>817</td>\n",
       "      <td>Lake County, Indiana</td>\n",
       "      <td>1</td>\n",
       "    </tr>\n",
       "    <tr>\n",
       "      <th>2014</th>\n",
       "      <td>817</td>\n",
       "      <td>817</td>\n",
       "      <td>Lake County, Indiana</td>\n",
       "      <td>1</td>\n",
       "    </tr>\n",
       "  </tbody>\n",
       "</table>\n",
       "</div>"
      ],
      "text/plain": [
       "     count unique                   top freq\n",
       "Year                                        \n",
       "2008   790    790  Lake County, Indiana    1\n",
       "2009   792    792  Lake County, Indiana    1\n",
       "2010   807    807  Lake County, Indiana    1\n",
       "2011   811    811  Lake County, Indiana    1\n",
       "2012   814    814  Lake County, Indiana    1\n",
       "2013   817    817  Lake County, Indiana    1\n",
       "2014   817    817  Lake County, Indiana    1"
      ]
     },
     "execution_count": 31,
     "metadata": {},
     "output_type": "execute_result"
    }
   ],
   "source": [
    "df_hi.groupby('Year').Geography.describe()"
   ]
  },
  {
   "cell_type": "code",
   "execution_count": 45,
   "metadata": {
    "collapsed": true
   },
   "outputs": [],
   "source": [
    "basegeolst = list(hi08.Geography.unique())"
   ]
  },
  {
   "cell_type": "code",
   "execution_count": null,
   "metadata": {
    "collapsed": true
   },
   "outputs": [],
   "source": []
  },
  {
   "cell_type": "code",
   "execution_count": null,
   "metadata": {
    "collapsed": true
   },
   "outputs": [],
   "source": []
  },
  {
   "cell_type": "markdown",
   "metadata": {
    "collapsed": true
   },
   "source": [
    "### Exploration via Pivot Table"
   ]
  },
  {
   "cell_type": "code",
   "execution_count": 39,
   "metadata": {},
   "outputs": [
    {
     "data": {
      "text/html": [
       "<div>\n",
       "<style>\n",
       "    .dataframe thead tr:only-child th {\n",
       "        text-align: right;\n",
       "    }\n",
       "\n",
       "    .dataframe thead th {\n",
       "        text-align: left;\n",
       "    }\n",
       "\n",
       "    .dataframe tbody tr th {\n",
       "        vertical-align: top;\n",
       "    }\n",
       "</style>\n",
       "<table border=\"1\" class=\"dataframe\">\n",
       "  <thead>\n",
       "    <tr>\n",
       "      <th></th>\n",
       "      <th colspan=\"10\" halign=\"left\">Est_0_HI_pop</th>\n",
       "      <th>...</th>\n",
       "      <th colspan=\"10\" halign=\"left\">Est_total_pop</th>\n",
       "    </tr>\n",
       "    <tr>\n",
       "      <th>Geography</th>\n",
       "      <th>Ada County, Idaho</th>\n",
       "      <th>Adams County, Colorado</th>\n",
       "      <th>Adams County, Illinois</th>\n",
       "      <th>Adams County, Pennsylvania</th>\n",
       "      <th>Aiken County, South Carolina</th>\n",
       "      <th>Alachua County, Florida</th>\n",
       "      <th>Alamance County, North Carolina</th>\n",
       "      <th>Alameda County, California</th>\n",
       "      <th>Albany County, New York</th>\n",
       "      <th>Albemarle County, Virginia</th>\n",
       "      <th>...</th>\n",
       "      <th>Yamhill County, Oregon</th>\n",
       "      <th>Yavapai County, Arizona</th>\n",
       "      <th>Yellowstone County, Montana</th>\n",
       "      <th>Yolo County, California</th>\n",
       "      <th>York County, Maine</th>\n",
       "      <th>York County, Pennsylvania</th>\n",
       "      <th>York County, South Carolina</th>\n",
       "      <th>York County, Virginia</th>\n",
       "      <th>Yuba County, California</th>\n",
       "      <th>Yuma County, Arizona</th>\n",
       "    </tr>\n",
       "    <tr>\n",
       "      <th>Year</th>\n",
       "      <th></th>\n",
       "      <th></th>\n",
       "      <th></th>\n",
       "      <th></th>\n",
       "      <th></th>\n",
       "      <th></th>\n",
       "      <th></th>\n",
       "      <th></th>\n",
       "      <th></th>\n",
       "      <th></th>\n",
       "      <th></th>\n",
       "      <th></th>\n",
       "      <th></th>\n",
       "      <th></th>\n",
       "      <th></th>\n",
       "      <th></th>\n",
       "      <th></th>\n",
       "      <th></th>\n",
       "      <th></th>\n",
       "      <th></th>\n",
       "      <th></th>\n",
       "    </tr>\n",
       "  </thead>\n",
       "  <tbody>\n",
       "    <tr>\n",
       "      <th>2008</th>\n",
       "      <td>332486.0</td>\n",
       "      <td>392902.0</td>\n",
       "      <td>57024.0</td>\n",
       "      <td>88612.0</td>\n",
       "      <td>135890.0</td>\n",
       "      <td>210836.0</td>\n",
       "      <td>128767.0</td>\n",
       "      <td>1320259.0</td>\n",
       "      <td>255448.0</td>\n",
       "      <td>82910.0</td>\n",
       "      <td>...</td>\n",
       "      <td>95677.0</td>\n",
       "      <td>213711.0</td>\n",
       "      <td>139556.0</td>\n",
       "      <td>196055.0</td>\n",
       "      <td>199184.0</td>\n",
       "      <td>417949.0</td>\n",
       "      <td>216097.0</td>\n",
       "      <td>NaN</td>\n",
       "      <td>71222.0</td>\n",
       "      <td>187701.0</td>\n",
       "    </tr>\n",
       "    <tr>\n",
       "      <th>2009</th>\n",
       "      <td>336454.0</td>\n",
       "      <td>412153.0</td>\n",
       "      <td>59433.0</td>\n",
       "      <td>93134.0</td>\n",
       "      <td>139850.0</td>\n",
       "      <td>218633.0</td>\n",
       "      <td>128320.0</td>\n",
       "      <td>1365529.0</td>\n",
       "      <td>265955.0</td>\n",
       "      <td>85719.0</td>\n",
       "      <td>...</td>\n",
       "      <td>96845.0</td>\n",
       "      <td>213886.0</td>\n",
       "      <td>143099.0</td>\n",
       "      <td>198340.0</td>\n",
       "      <td>199991.0</td>\n",
       "      <td>423400.0</td>\n",
       "      <td>224807.0</td>\n",
       "      <td>NaN</td>\n",
       "      <td>69340.0</td>\n",
       "      <td>189328.0</td>\n",
       "    </tr>\n",
       "    <tr>\n",
       "      <th>2010</th>\n",
       "      <td>332734.0</td>\n",
       "      <td>406971.0</td>\n",
       "      <td>56718.0</td>\n",
       "      <td>90711.0</td>\n",
       "      <td>142815.0</td>\n",
       "      <td>218969.0</td>\n",
       "      <td>131367.0</td>\n",
       "      <td>1375998.0</td>\n",
       "      <td>271527.0</td>\n",
       "      <td>86380.0</td>\n",
       "      <td>...</td>\n",
       "      <td>97350.0</td>\n",
       "      <td>206533.0</td>\n",
       "      <td>145842.0</td>\n",
       "      <td>199916.0</td>\n",
       "      <td>194655.0</td>\n",
       "      <td>430439.0</td>\n",
       "      <td>225117.0</td>\n",
       "      <td>62685.0</td>\n",
       "      <td>68357.0</td>\n",
       "      <td>190933.0</td>\n",
       "    </tr>\n",
       "  </tbody>\n",
       "</table>\n",
       "<p>3 rows × 2454 columns</p>\n",
       "</div>"
      ],
      "text/plain": [
       "               Est_0_HI_pop                                                \\\n",
       "Geography Ada County, Idaho Adams County, Colorado Adams County, Illinois   \n",
       "Year                                                                        \n",
       "2008               332486.0               392902.0                57024.0   \n",
       "2009               336454.0               412153.0                59433.0   \n",
       "2010               332734.0               406971.0                56718.0   \n",
       "\n",
       "                                                                   \\\n",
       "Geography Adams County, Pennsylvania Aiken County, South Carolina   \n",
       "Year                                                                \n",
       "2008                         88612.0                     135890.0   \n",
       "2009                         93134.0                     139850.0   \n",
       "2010                         90711.0                     142815.0   \n",
       "\n",
       "                                                                   \\\n",
       "Geography Alachua County, Florida Alamance County, North Carolina   \n",
       "Year                                                                \n",
       "2008                     210836.0                        128767.0   \n",
       "2009                     218633.0                        128320.0   \n",
       "2010                     218969.0                        131367.0   \n",
       "\n",
       "                                                              \\\n",
       "Geography Alameda County, California Albany County, New York   \n",
       "Year                                                           \n",
       "2008                       1320259.0                255448.0   \n",
       "2009                       1365529.0                265955.0   \n",
       "2010                       1375998.0                271527.0   \n",
       "\n",
       "                                             ...           \\\n",
       "Geography Albemarle County, Virginia         ...            \n",
       "Year                                         ...            \n",
       "2008                         82910.0         ...            \n",
       "2009                         85719.0         ...            \n",
       "2010                         86380.0         ...            \n",
       "\n",
       "                   Est_total_pop                          \\\n",
       "Geography Yamhill County, Oregon Yavapai County, Arizona   \n",
       "Year                                                       \n",
       "2008                     95677.0                213711.0   \n",
       "2009                     96845.0                213886.0   \n",
       "2010                     97350.0                206533.0   \n",
       "\n",
       "                                                               \\\n",
       "Geography Yellowstone County, Montana Yolo County, California   \n",
       "Year                                                            \n",
       "2008                         139556.0                196055.0   \n",
       "2009                         143099.0                198340.0   \n",
       "2010                         145842.0                199916.0   \n",
       "\n",
       "                                                        \\\n",
       "Geography York County, Maine York County, Pennsylvania   \n",
       "Year                                                     \n",
       "2008                199184.0                  417949.0   \n",
       "2009                199991.0                  423400.0   \n",
       "2010                194655.0                  430439.0   \n",
       "\n",
       "                                                             \\\n",
       "Geography York County, South Carolina York County, Virginia   \n",
       "Year                                                          \n",
       "2008                         216097.0                   NaN   \n",
       "2009                         224807.0                   NaN   \n",
       "2010                         225117.0               62685.0   \n",
       "\n",
       "                                                        \n",
       "Geography Yuba County, California Yuma County, Arizona  \n",
       "Year                                                    \n",
       "2008                      71222.0             187701.0  \n",
       "2009                      69340.0             189328.0  \n",
       "2010                      68357.0             190933.0  \n",
       "\n",
       "[3 rows x 2454 columns]"
      ]
     },
     "execution_count": 39,
     "metadata": {},
     "output_type": "execute_result"
    }
   ],
   "source": [
    "pt_hi = df_hi.pivot_table(values = ['Est_total_pop', 'Est_1+_HI_pop', 'Est_0_HI_pop'],\n",
    "                                    index = 'Year', columns = 'Geography', dropna=True)\n",
    "pt_hi.head(3)"
   ]
  },
  {
   "cell_type": "code",
   "execution_count": 40,
   "metadata": {},
   "outputs": [
    {
     "data": {
      "text/html": [
       "<div>\n",
       "<style>\n",
       "    .dataframe thead tr:only-child th {\n",
       "        text-align: right;\n",
       "    }\n",
       "\n",
       "    .dataframe thead th {\n",
       "        text-align: left;\n",
       "    }\n",
       "\n",
       "    .dataframe tbody tr th {\n",
       "        vertical-align: top;\n",
       "    }\n",
       "</style>\n",
       "<table border=\"1\" class=\"dataframe\">\n",
       "  <thead>\n",
       "    <tr style=\"text-align: right;\">\n",
       "      <th></th>\n",
       "      <th></th>\n",
       "      <th>Est_0_HI_pop</th>\n",
       "      <th>Est_1+_HI_pop</th>\n",
       "      <th>Est_total_pop</th>\n",
       "    </tr>\n",
       "    <tr>\n",
       "      <th>Year</th>\n",
       "      <th>Geography</th>\n",
       "      <th></th>\n",
       "      <th></th>\n",
       "      <th></th>\n",
       "    </tr>\n",
       "  </thead>\n",
       "  <tbody>\n",
       "    <tr>\n",
       "      <th rowspan=\"3\" valign=\"top\">2008</th>\n",
       "      <th>Ada County, Idaho</th>\n",
       "      <td>332486.0</td>\n",
       "      <td>38568.0</td>\n",
       "      <td>371054.0</td>\n",
       "    </tr>\n",
       "    <tr>\n",
       "      <th>Adams County, Colorado</th>\n",
       "      <td>392902.0</td>\n",
       "      <td>35761.0</td>\n",
       "      <td>428663.0</td>\n",
       "    </tr>\n",
       "    <tr>\n",
       "      <th>Adams County, Illinois</th>\n",
       "      <td>57024.0</td>\n",
       "      <td>8411.0</td>\n",
       "      <td>65435.0</td>\n",
       "    </tr>\n",
       "  </tbody>\n",
       "</table>\n",
       "</div>"
      ],
      "text/plain": [
       "                             Est_0_HI_pop  Est_1+_HI_pop  Est_total_pop\n",
       "Year Geography                                                         \n",
       "2008 Ada County, Idaho           332486.0        38568.0       371054.0\n",
       "     Adams County, Colorado      392902.0        35761.0       428663.0\n",
       "     Adams County, Illinois       57024.0         8411.0        65435.0"
      ]
     },
     "execution_count": 40,
     "metadata": {},
     "output_type": "execute_result"
    }
   ],
   "source": [
    "pt_hi_stk = pt_hi.stack()\n",
    "pt_hi_stk.head(3)"
   ]
  },
  {
   "cell_type": "code",
   "execution_count": null,
   "metadata": {
    "collapsed": true
   },
   "outputs": [],
   "source": []
  },
  {
   "cell_type": "markdown",
   "metadata": {},
   "source": [
    "### Creation of csv for d3 test"
   ]
  },
  {
   "cell_type": "code",
   "execution_count": 61,
   "metadata": {},
   "outputs": [],
   "source": [
    "df_hi['HI_ratio'] = df_hi['Est_1_HI_pop']/df_hi['Est_total_pop']"
   ]
  },
  {
   "cell_type": "code",
   "execution_count": 71,
   "metadata": {},
   "outputs": [],
   "source": [
    "df_hi_2014 = df_hi[df_hi.Year == 2014]\n"
   ]
  },
  {
   "cell_type": "code",
   "execution_count": 72,
   "metadata": {},
   "outputs": [
    {
     "name": "stderr",
     "output_type": "stream",
     "text": [
      "/Users/allandong/anaconda/lib/python3.6/site-packages/ipykernel_launcher.py:2: SettingWithCopyWarning: \n",
      "A value is trying to be set on a copy of a slice from a DataFrame\n",
      "\n",
      "See the caveats in the documentation: http://pandas.pydata.org/pandas-docs/stable/indexing.html#indexing-view-versus-copy\n",
      "  \n"
     ]
    }
   ],
   "source": [
    "df_hi_2014.drop(['Id', 'Geography', 'Est_total_pop', 'Est_1_HI_pop',\n",
    "       'Est_0_HI_pop', 'Year'], axis=1, inplace=True)"
   ]
  },
  {
   "cell_type": "code",
   "execution_count": null,
   "metadata": {
    "collapsed": true
   },
   "outputs": [],
   "source": []
  },
  {
   "cell_type": "code",
   "execution_count": null,
   "metadata": {
    "collapsed": true
   },
   "outputs": [],
   "source": []
  },
  {
   "cell_type": "code",
   "execution_count": 79,
   "metadata": {},
   "outputs": [],
   "source": [
    "df_hi_2014_filename = ref.Home + '/df_hi_2014.tsv'\n",
    "df_hi_2014.to_csv(df_hi_2014_filename, sep=' ')"
   ]
  },
  {
   "cell_type": "code",
   "execution_count": 96,
   "metadata": {
    "scrolled": true
   },
   "outputs": [
    {
     "name": "stderr",
     "output_type": "stream",
     "text": [
      "/Users/allandong/anaconda/lib/python3.6/site-packages/ipykernel_launcher.py:1: SettingWithCopyWarning: \n",
      "A value is trying to be set on a copy of a slice from a DataFrame.\n",
      "Try using .loc[row_indexer,col_indexer] = value instead\n",
      "\n",
      "See the caveats in the documentation: http://pandas.pydata.org/pandas-docs/stable/indexing.html#indexing-view-versus-copy\n",
      "  \"\"\"Entry point for launching an IPython kernel.\n"
     ]
    }
   ],
   "source": [
    "df_hi_2014['county_id'] = df_hi_2014['Id2'].map(lambda x: (str(x)[:-3], str(x)[-3:]))"
   ]
  },
  {
   "cell_type": "code",
   "execution_count": 103,
   "metadata": {},
   "outputs": [
    {
     "data": {
      "text/plain": [
       "Id2            int64\n",
       "HI_ratio     float64\n",
       "county_id     object\n",
       "dtype: object"
      ]
     },
     "execution_count": 103,
     "metadata": {},
     "output_type": "execute_result"
    }
   ],
   "source": [
    "df_hi_2014.dtypes"
   ]
  },
  {
   "cell_type": "code",
   "execution_count": 99,
   "metadata": {},
   "outputs": [],
   "source": [
    "df_hi_2014_filename = ref.Home + '/df_hi_2014_1.csv'\n",
    "df_hi_2014.to_csv(df_hi_2014_filename, index_label=False)"
   ]
  },
  {
   "cell_type": "code",
   "execution_count": null,
   "metadata": {
    "collapsed": true
   },
   "outputs": [],
   "source": []
  }
 ],
 "metadata": {
  "kernelspec": {
   "display_name": "Python 3",
   "language": "python",
   "name": "python3"
  },
  "language_info": {
   "codemirror_mode": {
    "name": "ipython",
    "version": 3
   },
   "file_extension": ".py",
   "mimetype": "text/x-python",
   "name": "python",
   "nbconvert_exporter": "python",
   "pygments_lexer": "ipython3",
   "version": "3.6.1"
  }
 },
 "nbformat": 4,
 "nbformat_minor": 2
}
