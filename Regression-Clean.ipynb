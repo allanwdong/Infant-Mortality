{
 "cells": [
  {
   "cell_type": "code",
   "execution_count": 1,
   "metadata": {},
   "outputs": [
    {
     "name": "stderr",
     "output_type": "stream",
     "text": [
      "/Users/allandong/anaconda/lib/python3.6/site-packages/statsmodels/compat/pandas.py:56: FutureWarning: The pandas.core.datetools module is deprecated and will be removed in a future version. Please use the pandas.tseries module instead.\n",
      "  from pandas.core import datetools\n"
     ]
    }
   ],
   "source": [
    "import numpy as np\n",
    "import pandas as pd\n",
    "import matplotlib.pyplot as plt\n",
    "% matplotlib inline\n",
    "\n",
    "import seaborn as sns\n",
    "\n",
    "import internal_ref as ref\n",
    "\n",
    "import patsy\n",
    "import statsmodels.api as sm\n",
    "import statsmodels.formula.api as smf\n",
    "\n",
    "\n",
    "from sklearn.model_selection import train_test_split\n",
    "\n",
    "from sklearn.preprocessing import StandardScaler\n",
    "from sklearn.decomposition import PCA\n",
    "from sklearn.tree import DecisionTreeRegressor\n",
    "from sklearn.ensemble import RandomForestRegressor\n",
    "from sklearn.linear_model import LinearRegression, Ridge, Lasso\n",
    "\n"
   ]
  },
  {
   "cell_type": "code",
   "execution_count": 2,
   "metadata": {},
   "outputs": [
    {
     "name": "stderr",
     "output_type": "stream",
     "text": [
      "/Users/allandong/anaconda/lib/python3.6/site-packages/IPython/core/interactiveshell.py:2698: DtypeWarning: Columns (4) have mixed types. Specify dtype option on import or set low_memory=False.\n",
      "  interactivity=interactivity, compiler=compiler, result=result)\n"
     ]
    }
   ],
   "source": [
    "CDC = ref.Home + '/df_final.csv'\n",
    "labor = ref.Home + '/labor.csv'\n",
    "hi = ref.Home + '/HI.csv'\n",
    "\n",
    "df_CDC = pd.read_csv(CDC, dtype={'County Code' : int})\n",
    "df_labor = pd.read_csv(labor, dtype={'series_id' : str, \n",
    "                                     'year' : int, \n",
    "                                     'period' : str, \n",
    "                                     'value' : object,\n",
    "                                     'footnote_codes' : str,\n",
    "                                     'area_code': str,\n",
    "                                     'series_title' : str,\n",
    "                                     'area_text' : str})\n",
    "df_hi = pd.read_csv(hi)"
   ]
  },
  {
   "cell_type": "code",
   "execution_count": null,
   "metadata": {
    "collapsed": true
   },
   "outputs": [],
   "source": []
  },
  {
   "cell_type": "code",
   "execution_count": 183,
   "metadata": {
    "collapsed": true
   },
   "outputs": [],
   "source": [
    "df_CDC.drop(['Unnamed: 0', 'Unnamed: 0.1', 'Notes'], axis =1, inplace=True)\n",
    "\n",
    "cdcColumns = ['County', 'County_Code', 'Race', 'Race_Code',\n",
    "       'ICD_10_130_Infants',\n",
    "       'ICD_10_130_Infants_Code', 'Cause_of_death',\n",
    "       'Cause_of_death_Code', 'Gender', 'Gender_Code', 'Deaths', 'Births',\n",
    "       'Death_Rate', 'Year']\n",
    "df_CDC.columns = cdcColumns"
   ]
  },
  {
   "cell_type": "code",
   "execution_count": 184,
   "metadata": {
    "collapsed": true
   },
   "outputs": [],
   "source": [
    "df_labor_cty = df_labor[df_labor.area_code.str.find(r'CN') != -1]"
   ]
  },
  {
   "cell_type": "code",
   "execution_count": 185,
   "metadata": {},
   "outputs": [
    {
     "name": "stderr",
     "output_type": "stream",
     "text": [
      "/Users/allandong/anaconda/lib/python3.6/site-packages/ipykernel_launcher.py:1: SettingWithCopyWarning: \n",
      "A value is trying to be set on a copy of a slice from a DataFrame.\n",
      "Try using .loc[row_indexer,col_indexer] = value instead\n",
      "\n",
      "See the caveats in the documentation: http://pandas.pydata.org/pandas-docs/stable/indexing.html#indexing-view-versus-copy\n",
      "  \"\"\"Entry point for launching an IPython kernel.\n"
     ]
    }
   ],
   "source": [
    "df_labor_cty['FIPS'] = df_labor_cty['area_code'].map(lambda x: int(x[2:7]))\n",
    "df_labor_cty_yr = df_labor_cty[df_labor_cty.period == 'M13']"
   ]
  },
  {
   "cell_type": "code",
   "execution_count": 186,
   "metadata": {
    "collapsed": true
   },
   "outputs": [],
   "source": [
    "df_labor_HI = pd.merge(df_labor_cty_yr, df_hi, \n",
    "                       how='inner', \n",
    "                       left_on=['year', 'FIPS'], \n",
    "                       right_on=['Year', 'Id2'])"
   ]
  },
  {
   "cell_type": "code",
   "execution_count": 285,
   "metadata": {
    "collapsed": true
   },
   "outputs": [],
   "source": [
    "df = pd.merge(df_labor_HI, df_CDC,\n",
    "             how='inner',\n",
    "             left_on=['Year', 'FIPS'],\n",
    "             right_on=['Year', 'County_Code'])"
   ]
  },
  {
   "cell_type": "code",
   "execution_count": 286,
   "metadata": {
    "collapsed": true
   },
   "outputs": [],
   "source": [
    "df.drop(['series_id', 'year', 'footnote_codes', 'area_code', 'series_title', 'area_text',\n",
    "         'Id', 'Id2', 'Geography', 'County_Code'], axis=1, inplace=True)"
   ]
  },
  {
   "cell_type": "code",
   "execution_count": 287,
   "metadata": {
    "collapsed": true
   },
   "outputs": [],
   "source": [
    "df['Death_ratio']=df['Deaths']/df['Births']\n",
    "df['HI_ratio'] = df['Est_1_HI_pop']/df['Est_total_pop']\n"
   ]
  },
  {
   "cell_type": "code",
   "execution_count": 288,
   "metadata": {
    "collapsed": true
   },
   "outputs": [],
   "source": [
    "df.unemployment_rate = df.unemployment_rate.apply(pd.to_numeric)"
   ]
  },
  {
   "cell_type": "code",
   "execution_count": 289,
   "metadata": {
    "collapsed": true
   },
   "outputs": [],
   "source": [
    "df1 = df.drop(['period', 'FIPS', 'Est_total_pop', 'Est_1_HI_pop',\n",
    "       'Est_0_HI_pop', 'Race_Code',\n",
    "       'ICD_10_130_Infants_Code', \n",
    "       'Cause_of_death_Code', 'Gender_Code', 'Deaths', 'Births',\n",
    "       'Death_Rate'], axis=1)"
   ]
  },
  {
   "cell_type": "code",
   "execution_count": null,
   "metadata": {
    "collapsed": true
   },
   "outputs": [],
   "source": []
  },
  {
   "cell_type": "markdown",
   "metadata": {},
   "source": [
    "# Export DataFrames for External Check"
   ]
  },
  {
   "cell_type": "code",
   "execution_count": 290,
   "metadata": {
    "collapsed": true
   },
   "outputs": [],
   "source": [
    "# file_labor = ref.Home + '/labor_hi.csv'\n",
    "# df_labor_HI.to_csv(file_labor, index_label=False)\n",
    "\n",
    "# file_df = ref.Home + '/df.csv'\n",
    "# df.to_csv(file_df, index_label=False)"
   ]
  },
  {
   "cell_type": "code",
   "execution_count": null,
   "metadata": {
    "collapsed": true
   },
   "outputs": [],
   "source": []
  },
  {
   "cell_type": "markdown",
   "metadata": {},
   "source": [
    "# Initial Regression"
   ]
  },
  {
   "cell_type": "code",
   "execution_count": 274,
   "metadata": {
    "collapsed": true
   },
   "outputs": [],
   "source": [
    "df_county = patsy.dmatrix('County', data=df1, return_type='dataframe').drop('Intercept', 1)\n",
    "df_race = patsy.dmatrix('Race', data=df1, return_type='dataframe').drop('Intercept', 1)\n",
    "df_icd = patsy.dmatrix('ICD_10_130_Infants', data=df1, return_type='dataframe').drop('Intercept', 1)\n",
    "df_cause = patsy.dmatrix('Cause_of_death', data=df1, return_type='dataframe').drop('Intercept', 1)\n",
    "df_gender = patsy.dmatrix('Gender', data=df1, return_type='dataframe').drop('Intercept', 1)\n",
    "df_year = patsy.dmatrix('Year', data=df1, return_type='dataframe').drop('Intercept', 1)"
   ]
  },
  {
   "cell_type": "code",
   "execution_count": 275,
   "metadata": {
    "collapsed": true
   },
   "outputs": [],
   "source": [
    "df_lr = df1.drop(['County','Race','ICD_10_130_Infants', 'Cause_of_death','Gender'], axis=1)"
   ]
  },
  {
   "cell_type": "code",
   "execution_count": 276,
   "metadata": {
    "collapsed": true
   },
   "outputs": [],
   "source": [
    "df_lr1 = pd.concat([df_lr,\n",
    "                    df_year,\n",
    "                   df_county,\n",
    "                   df_race,\n",
    "                   df_icd,\n",
    "                   df_cause,\n",
    "                   df_gender\n",
    "                   ], axis=1, join='inner')"
   ]
  },
  {
   "cell_type": "code",
   "execution_count": 277,
   "metadata": {
    "collapsed": true
   },
   "outputs": [],
   "source": [
    "test = df1.groupby(['Year','County', 'Race', 'Gender']).first()\n",
    "new_df = pd.DataFrame(test).reset_index()"
   ]
  },
  {
   "cell_type": "code",
   "execution_count": 278,
   "metadata": {
    "collapsed": true
   },
   "outputs": [],
   "source": [
    "new_df_county = patsy.dmatrix('County', data=new_df, return_type='dataframe').drop('Intercept', 1)\n",
    "new_df_race = patsy.dmatrix('Race', data=new_df, return_type='dataframe').drop('Intercept', 1)\n",
    "new_df_icd = patsy.dmatrix('ICD_10_130_Infants', data=new_df, return_type='dataframe').drop('Intercept', 1)\n",
    "new_df_cause = patsy.dmatrix('Cause_of_death', data=new_df, return_type='dataframe').drop('Intercept', 1)\n",
    "new_df_gender = patsy.dmatrix('Gender', data=new_df, return_type='dataframe').drop('Intercept', 1)\n",
    "new_df_year = patsy.dmatrix('Year', data=new_df, return_type='dataframe').drop('Intercept', 1)"
   ]
  },
  {
   "cell_type": "code",
   "execution_count": 279,
   "metadata": {
    "collapsed": true
   },
   "outputs": [],
   "source": [
    "new_df.drop(['Year', 'County','Race','Gender', 'ICD_10_130_Infants', 'Cause_of_death'], axis=1, inplace=True)"
   ]
  },
  {
   "cell_type": "code",
   "execution_count": 280,
   "metadata": {
    "collapsed": true
   },
   "outputs": [],
   "source": [
    "new_df1= pd.concat([new_df,\n",
    "                    new_df_year,\n",
    "                   new_df_county,\n",
    "                   #new_df_icd,\n",
    "                   new_df_race,\n",
    "                   new_df_gender\n",
    "                   ], axis=1, join='inner')"
   ]
  },
  {
   "cell_type": "code",
   "execution_count": 281,
   "metadata": {
    "collapsed": true
   },
   "outputs": [],
   "source": [
    "new_x = new_df1.drop('Death_ratio', axis=1).astype('float')\n",
    "new_x['intercept'] = np.ones(len(new_x))\n",
    "new_y = new_df1.Death_ratio\n",
    "\n",
    "x_train_new, x_test_new, y_train_new, y_test_new = train_test_split(new_x, new_y, \n",
    "                                                                    test_size = 0.25, random_state=20)"
   ]
  },
  {
   "cell_type": "code",
   "execution_count": null,
   "metadata": {
    "collapsed": true
   },
   "outputs": [],
   "source": []
  },
  {
   "cell_type": "code",
   "execution_count": null,
   "metadata": {
    "collapsed": true
   },
   "outputs": [],
   "source": []
  },
  {
   "cell_type": "code",
   "execution_count": 53,
   "metadata": {
    "scrolled": true
   },
   "outputs": [
    {
     "data": {
      "text/html": [
       "<table class=\"simpletable\">\n",
       "<caption>OLS Regression Results</caption>\n",
       "<tr>\n",
       "  <th>Dep. Variable:</th>       <td>Death_ratio</td>   <th>  R-squared:         </th> <td>   0.919</td>\n",
       "</tr>\n",
       "<tr>\n",
       "  <th>Model:</th>                   <td>OLS</td>       <th>  Adj. R-squared:    </th> <td>   0.892</td>\n",
       "</tr>\n",
       "<tr>\n",
       "  <th>Method:</th>             <td>Least Squares</td>  <th>  F-statistic:       </th> <td>   34.35</td>\n",
       "</tr>\n",
       "<tr>\n",
       "  <th>Date:</th>             <td>Wed, 13 Sep 2017</td> <th>  Prob (F-statistic):</th> <td>8.09e-52</td>\n",
       "</tr>\n",
       "<tr>\n",
       "  <th>Time:</th>                 <td>15:52:12</td>     <th>  Log-Likelihood:    </th> <td>  1026.4</td>\n",
       "</tr>\n",
       "<tr>\n",
       "  <th>No. Observations:</th>      <td>   170</td>      <th>  AIC:               </th> <td>  -1967.</td>\n",
       "</tr>\n",
       "<tr>\n",
       "  <th>Df Residuals:</th>          <td>   127</td>      <th>  BIC:               </th> <td>  -1832.</td>\n",
       "</tr>\n",
       "<tr>\n",
       "  <th>Df Model:</th>              <td>    42</td>      <th>                     </th>     <td> </td>   \n",
       "</tr>\n",
       "<tr>\n",
       "  <th>Covariance Type:</th>      <td>nonrobust</td>    <th>                     </th>     <td> </td>   \n",
       "</tr>\n",
       "</table>\n",
       "<table class=\"simpletable\">\n",
       "<tr>\n",
       "                    <td></td>                       <th>coef</th>     <th>std err</th>      <th>t</th>      <th>P>|t|</th>  <th>[0.025</th>    <th>0.975]</th>  \n",
       "</tr>\n",
       "<tr>\n",
       "  <th>unemployment_rate</th>                     <td>-2.728e-05</td> <td> 5.33e-05</td> <td>   -0.512</td> <td> 0.610</td> <td>   -0.000</td> <td> 7.82e-05</td>\n",
       "</tr>\n",
       "<tr>\n",
       "  <th>HI_ratio</th>                              <td>   -0.0040</td> <td>    0.007</td> <td>   -0.565</td> <td> 0.573</td> <td>   -0.018</td> <td>    0.010</td>\n",
       "</tr>\n",
       "<tr>\n",
       "  <th>Year</th>                                  <td>-4.794e-05</td> <td> 4.11e-05</td> <td>   -1.167</td> <td> 0.245</td> <td>   -0.000</td> <td> 3.33e-05</td>\n",
       "</tr>\n",
       "<tr>\n",
       "  <th>County[T.Baltimore city, MD]</th>          <td>    0.0008</td> <td>    0.001</td> <td>    1.066</td> <td> 0.288</td> <td>   -0.001</td> <td>    0.002</td>\n",
       "</tr>\n",
       "<tr>\n",
       "  <th>County[T.Bexar County, TX]</th>            <td>   -0.0014</td> <td>    0.001</td> <td>   -1.800</td> <td> 0.074</td> <td>   -0.003</td> <td>    0.000</td>\n",
       "</tr>\n",
       "<tr>\n",
       "  <th>County[T.Bronx County, NY]</th>            <td>   -0.0004</td> <td>    0.001</td> <td>   -0.473</td> <td> 0.637</td> <td>   -0.002</td> <td>    0.001</td>\n",
       "</tr>\n",
       "<tr>\n",
       "  <th>County[T.Broward County, FL]</th>          <td>   -0.0010</td> <td>    0.001</td> <td>   -1.041</td> <td> 0.300</td> <td>   -0.003</td> <td>    0.001</td>\n",
       "</tr>\n",
       "<tr>\n",
       "  <th>County[T.Caddo Parish, LA]</th>            <td>    0.0071</td> <td>    0.001</td> <td>    9.217</td> <td> 0.000</td> <td>    0.006</td> <td>    0.009</td>\n",
       "</tr>\n",
       "<tr>\n",
       "  <th>County[T.Clark County, NV]</th>            <td> 4.647e-16</td> <td> 4.11e-16</td> <td>    1.129</td> <td> 0.261</td> <td> -3.5e-16</td> <td> 1.28e-15</td>\n",
       "</tr>\n",
       "<tr>\n",
       "  <th>County[T.Cook County, IL]</th>             <td>   -0.0009</td> <td>    0.001</td> <td>   -1.275</td> <td> 0.205</td> <td>   -0.002</td> <td>    0.001</td>\n",
       "</tr>\n",
       "<tr>\n",
       "  <th>County[T.Cuyahoga County, OH]</th>         <td>    0.0005</td> <td>    0.001</td> <td>    0.615</td> <td> 0.540</td> <td>   -0.001</td> <td>    0.002</td>\n",
       "</tr>\n",
       "<tr>\n",
       "  <th>County[T.Dallas County, TX]</th>           <td>   -0.0007</td> <td>    0.001</td> <td>   -0.860</td> <td> 0.391</td> <td>   -0.002</td> <td>    0.001</td>\n",
       "</tr>\n",
       "<tr>\n",
       "  <th>County[T.District of Columbia, DC]</th>    <td>    0.0001</td> <td>    0.001</td> <td>    0.127</td> <td> 0.899</td> <td>   -0.002</td> <td>    0.002</td>\n",
       "</tr>\n",
       "<tr>\n",
       "  <th>County[T.Duval County, FL]</th>            <td>-2.676e-17</td> <td> 8.56e-17</td> <td>   -0.313</td> <td> 0.755</td> <td>-1.96e-16</td> <td> 1.43e-16</td>\n",
       "</tr>\n",
       "<tr>\n",
       "  <th>County[T.East Baton Rouge Parish, LA]</th> <td>    0.0033</td> <td>    0.001</td> <td>    3.265</td> <td> 0.001</td> <td>    0.001</td> <td>    0.005</td>\n",
       "</tr>\n",
       "<tr>\n",
       "  <th>County[T.Essex County, NJ]</th>            <td>-8.506e-16</td> <td> 6.59e-16</td> <td>   -1.290</td> <td> 0.199</td> <td>-2.16e-15</td> <td> 4.54e-16</td>\n",
       "</tr>\n",
       "<tr>\n",
       "  <th>County[T.Franklin County, OH]</th>         <td>    0.0003</td> <td>    0.001</td> <td>    0.327</td> <td> 0.744</td> <td>   -0.002</td> <td>    0.002</td>\n",
       "</tr>\n",
       "<tr>\n",
       "  <th>County[T.Fresno County, CA]</th>           <td>   4.2e-05</td> <td>    0.001</td> <td>    0.042</td> <td> 0.966</td> <td>   -0.002</td> <td>    0.002</td>\n",
       "</tr>\n",
       "<tr>\n",
       "  <th>County[T.Fulton County, GA]</th>           <td>   -0.0004</td> <td>    0.001</td> <td>   -0.380</td> <td> 0.704</td> <td>   -0.002</td> <td>    0.002</td>\n",
       "</tr>\n",
       "<tr>\n",
       "  <th>County[T.Hamilton County, OH]</th>         <td>    0.0018</td> <td>    0.001</td> <td>    1.822</td> <td> 0.071</td> <td>   -0.000</td> <td>    0.004</td>\n",
       "</tr>\n",
       "<tr>\n",
       "  <th>County[T.Harris County, TX]</th>           <td>   -0.0015</td> <td>    0.001</td> <td>   -1.998</td> <td> 0.048</td> <td>   -0.003</td> <td>-1.46e-05</td>\n",
       "</tr>\n",
       "<tr>\n",
       "  <th>County[T.Hillsborough County, FL]</th>     <td>   -0.0004</td> <td>    0.001</td> <td>   -0.465</td> <td> 0.643</td> <td>   -0.002</td> <td>    0.001</td>\n",
       "</tr>\n",
       "<tr>\n",
       "  <th>County[T.Jefferson County, AL]</th>        <td>    0.0030</td> <td>    0.001</td> <td>    3.136</td> <td> 0.002</td> <td>    0.001</td> <td>    0.005</td>\n",
       "</tr>\n",
       "<tr>\n",
       "  <th>County[T.Kern County, CA]</th>             <td>   -0.0005</td> <td>    0.001</td> <td>   -0.487</td> <td> 0.627</td> <td>   -0.002</td> <td>    0.001</td>\n",
       "</tr>\n",
       "<tr>\n",
       "  <th>County[T.King County, WA]</th>             <td> 5.566e-16</td> <td> 3.48e-16</td> <td>    1.598</td> <td> 0.112</td> <td>-1.32e-16</td> <td> 1.25e-15</td>\n",
       "</tr>\n",
       "<tr>\n",
       "  <th>County[T.Kings County, NY]</th>            <td>   -0.0020</td> <td>    0.001</td> <td>   -2.369</td> <td> 0.019</td> <td>   -0.004</td> <td>   -0.000</td>\n",
       "</tr>\n",
       "<tr>\n",
       "  <th>County[T.Los Angeles County, CA]</th>      <td>   -0.0014</td> <td>    0.001</td> <td>   -2.001</td> <td> 0.048</td> <td>   -0.003</td> <td>-1.56e-05</td>\n",
       "</tr>\n",
       "<tr>\n",
       "  <th>County[T.Maricopa County, AZ]</th>         <td>   -0.0014</td> <td>    0.001</td> <td>   -2.001</td> <td> 0.048</td> <td>   -0.003</td> <td>-1.56e-05</td>\n",
       "</tr>\n",
       "<tr>\n",
       "  <th>County[T.Marion County, IN]</th>           <td>    0.0003</td> <td>    0.001</td> <td>    0.406</td> <td> 0.685</td> <td>   -0.001</td> <td>    0.002</td>\n",
       "</tr>\n",
       "<tr>\n",
       "  <th>County[T.Miami-Dade County, FL]</th>       <td> 1.587e-15</td> <td> 1.14e-15</td> <td>    1.388</td> <td> 0.168</td> <td>-6.76e-16</td> <td> 3.85e-15</td>\n",
       "</tr>\n",
       "<tr>\n",
       "  <th>County[T.Milwaukee County, WI]</th>        <td>    0.0008</td> <td>    0.001</td> <td>    1.021</td> <td> 0.309</td> <td>   -0.001</td> <td>    0.002</td>\n",
       "</tr>\n",
       "<tr>\n",
       "  <th>County[T.Mobile County, AL]</th>           <td>    0.0064</td> <td>    0.001</td> <td>    6.591</td> <td> 0.000</td> <td>    0.004</td> <td>    0.008</td>\n",
       "</tr>\n",
       "<tr>\n",
       "  <th>County[T.Oklahoma County, OK]</th>         <td>    0.0008</td> <td>    0.001</td> <td>    0.824</td> <td> 0.411</td> <td>   -0.001</td> <td>    0.003</td>\n",
       "</tr>\n",
       "<tr>\n",
       "  <th>County[T.Philadelphia County, PA]</th>     <td>   -0.0003</td> <td>    0.001</td> <td>   -0.435</td> <td> 0.664</td> <td>   -0.002</td> <td>    0.001</td>\n",
       "</tr>\n",
       "<tr>\n",
       "  <th>County[T.Prince George's County, MD]</th>  <td> 4.283e-06</td> <td>    0.001</td> <td>    0.005</td> <td> 0.996</td> <td>   -0.002</td> <td>    0.002</td>\n",
       "</tr>\n",
       "<tr>\n",
       "  <th>County[T.Queens County, NY]</th>           <td>   -0.0005</td> <td>    0.001</td> <td>   -0.659</td> <td> 0.511</td> <td>   -0.002</td> <td>    0.001</td>\n",
       "</tr>\n",
       "<tr>\n",
       "  <th>County[T.Riverside County, CA]</th>        <td>   -0.0013</td> <td>    0.001</td> <td>   -1.521</td> <td> 0.131</td> <td>   -0.003</td> <td>    0.000</td>\n",
       "</tr>\n",
       "<tr>\n",
       "  <th>County[T.San Bernardino County, CA]</th>   <td>   -0.0012</td> <td>    0.001</td> <td>   -1.607</td> <td> 0.111</td> <td>   -0.003</td> <td>    0.000</td>\n",
       "</tr>\n",
       "<tr>\n",
       "  <th>County[T.San Diego County, CA]</th>        <td>   -0.0016</td> <td>    0.001</td> <td>   -2.093</td> <td> 0.038</td> <td>   -0.003</td> <td>-8.51e-05</td>\n",
       "</tr>\n",
       "<tr>\n",
       "  <th>County[T.Shelby County, TN]</th>           <td>   -0.0002</td> <td>    0.001</td> <td>   -0.319</td> <td> 0.751</td> <td>   -0.002</td> <td>    0.001</td>\n",
       "</tr>\n",
       "<tr>\n",
       "  <th>County[T.St. Louis city, MO]</th>          <td>    0.0038</td> <td>    0.001</td> <td>    3.950</td> <td> 0.000</td> <td>    0.002</td> <td>    0.006</td>\n",
       "</tr>\n",
       "<tr>\n",
       "  <th>County[T.Tarrant County, TX]</th>          <td>   -0.0010</td> <td>    0.001</td> <td>   -1.219</td> <td> 0.225</td> <td>   -0.003</td> <td>    0.001</td>\n",
       "</tr>\n",
       "<tr>\n",
       "  <th>County[T.Wayne County, MI]</th>            <td>    0.0003</td> <td>    0.001</td> <td>    0.410</td> <td> 0.682</td> <td>   -0.001</td> <td>    0.002</td>\n",
       "</tr>\n",
       "<tr>\n",
       "  <th>County[T.Will County, IL]</th>             <td>-1.258e-05</td> <td>    0.001</td> <td>   -0.013</td> <td> 0.990</td> <td>   -0.002</td> <td>    0.002</td>\n",
       "</tr>\n",
       "<tr>\n",
       "  <th>County[T.Worcester County, MA]</th>        <td>    0.0018</td> <td>    0.001</td> <td>    1.850</td> <td> 0.067</td> <td>   -0.000</td> <td>    0.004</td>\n",
       "</tr>\n",
       "<tr>\n",
       "  <th>Race[T.White]</th>                         <td>   -0.0013</td> <td>    0.000</td> <td>   -8.125</td> <td> 0.000</td> <td>   -0.002</td> <td>   -0.001</td>\n",
       "</tr>\n",
       "<tr>\n",
       "  <th>Gender[T.Male]</th>                        <td>    0.0004</td> <td>    0.000</td> <td>    3.010</td> <td> 0.003</td> <td>    0.000</td> <td>    0.001</td>\n",
       "</tr>\n",
       "<tr>\n",
       "  <th>intercept</th>                             <td>    0.1002</td> <td>    0.082</td> <td>    1.225</td> <td> 0.223</td> <td>   -0.062</td> <td>    0.262</td>\n",
       "</tr>\n",
       "</table>\n",
       "<table class=\"simpletable\">\n",
       "<tr>\n",
       "  <th>Omnibus:</th>       <td>69.761</td> <th>  Durbin-Watson:     </th> <td>   2.216</td> \n",
       "</tr>\n",
       "<tr>\n",
       "  <th>Prob(Omnibus):</th> <td> 0.000</td> <th>  Jarque-Bera (JB):  </th> <td> 508.794</td> \n",
       "</tr>\n",
       "<tr>\n",
       "  <th>Skew:</th>          <td> 1.293</td> <th>  Prob(JB):          </th> <td>3.29e-111</td>\n",
       "</tr>\n",
       "<tr>\n",
       "  <th>Kurtosis:</th>      <td>11.071</td> <th>  Cond. No.          </th> <td>1.49e+20</td> \n",
       "</tr>\n",
       "</table>"
      ],
      "text/plain": [
       "<class 'statsmodels.iolib.summary.Summary'>\n",
       "\"\"\"\n",
       "                            OLS Regression Results                            \n",
       "==============================================================================\n",
       "Dep. Variable:            Death_ratio   R-squared:                       0.919\n",
       "Model:                            OLS   Adj. R-squared:                  0.892\n",
       "Method:                 Least Squares   F-statistic:                     34.35\n",
       "Date:                Wed, 13 Sep 2017   Prob (F-statistic):           8.09e-52\n",
       "Time:                        15:52:12   Log-Likelihood:                 1026.4\n",
       "No. Observations:                 170   AIC:                            -1967.\n",
       "Df Residuals:                     127   BIC:                            -1832.\n",
       "Df Model:                          42                                         \n",
       "Covariance Type:            nonrobust                                         \n",
       "=========================================================================================================\n",
       "                                            coef    std err          t      P>|t|      [0.025      0.975]\n",
       "---------------------------------------------------------------------------------------------------------\n",
       "unemployment_rate                     -2.728e-05   5.33e-05     -0.512      0.610      -0.000    7.82e-05\n",
       "HI_ratio                                 -0.0040      0.007     -0.565      0.573      -0.018       0.010\n",
       "Year                                  -4.794e-05   4.11e-05     -1.167      0.245      -0.000    3.33e-05\n",
       "County[T.Baltimore city, MD]              0.0008      0.001      1.066      0.288      -0.001       0.002\n",
       "County[T.Bexar County, TX]               -0.0014      0.001     -1.800      0.074      -0.003       0.000\n",
       "County[T.Bronx County, NY]               -0.0004      0.001     -0.473      0.637      -0.002       0.001\n",
       "County[T.Broward County, FL]             -0.0010      0.001     -1.041      0.300      -0.003       0.001\n",
       "County[T.Caddo Parish, LA]                0.0071      0.001      9.217      0.000       0.006       0.009\n",
       "County[T.Clark County, NV]             4.647e-16   4.11e-16      1.129      0.261    -3.5e-16    1.28e-15\n",
       "County[T.Cook County, IL]                -0.0009      0.001     -1.275      0.205      -0.002       0.001\n",
       "County[T.Cuyahoga County, OH]             0.0005      0.001      0.615      0.540      -0.001       0.002\n",
       "County[T.Dallas County, TX]              -0.0007      0.001     -0.860      0.391      -0.002       0.001\n",
       "County[T.District of Columbia, DC]        0.0001      0.001      0.127      0.899      -0.002       0.002\n",
       "County[T.Duval County, FL]            -2.676e-17   8.56e-17     -0.313      0.755   -1.96e-16    1.43e-16\n",
       "County[T.East Baton Rouge Parish, LA]     0.0033      0.001      3.265      0.001       0.001       0.005\n",
       "County[T.Essex County, NJ]            -8.506e-16   6.59e-16     -1.290      0.199   -2.16e-15    4.54e-16\n",
       "County[T.Franklin County, OH]             0.0003      0.001      0.327      0.744      -0.002       0.002\n",
       "County[T.Fresno County, CA]              4.2e-05      0.001      0.042      0.966      -0.002       0.002\n",
       "County[T.Fulton County, GA]              -0.0004      0.001     -0.380      0.704      -0.002       0.002\n",
       "County[T.Hamilton County, OH]             0.0018      0.001      1.822      0.071      -0.000       0.004\n",
       "County[T.Harris County, TX]              -0.0015      0.001     -1.998      0.048      -0.003   -1.46e-05\n",
       "County[T.Hillsborough County, FL]        -0.0004      0.001     -0.465      0.643      -0.002       0.001\n",
       "County[T.Jefferson County, AL]            0.0030      0.001      3.136      0.002       0.001       0.005\n",
       "County[T.Kern County, CA]                -0.0005      0.001     -0.487      0.627      -0.002       0.001\n",
       "County[T.King County, WA]              5.566e-16   3.48e-16      1.598      0.112   -1.32e-16    1.25e-15\n",
       "County[T.Kings County, NY]               -0.0020      0.001     -2.369      0.019      -0.004      -0.000\n",
       "County[T.Los Angeles County, CA]         -0.0014      0.001     -2.001      0.048      -0.003   -1.56e-05\n",
       "County[T.Maricopa County, AZ]            -0.0014      0.001     -2.001      0.048      -0.003   -1.56e-05\n",
       "County[T.Marion County, IN]               0.0003      0.001      0.406      0.685      -0.001       0.002\n",
       "County[T.Miami-Dade County, FL]        1.587e-15   1.14e-15      1.388      0.168   -6.76e-16    3.85e-15\n",
       "County[T.Milwaukee County, WI]            0.0008      0.001      1.021      0.309      -0.001       0.002\n",
       "County[T.Mobile County, AL]               0.0064      0.001      6.591      0.000       0.004       0.008\n",
       "County[T.Oklahoma County, OK]             0.0008      0.001      0.824      0.411      -0.001       0.003\n",
       "County[T.Philadelphia County, PA]        -0.0003      0.001     -0.435      0.664      -0.002       0.001\n",
       "County[T.Prince George's County, MD]   4.283e-06      0.001      0.005      0.996      -0.002       0.002\n",
       "County[T.Queens County, NY]              -0.0005      0.001     -0.659      0.511      -0.002       0.001\n",
       "County[T.Riverside County, CA]           -0.0013      0.001     -1.521      0.131      -0.003       0.000\n",
       "County[T.San Bernardino County, CA]      -0.0012      0.001     -1.607      0.111      -0.003       0.000\n",
       "County[T.San Diego County, CA]           -0.0016      0.001     -2.093      0.038      -0.003   -8.51e-05\n",
       "County[T.Shelby County, TN]              -0.0002      0.001     -0.319      0.751      -0.002       0.001\n",
       "County[T.St. Louis city, MO]              0.0038      0.001      3.950      0.000       0.002       0.006\n",
       "County[T.Tarrant County, TX]             -0.0010      0.001     -1.219      0.225      -0.003       0.001\n",
       "County[T.Wayne County, MI]                0.0003      0.001      0.410      0.682      -0.001       0.002\n",
       "County[T.Will County, IL]             -1.258e-05      0.001     -0.013      0.990      -0.002       0.002\n",
       "County[T.Worcester County, MA]            0.0018      0.001      1.850      0.067      -0.000       0.004\n",
       "Race[T.White]                            -0.0013      0.000     -8.125      0.000      -0.002      -0.001\n",
       "Gender[T.Male]                            0.0004      0.000      3.010      0.003       0.000       0.001\n",
       "intercept                                 0.1002      0.082      1.225      0.223      -0.062       0.262\n",
       "==============================================================================\n",
       "Omnibus:                       69.761   Durbin-Watson:                   2.216\n",
       "Prob(Omnibus):                  0.000   Jarque-Bera (JB):              508.794\n",
       "Skew:                           1.293   Prob(JB):                    3.29e-111\n",
       "Kurtosis:                      11.071   Cond. No.                     1.49e+20\n",
       "==============================================================================\n",
       "\n",
       "Warnings:\n",
       "[1] Standard Errors assume that the covariance matrix of the errors is correctly specified.\n",
       "[2] The smallest eigenvalue is 3.1e-32. This might indicate that there are\n",
       "strong multicollinearity problems or that the design matrix is singular.\n",
       "\"\"\""
      ]
     },
     "execution_count": 53,
     "metadata": {},
     "output_type": "execute_result"
    }
   ],
   "source": [
    "new_model = sm.OLS(y_train_new, x_train_new)\n",
    "new_fit = new_model.fit()\n",
    "new_fit.summary()\n"
   ]
  },
  {
   "cell_type": "code",
   "execution_count": null,
   "metadata": {
    "collapsed": true,
    "scrolled": true
   },
   "outputs": [],
   "source": []
  },
  {
   "cell_type": "markdown",
   "metadata": {
    "collapsed": true
   },
   "source": [
    "# Scikit-Learn Linear Regression, Ridge, Lasso"
   ]
  },
  {
   "cell_type": "code",
   "execution_count": 56,
   "metadata": {
    "collapsed": true
   },
   "outputs": [],
   "source": [
    "lr = LinearRegression()\n",
    "lr.fit(x_train_new, y_train_new)\n",
    "lrpredict = lr.predict(x_test_new)\n"
   ]
  },
  {
   "cell_type": "code",
   "execution_count": 57,
   "metadata": {},
   "outputs": [
    {
     "data": {
      "text/plain": [
       "0.91909460761032069"
      ]
     },
     "execution_count": 57,
     "metadata": {},
     "output_type": "execute_result"
    }
   ],
   "source": [
    "lr.score(x_train_new, y_train_new)"
   ]
  },
  {
   "cell_type": "code",
   "execution_count": 58,
   "metadata": {},
   "outputs": [
    {
     "data": {
      "text/plain": [
       "0.78669924637161359"
      ]
     },
     "execution_count": 58,
     "metadata": {},
     "output_type": "execute_result"
    }
   ],
   "source": [
    "lr.score(x_test_new, y_test_new)"
   ]
  },
  {
   "cell_type": "code",
   "execution_count": 59,
   "metadata": {
    "collapsed": true
   },
   "outputs": [],
   "source": [
    "ridge = Ridge()\n",
    "ridge.fit(x_train_new, y_train_new)\n",
    "ridgepredict = ridge.predict(x_test_new)"
   ]
  },
  {
   "cell_type": "code",
   "execution_count": 60,
   "metadata": {},
   "outputs": [
    {
     "data": {
      "text/plain": [
       "0.87374994010663687"
      ]
     },
     "execution_count": 60,
     "metadata": {},
     "output_type": "execute_result"
    }
   ],
   "source": [
    "ridge.score(x_train_new, y_train_new)"
   ]
  },
  {
   "cell_type": "code",
   "execution_count": 61,
   "metadata": {},
   "outputs": [
    {
     "data": {
      "text/plain": [
       "0.79960619449445758"
      ]
     },
     "execution_count": 61,
     "metadata": {},
     "output_type": "execute_result"
    }
   ],
   "source": [
    "ridge.score(x_test_new, y_test_new)"
   ]
  },
  {
   "cell_type": "code",
   "execution_count": 62,
   "metadata": {
    "collapsed": true
   },
   "outputs": [],
   "source": [
    "lasso = Lasso()\n",
    "lasso.fit(x_train_new, y_train_new)\n",
    "lassopredict = lasso.predict(x_test_new)"
   ]
  },
  {
   "cell_type": "code",
   "execution_count": 63,
   "metadata": {},
   "outputs": [
    {
     "data": {
      "text/plain": [
       "0.0"
      ]
     },
     "execution_count": 63,
     "metadata": {},
     "output_type": "execute_result"
    }
   ],
   "source": [
    "lasso.score(x_train_new, y_train_new)"
   ]
  },
  {
   "cell_type": "code",
   "execution_count": 64,
   "metadata": {},
   "outputs": [
    {
     "data": {
      "text/plain": [
       "-0.0037065366925406185"
      ]
     },
     "execution_count": 64,
     "metadata": {},
     "output_type": "execute_result"
    }
   ],
   "source": [
    "lasso.score(x_test_new, y_test_new)"
   ]
  },
  {
   "cell_type": "code",
   "execution_count": null,
   "metadata": {
    "collapsed": true,
    "scrolled": true
   },
   "outputs": [],
   "source": []
  },
  {
   "cell_type": "markdown",
   "metadata": {},
   "source": [
    "# Standard Scaling"
   ]
  },
  {
   "cell_type": "code",
   "execution_count": 65,
   "metadata": {
    "collapsed": true,
    "scrolled": true
   },
   "outputs": [],
   "source": [
    "# Create new x,y that has non-categorical variables standardized\n",
    "\n",
    "x_newdf = new_df.drop('Death_ratio', axis=1)\n",
    "y_newdf = new_df.Death_ratio"
   ]
  },
  {
   "cell_type": "code",
   "execution_count": 66,
   "metadata": {
    "collapsed": true
   },
   "outputs": [],
   "source": [
    "x_train_newdf, x_test_newdf, y_train_newdf, y_test_newdf = train_test_split(x_newdf, y_newdf, \n",
    "                                                                           test_size=0.25, random_state=20)"
   ]
  },
  {
   "cell_type": "code",
   "execution_count": 67,
   "metadata": {},
   "outputs": [
    {
     "name": "stderr",
     "output_type": "stream",
     "text": [
      "/Users/allandong/anaconda/lib/python3.6/site-packages/ipykernel_launcher.py:7: SettingWithCopyWarning: \n",
      "A value is trying to be set on a copy of a slice from a DataFrame\n",
      "\n",
      "See the caveats in the documentation: http://pandas.pydata.org/pandas-docs/stable/indexing.html#indexing-view-versus-copy\n",
      "  import sys\n",
      "/Users/allandong/anaconda/lib/python3.6/site-packages/ipykernel_launcher.py:9: SettingWithCopyWarning: \n",
      "A value is trying to be set on a copy of a slice from a DataFrame\n",
      "\n",
      "See the caveats in the documentation: http://pandas.pydata.org/pandas-docs/stable/indexing.html#indexing-view-versus-copy\n",
      "  if __name__ == '__main__':\n"
     ]
    }
   ],
   "source": [
    "new_df2 = new_df1.drop(['unemployment_rate', 'HI_ratio', 'Death_ratio'], axis=1)\n",
    "\n",
    "x_train_patsy, x_test_patsy = train_test_split(new_df2, test_size=0.25, random_state=20)\n",
    "\n",
    "\n",
    "x_train_patsy.reset_index(inplace=True)\n",
    "x_train_patsy.drop('index', axis=1, inplace=True)\n",
    "x_test_patsy.reset_index(inplace=True)\n",
    "x_test_patsy.drop('index', axis=1, inplace=True)\n"
   ]
  },
  {
   "cell_type": "code",
   "execution_count": null,
   "metadata": {
    "collapsed": true
   },
   "outputs": [],
   "source": []
  },
  {
   "cell_type": "code",
   "execution_count": 68,
   "metadata": {
    "collapsed": true,
    "scrolled": true
   },
   "outputs": [],
   "source": [
    "ss = StandardScaler()\n",
    "ss.fit(x_train_newdf)\n",
    "\n",
    "ss_x_newdf_train = ss.transform(x_train_newdf)\n",
    "ss_x_newdf_test = ss.transform(x_test_newdf)\n",
    "\n",
    "df_newdf_trainx_ss = pd.DataFrame(ss_x_newdf_train, columns=['unemployment_rate', 'HI_ratio'])\n",
    "df_newdf_testx_ss = pd.DataFrame(ss_x_newdf_test, columns=['unemployment_rate', 'HI_ratio'])\n",
    "\n",
    "\n",
    "df_newdf_trainx = pd.concat([df_newdf_trainx_ss, x_train_patsy], axis=1)\n",
    "df_newdf_trainx['intercept'] = np.ones(len(df_newdf_trainx))\n",
    "\n",
    "df_newdf_testx = pd.concat([df_newdf_testx_ss, x_test_patsy], axis=1)\n",
    "df_newdf_testx['intercept'] = np.ones(len(df_newdf_testx))"
   ]
  },
  {
   "cell_type": "code",
   "execution_count": 78,
   "metadata": {
    "collapsed": true
   },
   "outputs": [],
   "source": [
    "# Linear Regression\n",
    "lr = LinearRegression()\n",
    "lr.fit(df_newdf_trainx, y_train_new)\n",
    "lrpredict = lr.predict(x_test_new)\n"
   ]
  },
  {
   "cell_type": "code",
   "execution_count": 119,
   "metadata": {},
   "outputs": [
    {
     "data": {
      "text/plain": [
       "0.78669924637161992"
      ]
     },
     "execution_count": 119,
     "metadata": {},
     "output_type": "execute_result"
    }
   ],
   "source": [
    "lr.score(df_newdf_testx, y_test_new)"
   ]
  },
  {
   "cell_type": "code",
   "execution_count": 80,
   "metadata": {
    "collapsed": true,
    "scrolled": true
   },
   "outputs": [],
   "source": [
    "# Ridge Regression\n",
    "ridge = Ridge()\n",
    "ridge.fit(df_newdf_trainx, y_train_newdf)\n",
    "ridgepredict = ridge.predict(df_newdf_testx)"
   ]
  },
  {
   "cell_type": "code",
   "execution_count": 120,
   "metadata": {
    "scrolled": true
   },
   "outputs": [
    {
     "data": {
      "text/plain": [
       "0.81310764413188585"
      ]
     },
     "execution_count": 120,
     "metadata": {},
     "output_type": "execute_result"
    }
   ],
   "source": [
    "ridge.score(df_newdf_testx, y_test_new)"
   ]
  },
  {
   "cell_type": "code",
   "execution_count": 82,
   "metadata": {
    "collapsed": true
   },
   "outputs": [],
   "source": [
    "lasso = Lasso()\n",
    "lasso.fit(df_newdf_trainx, y_train_newdf)\n",
    "lassopredict = lasso.predict(df_newdf_testx)"
   ]
  },
  {
   "cell_type": "code",
   "execution_count": 83,
   "metadata": {},
   "outputs": [
    {
     "data": {
      "text/plain": [
       "0.0"
      ]
     },
     "execution_count": 83,
     "metadata": {},
     "output_type": "execute_result"
    }
   ],
   "source": [
    "lasso.score(df_newdf_trainx, y_train_newdf)"
   ]
  },
  {
   "cell_type": "code",
   "execution_count": 84,
   "metadata": {},
   "outputs": [
    {
     "name": "stderr",
     "output_type": "stream",
     "text": [
      "/Users/allandong/anaconda/lib/python3.6/site-packages/ipykernel_launcher.py:7: UserWarning: With alpha=0, this algorithm does not converge well. You are advised to use the LinearRegression estimator\n",
      "  import sys\n",
      "/Users/allandong/anaconda/lib/python3.6/site-packages/sklearn/linear_model/coordinate_descent.py:470: UserWarning: Coordinate descent with alpha=0 may lead to unexpected results and is discouraged.\n",
      "  positive)\n",
      "/Users/allandong/anaconda/lib/python3.6/site-packages/sklearn/linear_model/coordinate_descent.py:484: ConvergenceWarning: Objective did not converge. You might want to increase the number of iterations. Fitting data with very small alpha may cause precision problems.\n",
      "  ConvergenceWarning)\n"
     ]
    },
    {
     "data": {
      "text/plain": [
       "[6.256444920472025e-07,\n",
       " 2.5766085101140765e-06,\n",
       " 2.5886955009738173e-06,\n",
       " 6.215773886838004e-07,\n",
       " 2.9210088243737206e-06,\n",
       " 8.54099367587453e-06,\n",
       " 8.54099367587453e-06]"
      ]
     },
     "execution_count": 84,
     "metadata": {},
     "output_type": "execute_result"
    }
   ],
   "source": [
    "alphas=[1e-5,1e-3,1e-1,0,1,100, 1000]\n",
    "all_scores=[]\n",
    "\n",
    "\n",
    "for a in alphas:\n",
    "    est=Lasso(alpha=a,fit_intercept=False)\n",
    "    est.fit(df_newdf_trainx, y_train_newdf)\n",
    "    mse=np.mean((y_test_newdf-est.predict(df_newdf_testx))**2)\n",
    "    all_scores.append(mse)\n",
    "\n",
    "    \n",
    "all_scores"
   ]
  },
  {
   "cell_type": "code",
   "execution_count": null,
   "metadata": {
    "collapsed": true
   },
   "outputs": [],
   "source": [
    "\n"
   ]
  },
  {
   "cell_type": "code",
   "execution_count": 114,
   "metadata": {
    "collapsed": true
   },
   "outputs": [],
   "source": [
    "# plt.figure(figsize=(8,6))\n",
    "# #plt.ylim(0,0.1)\n",
    "# plt.legend()\n",
    "# for i in range(7):\n",
    "#     plt.plot(alphas[i], all_scores[i])\n",
    "# plt.legend()\n",
    "# plt.xlabel('alphas')\n",
    "# plt.ylabel('MSE')\n",
    "# plt.show()"
   ]
  },
  {
   "cell_type": "code",
   "execution_count": null,
   "metadata": {
    "collapsed": true
   },
   "outputs": [],
   "source": []
  },
  {
   "cell_type": "code",
   "execution_count": null,
   "metadata": {
    "collapsed": true
   },
   "outputs": [],
   "source": []
  },
  {
   "cell_type": "code",
   "execution_count": 86,
   "metadata": {
    "scrolled": true
   },
   "outputs": [
    {
     "name": "stderr",
     "output_type": "stream",
     "text": [
      "/Users/allandong/anaconda/lib/python3.6/site-packages/statsmodels/base/model.py:1036: RuntimeWarning: invalid value encountered in true_divide\n",
      "  return self.params / self.bse\n",
      "/Users/allandong/anaconda/lib/python3.6/site-packages/scipy/stats/_distn_infrastructure.py:879: RuntimeWarning: invalid value encountered in greater\n",
      "  return (self.a < x) & (x < self.b)\n",
      "/Users/allandong/anaconda/lib/python3.6/site-packages/scipy/stats/_distn_infrastructure.py:879: RuntimeWarning: invalid value encountered in less\n",
      "  return (self.a < x) & (x < self.b)\n",
      "/Users/allandong/anaconda/lib/python3.6/site-packages/scipy/stats/_distn_infrastructure.py:1818: RuntimeWarning: invalid value encountered in less_equal\n",
      "  cond2 = cond0 & (x <= self.a)\n"
     ]
    },
    {
     "data": {
      "text/html": [
       "<table class=\"simpletable\">\n",
       "<caption>OLS Regression Results</caption>\n",
       "<tr>\n",
       "  <th>Dep. Variable:</th>       <td>Death_ratio</td>   <th>  R-squared:         </th> <td>   0.940</td>\n",
       "</tr>\n",
       "<tr>\n",
       "  <th>Model:</th>                   <td>OLS</td>       <th>  Adj. R-squared:    </th> <td>   0.892</td>\n",
       "</tr>\n",
       "<tr>\n",
       "  <th>Method:</th>             <td>Least Squares</td>  <th>  F-statistic:       </th> <td>   19.53</td>\n",
       "</tr>\n",
       "<tr>\n",
       "  <th>Date:</th>             <td>Wed, 13 Sep 2017</td> <th>  Prob (F-statistic):</th> <td>8.39e-13</td>\n",
       "</tr>\n",
       "<tr>\n",
       "  <th>Time:</th>                 <td>15:53:53</td>     <th>  Log-Likelihood:    </th> <td>  366.32</td>\n",
       "</tr>\n",
       "<tr>\n",
       "  <th>No. Observations:</th>      <td>    57</td>      <th>  AIC:               </th> <td>  -680.6</td>\n",
       "</tr>\n",
       "<tr>\n",
       "  <th>Df Residuals:</th>          <td>    31</td>      <th>  BIC:               </th> <td>  -627.5</td>\n",
       "</tr>\n",
       "<tr>\n",
       "  <th>Df Model:</th>              <td>    25</td>      <th>                     </th>     <td> </td>   \n",
       "</tr>\n",
       "<tr>\n",
       "  <th>Covariance Type:</th>      <td>nonrobust</td>    <th>                     </th>     <td> </td>   \n",
       "</tr>\n",
       "</table>\n",
       "<table class=\"simpletable\">\n",
       "<tr>\n",
       "                    <td></td>                       <th>coef</th>     <th>std err</th>      <th>t</th>      <th>P>|t|</th>  <th>[0.025</th>    <th>0.975]</th>  \n",
       "</tr>\n",
       "<tr>\n",
       "  <th>unemployment_rate</th>                     <td>   2.7e-05</td> <td>    0.000</td> <td>    0.161</td> <td> 0.873</td> <td>   -0.000</td> <td>    0.000</td>\n",
       "</tr>\n",
       "<tr>\n",
       "  <th>HI_ratio</th>                              <td> 3.818e-05</td> <td>    0.000</td> <td>    0.179</td> <td> 0.859</td> <td>   -0.000</td> <td>    0.000</td>\n",
       "</tr>\n",
       "<tr>\n",
       "  <th>Year</th>                                  <td>-9.286e-05</td> <td> 7.29e-05</td> <td>   -1.275</td> <td> 0.212</td> <td>   -0.000</td> <td> 5.57e-05</td>\n",
       "</tr>\n",
       "<tr>\n",
       "  <th>County[T.Baltimore city, MD]</th>          <td>    0.0109</td> <td>    0.006</td> <td>    1.716</td> <td> 0.096</td> <td>   -0.002</td> <td>    0.024</td>\n",
       "</tr>\n",
       "<tr>\n",
       "  <th>County[T.Bexar County, TX]</th>            <td>    0.0083</td> <td>    0.007</td> <td>    1.215</td> <td> 0.233</td> <td>   -0.006</td> <td>    0.022</td>\n",
       "</tr>\n",
       "<tr>\n",
       "  <th>County[T.Bronx County, NY]</th>            <td>-4.998e-15</td> <td> 3.85e-15</td> <td>   -1.298</td> <td> 0.204</td> <td>-1.29e-14</td> <td> 2.86e-15</td>\n",
       "</tr>\n",
       "<tr>\n",
       "  <th>County[T.Broward County, FL]</th>          <td>    0.0080</td> <td>    0.007</td> <td>    1.184</td> <td> 0.246</td> <td>   -0.006</td> <td>    0.022</td>\n",
       "</tr>\n",
       "<tr>\n",
       "  <th>County[T.Caddo Parish, LA]</th>            <td>-2.239e-15</td> <td> 1.73e-15</td> <td>   -1.298</td> <td> 0.204</td> <td>-5.76e-15</td> <td> 1.28e-15</td>\n",
       "</tr>\n",
       "<tr>\n",
       "  <th>County[T.Clark County, NV]</th>            <td>    0.0082</td> <td>    0.007</td> <td>    1.212</td> <td> 0.235</td> <td>   -0.006</td> <td>    0.022</td>\n",
       "</tr>\n",
       "<tr>\n",
       "  <th>County[T.Cook County, IL]</th>             <td>    0.0080</td> <td>    0.007</td> <td>    1.207</td> <td> 0.237</td> <td>   -0.006</td> <td>    0.022</td>\n",
       "</tr>\n",
       "<tr>\n",
       "  <th>County[T.Cuyahoga County, OH]</th>         <td>-2.034e-15</td> <td> 1.57e-15</td> <td>   -1.297</td> <td> 0.204</td> <td>-5.23e-15</td> <td> 1.17e-15</td>\n",
       "</tr>\n",
       "<tr>\n",
       "  <th>County[T.Dallas County, TX]</th>           <td>    0.0088</td> <td>    0.007</td> <td>    1.279</td> <td> 0.210</td> <td>   -0.005</td> <td>    0.023</td>\n",
       "</tr>\n",
       "<tr>\n",
       "  <th>County[T.District of Columbia, DC]</th>    <td> 2.941e-15</td> <td> 2.27e-15</td> <td>    1.297</td> <td> 0.204</td> <td>-1.69e-15</td> <td> 7.57e-15</td>\n",
       "</tr>\n",
       "<tr>\n",
       "  <th>County[T.Duval County, FL]</th>            <td>    0.0095</td> <td>    0.006</td> <td>    1.522</td> <td> 0.138</td> <td>   -0.003</td> <td>    0.022</td>\n",
       "</tr>\n",
       "<tr>\n",
       "  <th>County[T.East Baton Rouge Parish, LA]</th> <td>    0.0115</td> <td>    0.007</td> <td>    1.670</td> <td> 0.105</td> <td>   -0.003</td> <td>    0.026</td>\n",
       "</tr>\n",
       "<tr>\n",
       "  <th>County[T.Essex County, NJ]</th>            <td>    0.0090</td> <td>    0.007</td> <td>    1.359</td> <td> 0.184</td> <td>   -0.004</td> <td>    0.022</td>\n",
       "</tr>\n",
       "<tr>\n",
       "  <th>County[T.Franklin County, OH]</th>         <td>    0.0092</td> <td>    0.007</td> <td>    1.312</td> <td> 0.199</td> <td>   -0.005</td> <td>    0.024</td>\n",
       "</tr>\n",
       "<tr>\n",
       "  <th>County[T.Fresno County, CA]</th>           <td> 5.664e-16</td> <td> 4.37e-16</td> <td>    1.296</td> <td> 0.205</td> <td>-3.25e-16</td> <td> 1.46e-15</td>\n",
       "</tr>\n",
       "<tr>\n",
       "  <th>County[T.Fulton County, GA]</th>           <td>-9.864e-16</td> <td> 7.61e-16</td> <td>   -1.297</td> <td> 0.204</td> <td>-2.54e-15</td> <td> 5.65e-16</td>\n",
       "</tr>\n",
       "<tr>\n",
       "  <th>County[T.Hamilton County, OH]</th>         <td> 1.403e-15</td> <td> 1.08e-15</td> <td>    1.296</td> <td> 0.204</td> <td>-8.05e-16</td> <td> 3.61e-15</td>\n",
       "</tr>\n",
       "<tr>\n",
       "  <th>County[T.Harris County, TX]</th>           <td>    0.0077</td> <td>    0.007</td> <td>    1.107</td> <td> 0.277</td> <td>   -0.006</td> <td>    0.022</td>\n",
       "</tr>\n",
       "<tr>\n",
       "  <th>County[T.Hillsborough County, FL]</th>     <td> 4.245e-17</td> <td> 3.26e-17</td> <td>    1.300</td> <td> 0.203</td> <td>-2.41e-17</td> <td> 1.09e-16</td>\n",
       "</tr>\n",
       "<tr>\n",
       "  <th>County[T.Jefferson County, AL]</th>        <td> 8.573e-17</td> <td> 6.64e-17</td> <td>    1.291</td> <td> 0.206</td> <td>-4.97e-17</td> <td> 2.21e-16</td>\n",
       "</tr>\n",
       "<tr>\n",
       "  <th>County[T.Kern County, CA]</th>             <td> 5.711e-17</td> <td> 4.41e-17</td> <td>    1.296</td> <td> 0.205</td> <td>-3.28e-17</td> <td> 1.47e-16</td>\n",
       "</tr>\n",
       "<tr>\n",
       "  <th>County[T.King County, WA]</th>             <td>    0.0083</td> <td>    0.007</td> <td>    1.254</td> <td> 0.219</td> <td>   -0.005</td> <td>    0.022</td>\n",
       "</tr>\n",
       "<tr>\n",
       "  <th>County[T.Kings County, NY]</th>            <td>    0.0067</td> <td>    0.007</td> <td>    1.022</td> <td> 0.314</td> <td>   -0.007</td> <td>    0.020</td>\n",
       "</tr>\n",
       "<tr>\n",
       "  <th>County[T.Los Angeles County, CA]</th>      <td>    0.0074</td> <td>    0.007</td> <td>    1.118</td> <td> 0.272</td> <td>   -0.006</td> <td>    0.021</td>\n",
       "</tr>\n",
       "<tr>\n",
       "  <th>County[T.Maricopa County, AZ]</th>         <td>    0.0076</td> <td>    0.006</td> <td>    1.177</td> <td> 0.248</td> <td>   -0.006</td> <td>    0.021</td>\n",
       "</tr>\n",
       "<tr>\n",
       "  <th>County[T.Marion County, IN]</th>           <td>         0</td> <td>        0</td> <td>      nan</td> <td>   nan</td> <td>        0</td> <td>        0</td>\n",
       "</tr>\n",
       "<tr>\n",
       "  <th>County[T.Miami-Dade County, FL]</th>       <td>    0.0080</td> <td>    0.007</td> <td>    1.182</td> <td> 0.246</td> <td>   -0.006</td> <td>    0.022</td>\n",
       "</tr>\n",
       "<tr>\n",
       "  <th>County[T.Milwaukee County, WI]</th>        <td>    0.0107</td> <td>    0.007</td> <td>    1.585</td> <td> 0.123</td> <td>   -0.003</td> <td>    0.025</td>\n",
       "</tr>\n",
       "<tr>\n",
       "  <th>County[T.Mobile County, AL]</th>           <td>         0</td> <td>        0</td> <td>      nan</td> <td>   nan</td> <td>        0</td> <td>        0</td>\n",
       "</tr>\n",
       "<tr>\n",
       "  <th>County[T.Oklahoma County, OK]</th>         <td>         0</td> <td>        0</td> <td>      nan</td> <td>   nan</td> <td>        0</td> <td>        0</td>\n",
       "</tr>\n",
       "<tr>\n",
       "  <th>County[T.Philadelphia County, PA]</th>     <td>    0.0075</td> <td>    0.006</td> <td>    1.168</td> <td> 0.252</td> <td>   -0.006</td> <td>    0.021</td>\n",
       "</tr>\n",
       "<tr>\n",
       "  <th>County[T.Prince George's County, MD]</th>  <td>         0</td> <td>        0</td> <td>      nan</td> <td>   nan</td> <td>        0</td> <td>        0</td>\n",
       "</tr>\n",
       "<tr>\n",
       "  <th>County[T.Queens County, NY]</th>           <td>         0</td> <td>        0</td> <td>      nan</td> <td>   nan</td> <td>        0</td> <td>        0</td>\n",
       "</tr>\n",
       "<tr>\n",
       "  <th>County[T.Riverside County, CA]</th>        <td>         0</td> <td>        0</td> <td>      nan</td> <td>   nan</td> <td>        0</td> <td>        0</td>\n",
       "</tr>\n",
       "<tr>\n",
       "  <th>County[T.San Bernardino County, CA]</th>   <td>         0</td> <td>        0</td> <td>      nan</td> <td>   nan</td> <td>        0</td> <td>        0</td>\n",
       "</tr>\n",
       "<tr>\n",
       "  <th>County[T.San Diego County, CA]</th>        <td>         0</td> <td>        0</td> <td>      nan</td> <td>   nan</td> <td>        0</td> <td>        0</td>\n",
       "</tr>\n",
       "<tr>\n",
       "  <th>County[T.Shelby County, TN]</th>           <td>    0.0092</td> <td>    0.007</td> <td>    1.396</td> <td> 0.173</td> <td>   -0.004</td> <td>    0.023</td>\n",
       "</tr>\n",
       "<tr>\n",
       "  <th>County[T.St. Louis city, MO]</th>          <td>         0</td> <td>        0</td> <td>      nan</td> <td>   nan</td> <td>        0</td> <td>        0</td>\n",
       "</tr>\n",
       "<tr>\n",
       "  <th>County[T.Tarrant County, TX]</th>          <td>    0.0082</td> <td>    0.007</td> <td>    1.202</td> <td> 0.239</td> <td>   -0.006</td> <td>    0.022</td>\n",
       "</tr>\n",
       "<tr>\n",
       "  <th>County[T.Wayne County, MI]</th>            <td>    0.0085</td> <td>    0.007</td> <td>    1.295</td> <td> 0.205</td> <td>   -0.005</td> <td>    0.022</td>\n",
       "</tr>\n",
       "<tr>\n",
       "  <th>County[T.Will County, IL]</th>             <td>         0</td> <td>        0</td> <td>      nan</td> <td>   nan</td> <td>        0</td> <td>        0</td>\n",
       "</tr>\n",
       "<tr>\n",
       "  <th>County[T.Worcester County, MA]</th>        <td>         0</td> <td>        0</td> <td>      nan</td> <td>   nan</td> <td>        0</td> <td>        0</td>\n",
       "</tr>\n",
       "<tr>\n",
       "  <th>Race[T.White]</th>                         <td>   -0.0016</td> <td>    0.000</td> <td>   -5.943</td> <td> 0.000</td> <td>   -0.002</td> <td>   -0.001</td>\n",
       "</tr>\n",
       "<tr>\n",
       "  <th>Gender[T.Male]</th>                        <td>-3.364e-05</td> <td>    0.000</td> <td>   -0.152</td> <td> 0.880</td> <td>   -0.000</td> <td>    0.000</td>\n",
       "</tr>\n",
       "<tr>\n",
       "  <th>intercept</th>                             <td>    0.1813</td> <td>    0.140</td> <td>    1.296</td> <td> 0.204</td> <td>   -0.104</td> <td>    0.466</td>\n",
       "</tr>\n",
       "</table>\n",
       "<table class=\"simpletable\">\n",
       "<tr>\n",
       "  <th>Omnibus:</th>       <td> 4.510</td> <th>  Durbin-Watson:     </th> <td>   2.220</td>\n",
       "</tr>\n",
       "<tr>\n",
       "  <th>Prob(Omnibus):</th> <td> 0.105</td> <th>  Jarque-Bera (JB):  </th> <td>   5.291</td>\n",
       "</tr>\n",
       "<tr>\n",
       "  <th>Skew:</th>          <td>-0.092</td> <th>  Prob(JB):          </th> <td>  0.0710</td>\n",
       "</tr>\n",
       "<tr>\n",
       "  <th>Kurtosis:</th>      <td> 4.481</td> <th>  Cond. No.          </th> <td>1.19e+19</td>\n",
       "</tr>\n",
       "</table>"
      ],
      "text/plain": [
       "<class 'statsmodels.iolib.summary.Summary'>\n",
       "\"\"\"\n",
       "                            OLS Regression Results                            \n",
       "==============================================================================\n",
       "Dep. Variable:            Death_ratio   R-squared:                       0.940\n",
       "Model:                            OLS   Adj. R-squared:                  0.892\n",
       "Method:                 Least Squares   F-statistic:                     19.53\n",
       "Date:                Wed, 13 Sep 2017   Prob (F-statistic):           8.39e-13\n",
       "Time:                        15:53:53   Log-Likelihood:                 366.32\n",
       "No. Observations:                  57   AIC:                            -680.6\n",
       "Df Residuals:                      31   BIC:                            -627.5\n",
       "Df Model:                          25                                         \n",
       "Covariance Type:            nonrobust                                         \n",
       "=========================================================================================================\n",
       "                                            coef    std err          t      P>|t|      [0.025      0.975]\n",
       "---------------------------------------------------------------------------------------------------------\n",
       "unemployment_rate                        2.7e-05      0.000      0.161      0.873      -0.000       0.000\n",
       "HI_ratio                               3.818e-05      0.000      0.179      0.859      -0.000       0.000\n",
       "Year                                  -9.286e-05   7.29e-05     -1.275      0.212      -0.000    5.57e-05\n",
       "County[T.Baltimore city, MD]              0.0109      0.006      1.716      0.096      -0.002       0.024\n",
       "County[T.Bexar County, TX]                0.0083      0.007      1.215      0.233      -0.006       0.022\n",
       "County[T.Bronx County, NY]            -4.998e-15   3.85e-15     -1.298      0.204   -1.29e-14    2.86e-15\n",
       "County[T.Broward County, FL]              0.0080      0.007      1.184      0.246      -0.006       0.022\n",
       "County[T.Caddo Parish, LA]            -2.239e-15   1.73e-15     -1.298      0.204   -5.76e-15    1.28e-15\n",
       "County[T.Clark County, NV]                0.0082      0.007      1.212      0.235      -0.006       0.022\n",
       "County[T.Cook County, IL]                 0.0080      0.007      1.207      0.237      -0.006       0.022\n",
       "County[T.Cuyahoga County, OH]         -2.034e-15   1.57e-15     -1.297      0.204   -5.23e-15    1.17e-15\n",
       "County[T.Dallas County, TX]               0.0088      0.007      1.279      0.210      -0.005       0.023\n",
       "County[T.District of Columbia, DC]     2.941e-15   2.27e-15      1.297      0.204   -1.69e-15    7.57e-15\n",
       "County[T.Duval County, FL]                0.0095      0.006      1.522      0.138      -0.003       0.022\n",
       "County[T.East Baton Rouge Parish, LA]     0.0115      0.007      1.670      0.105      -0.003       0.026\n",
       "County[T.Essex County, NJ]                0.0090      0.007      1.359      0.184      -0.004       0.022\n",
       "County[T.Franklin County, OH]             0.0092      0.007      1.312      0.199      -0.005       0.024\n",
       "County[T.Fresno County, CA]            5.664e-16   4.37e-16      1.296      0.205   -3.25e-16    1.46e-15\n",
       "County[T.Fulton County, GA]           -9.864e-16   7.61e-16     -1.297      0.204   -2.54e-15    5.65e-16\n",
       "County[T.Hamilton County, OH]          1.403e-15   1.08e-15      1.296      0.204   -8.05e-16    3.61e-15\n",
       "County[T.Harris County, TX]               0.0077      0.007      1.107      0.277      -0.006       0.022\n",
       "County[T.Hillsborough County, FL]      4.245e-17   3.26e-17      1.300      0.203   -2.41e-17    1.09e-16\n",
       "County[T.Jefferson County, AL]         8.573e-17   6.64e-17      1.291      0.206   -4.97e-17    2.21e-16\n",
       "County[T.Kern County, CA]              5.711e-17   4.41e-17      1.296      0.205   -3.28e-17    1.47e-16\n",
       "County[T.King County, WA]                 0.0083      0.007      1.254      0.219      -0.005       0.022\n",
       "County[T.Kings County, NY]                0.0067      0.007      1.022      0.314      -0.007       0.020\n",
       "County[T.Los Angeles County, CA]          0.0074      0.007      1.118      0.272      -0.006       0.021\n",
       "County[T.Maricopa County, AZ]             0.0076      0.006      1.177      0.248      -0.006       0.021\n",
       "County[T.Marion County, IN]                    0          0        nan        nan           0           0\n",
       "County[T.Miami-Dade County, FL]           0.0080      0.007      1.182      0.246      -0.006       0.022\n",
       "County[T.Milwaukee County, WI]            0.0107      0.007      1.585      0.123      -0.003       0.025\n",
       "County[T.Mobile County, AL]                    0          0        nan        nan           0           0\n",
       "County[T.Oklahoma County, OK]                  0          0        nan        nan           0           0\n",
       "County[T.Philadelphia County, PA]         0.0075      0.006      1.168      0.252      -0.006       0.021\n",
       "County[T.Prince George's County, MD]           0          0        nan        nan           0           0\n",
       "County[T.Queens County, NY]                    0          0        nan        nan           0           0\n",
       "County[T.Riverside County, CA]                 0          0        nan        nan           0           0\n",
       "County[T.San Bernardino County, CA]            0          0        nan        nan           0           0\n",
       "County[T.San Diego County, CA]                 0          0        nan        nan           0           0\n",
       "County[T.Shelby County, TN]               0.0092      0.007      1.396      0.173      -0.004       0.023\n",
       "County[T.St. Louis city, MO]                   0          0        nan        nan           0           0\n",
       "County[T.Tarrant County, TX]              0.0082      0.007      1.202      0.239      -0.006       0.022\n",
       "County[T.Wayne County, MI]                0.0085      0.007      1.295      0.205      -0.005       0.022\n",
       "County[T.Will County, IL]                      0          0        nan        nan           0           0\n",
       "County[T.Worcester County, MA]                 0          0        nan        nan           0           0\n",
       "Race[T.White]                            -0.0016      0.000     -5.943      0.000      -0.002      -0.001\n",
       "Gender[T.Male]                        -3.364e-05      0.000     -0.152      0.880      -0.000       0.000\n",
       "intercept                                 0.1813      0.140      1.296      0.204      -0.104       0.466\n",
       "==============================================================================\n",
       "Omnibus:                        4.510   Durbin-Watson:                   2.220\n",
       "Prob(Omnibus):                  0.105   Jarque-Bera (JB):                5.291\n",
       "Skew:                          -0.092   Prob(JB):                       0.0710\n",
       "Kurtosis:                       4.481   Cond. No.                     1.19e+19\n",
       "==============================================================================\n",
       "\n",
       "Warnings:\n",
       "[1] Standard Errors assume that the covariance matrix of the errors is correctly specified.\n",
       "[2] The smallest eigenvalue is 1.62e-30. This might indicate that there are\n",
       "strong multicollinearity problems or that the design matrix is singular.\n",
       "\"\"\""
      ]
     },
     "execution_count": 86,
     "metadata": {},
     "output_type": "execute_result"
    }
   ],
   "source": [
    "y_test_new1=y_test_new.reset_index().drop('index', axis=1)\n",
    "y_test_new1=y_test_new.reset_index().drop('index', axis=1)\n",
    "\n",
    "new_model = sm.OLS(y_test_new1, df_newdf_testx)\n",
    "new_fit = new_model.fit()\n",
    "new_fit.summary()\n"
   ]
  },
  {
   "cell_type": "code",
   "execution_count": null,
   "metadata": {
    "collapsed": true
   },
   "outputs": [],
   "source": []
  },
  {
   "cell_type": "code",
   "execution_count": null,
   "metadata": {
    "collapsed": true
   },
   "outputs": [],
   "source": []
  },
  {
   "cell_type": "code",
   "execution_count": null,
   "metadata": {
    "collapsed": true
   },
   "outputs": [],
   "source": []
  },
  {
   "cell_type": "code",
   "execution_count": 87,
   "metadata": {
    "collapsed": true
   },
   "outputs": [],
   "source": [
    "pca = PCA(n_components=2)\n",
    "\n",
    "x_train_std = ss.fit_transform(df_newdf_trainx)\n",
    "\n",
    "x_test_std = ss.fit_transform(df_newdf_testx)\n",
    "\n",
    "pca.fit(x_train_std)\n",
    "x_pca_tsform = pca.transform(x_test_std)               "
   ]
  },
  {
   "cell_type": "code",
   "execution_count": 88,
   "metadata": {},
   "outputs": [
    {
     "data": {
      "text/plain": [
       "<matplotlib.collections.PathCollection at 0x11ff81668>"
      ]
     },
     "execution_count": 88,
     "metadata": {},
     "output_type": "execute_result"
    },
    {
     "data": {
      "image/png": "[encoded data removed]",
      "text/plain": [
       "<matplotlib.figure.Figure at 0x119e323c8>"
      ]
     },
     "metadata": {},
     "output_type": "display_data"
    }
   ],
   "source": [
    "#plt.scatter(x_train_new)\n",
    "plt.scatter(x_pca_tsform[:,0],x_pca_tsform[:,1], c='red')\n"
   ]
  },
  {
   "cell_type": "code",
   "execution_count": null,
   "metadata": {
    "collapsed": true
   },
   "outputs": [],
   "source": []
  },
  {
   "cell_type": "code",
   "execution_count": 89,
   "metadata": {
    "collapsed": true
   },
   "outputs": [],
   "source": [
    "pca_df=pd.DataFrame(pca.components_, columns=x_train_new.columns, index=['PCA-1', 'PCA-2']).T"
   ]
  },
  {
   "cell_type": "code",
   "execution_count": 90,
   "metadata": {
    "scrolled": true
   },
   "outputs": [
    {
     "data": {
      "text/plain": [
       "HI_ratio                                 4.288603e-01\n",
       "Race[T.White]                           -4.177177e-01\n",
       "unemployment_rate                        3.740989e-01\n",
       "County[T.Harris County, TX]             -3.163527e-01\n",
       "County[T.Philadelphia County, PA]        3.036212e-01\n",
       "County[T.Wayne County, MI]               2.814845e-01\n",
       "County[T.Dallas County, TX]             -2.473255e-01\n",
       "Year                                     1.847053e-01\n",
       "County[T.Baltimore city, MD]             1.709588e-01\n",
       "County[T.Tarrant County, TX]            -1.307085e-01\n",
       "Gender[T.Male]                           1.226842e-01\n",
       "County[T.Bexar County, TX]              -9.328188e-02\n",
       "County[T.San Diego County, CA]          -8.917493e-02\n",
       "County[T.Shelby County, TN]              8.894918e-02\n",
       "County[T.Will County, IL]               -8.678171e-02\n",
       "County[T.Oklahoma County, OK]           -7.634989e-02\n",
       "County[T.Milwaukee County, WI]           7.416549e-02\n",
       "County[T.Caddo Parish, LA]               6.892000e-02\n",
       "County[T.Jefferson County, AL]           6.713312e-02\n",
       "County[T.Maricopa County, AZ]           -5.819862e-02\n",
       "County[T.Fresno County, CA]              5.007466e-02\n",
       "County[T.San Bernardino County, CA]     -4.738415e-02\n",
       "County[T.Mobile County, AL]              4.575915e-02\n",
       "County[T.Bronx County, NY]               4.420540e-02\n",
       "County[T.Queens County, NY]              3.643013e-02\n",
       "County[T.Hamilton County, OH]            3.495752e-02\n",
       "County[T.Riverside County, CA]          -2.919837e-02\n",
       "County[T.Broward County, FL]             2.720122e-02\n",
       "County[T.East Baton Rouge Parish, LA]   -2.626217e-02\n",
       "County[T.Kern County, CA]                2.527835e-02\n",
       "County[T.Prince George's County, MD]    -2.502917e-02\n",
       "County[T.St. Louis city, MO]             2.240253e-02\n",
       "County[T.Cook County, IL]               -2.231572e-02\n",
       "County[T.District of Columbia, DC]       2.136710e-02\n",
       "County[T.Franklin County, OH]            1.589565e-02\n",
       "County[T.Kings County, NY]              -1.504881e-02\n",
       "County[T.Fulton County, GA]             -1.316687e-02\n",
       "County[T.Worcester County, MA]           1.236436e-02\n",
       "County[T.Cuyahoga County, OH]            1.229795e-02\n",
       "County[T.Hillsborough County, FL]        8.814212e-03\n",
       "County[T.Los Angeles County, CA]         5.168170e-03\n",
       "County[T.Marion County, IN]             -2.807318e-03\n",
       "County[T.Duval County, FL]              -5.293956e-23\n",
       "County[T.Clark County, NV]              -0.000000e+00\n",
       "County[T.Miami-Dade County, FL]         -0.000000e+00\n",
       "County[T.King County, WA]               -0.000000e+00\n",
       "County[T.Essex County, NJ]              -0.000000e+00\n",
       "intercept                               -0.000000e+00\n",
       "Name: PCA-1, dtype: float64"
      ]
     },
     "execution_count": 90,
     "metadata": {},
     "output_type": "execute_result"
    }
   ],
   "source": [
    "pca_df['PCA-1'].reindex(pca_df['PCA-1'].abs().sort_values(inplace=False, ascending=False).index)"
   ]
  },
  {
   "cell_type": "code",
   "execution_count": 91,
   "metadata": {
    "scrolled": true
   },
   "outputs": [
    {
     "data": {
      "text/plain": [
       "HI_ratio                                 0.507781\n",
       "unemployment_rate                       -0.360775\n",
       "Year                                     0.359450\n",
       "County[T.Maricopa County, AZ]            0.341618\n",
       "Race[T.White]                            0.271826\n",
       "County[T.Wayne County, MI]              -0.208818\n",
       "County[T.Queens County, NY]              0.183890\n",
       "County[T.Hillsborough County, FL]        0.155691\n",
       "County[T.Worcester County, MA]           0.152047\n",
       "County[T.Philadelphia County, PA]        0.144770\n",
       "County[T.Shelby County, TN]             -0.126839\n",
       "County[T.Marion County, IN]             -0.117745\n",
       "County[T.Cook County, IL]               -0.117317\n",
       "County[T.Kings County, NY]              -0.103564\n",
       "County[T.Bronx County, NY]              -0.100855\n",
       "Gender[T.Male]                          -0.096324\n",
       "County[T.Dallas County, TX]             -0.090858\n",
       "County[T.District of Columbia, DC]      -0.084829\n",
       "County[T.Bexar County, TX]               0.083993\n",
       "County[T.Los Angeles County, CA]        -0.080521\n",
       "County[T.Jefferson County, AL]           0.077614\n",
       "County[T.Hamilton County, OH]            0.072285\n",
       "County[T.Milwaukee County, WI]          -0.065429\n",
       "County[T.East Baton Rouge Parish, LA]   -0.062696\n",
       "County[T.Franklin County, OH]            0.062610\n",
       "County[T.Tarrant County, TX]             0.062565\n",
       "County[T.Fulton County, GA]             -0.055497\n",
       "County[T.Prince George's County, MD]    -0.051083\n",
       "County[T.Oklahoma County, OK]            0.046504\n",
       "County[T.St. Louis city, MO]            -0.045556\n",
       "County[T.San Diego County, CA]           0.040431\n",
       "County[T.Fresno County, CA]              0.037154\n",
       "County[T.Cuyahoga County, OH]            0.035733\n",
       "County[T.Broward County, FL]            -0.022198\n",
       "County[T.Will County, IL]               -0.022050\n",
       "County[T.Baltimore city, MD]             0.017484\n",
       "County[T.Riverside County, CA]          -0.016079\n",
       "County[T.San Bernardino County, CA]      0.015013\n",
       "County[T.Caddo Parish, LA]               0.012062\n",
       "County[T.Mobile County, AL]              0.011998\n",
       "County[T.Kern County, CA]                0.002789\n",
       "County[T.Harris County, TX]             -0.002404\n",
       "County[T.Clark County, NV]              -0.000000\n",
       "County[T.Duval County, FL]              -0.000000\n",
       "County[T.Essex County, NJ]              -0.000000\n",
       "County[T.King County, WA]               -0.000000\n",
       "County[T.Miami-Dade County, FL]         -0.000000\n",
       "intercept                               -0.000000\n",
       "Name: PCA-2, dtype: float64"
      ]
     },
     "execution_count": 91,
     "metadata": {},
     "output_type": "execute_result"
    }
   ],
   "source": [
    "pca_df['PCA-2'].reindex(pca_df['PCA-2'].abs().sort_values(inplace=False, ascending=False).index)"
   ]
  },
  {
   "cell_type": "markdown",
   "metadata": {},
   "source": [
    "# Tree"
   ]
  },
  {
   "cell_type": "code",
   "execution_count": null,
   "metadata": {
    "collapsed": true
   },
   "outputs": [],
   "source": []
  },
  {
   "cell_type": "code",
   "execution_count": 92,
   "metadata": {
    "collapsed": true
   },
   "outputs": [],
   "source": [
    "dt_test_sc = []\n",
    "dt_train_sc = []\n",
    "\n",
    "for n in range(1,21):\n",
    "    DT_reg = DecisionTreeRegressor(max_depth=n)\n",
    "\n",
    "    train = DT_reg.fit(x_train_new, y_train_new).score(x_train_new, y_train_new)\n",
    "    dt_train_sc.append(train)\n",
    "    \n",
    "    test = DT_reg.fit(x_test_new, y_test_new).score(x_test_new, y_test_new)\n",
    "    dt_test_sc.append(test)\n",
    "    "
   ]
  },
  {
   "cell_type": "code",
   "execution_count": 93,
   "metadata": {
    "scrolled": false
   },
   "outputs": [
    {
     "name": "stderr",
     "output_type": "stream",
     "text": [
      "/Users/allandong/anaconda/lib/python3.6/site-packages/matplotlib/axes/_axes.py:545: UserWarning: No labelled objects found. Use label='...' kwarg on individual plots.\n",
      "  warnings.warn(\"No labelled objects found. \"\n"
     ]
    },
    {
     "data": {
      "image/png": "[encoded data removed]",
      "text/plain": [
       "<matplotlib.figure.Figure at 0x11e3ad780>"
      ]
     },
     "metadata": {},
     "output_type": "display_data"
    }
   ],
   "source": [
    "plt.figure(figsize=(10,6))\n",
    "plt.ylim(0,1)\n",
    "plt.xlim(0,20)\n",
    "plt.legend()\n",
    "\n",
    "plt.plot(range(1,21), dt_test_sc, label='Test')\n",
    "plt.plot(range(1,21), dt_train_sc, label='Train')\n",
    "plt.title('DecisionTree Score by Depth')\n",
    "plt.legend()\n",
    "plt.xlabel('max_depth')\n",
    "plt.ylabel('DecisionTree score')\n",
    "plt.show()"
   ]
  },
  {
   "cell_type": "code",
   "execution_count": 94,
   "metadata": {
    "collapsed": true
   },
   "outputs": [],
   "source": [
    "reg1 = DecisionTreeRegressor(max_depth=2)\n",
    "reg2 = DecisionTreeRegressor(max_depth=10)\n",
    "\n",
    "reg1.fit(x_train_new, y_train_new)\n",
    "reg2.fit(x_train_new, y_train_new)\n",
    "\n",
    "reg_y1 = reg1.predict(x_test_new)\n",
    "reg_y2 = reg2.predict(x_test_new)"
   ]
  },
  {
   "cell_type": "code",
   "execution_count": 95,
   "metadata": {},
   "outputs": [
    {
     "data": {
      "text/plain": [
       "<matplotlib.collections.PathCollection at 0x11d6a7470>"
      ]
     },
     "execution_count": 95,
     "metadata": {},
     "output_type": "execute_result"
    },
    {
     "data": {
      "image/png": "[encoded data removed]",
      "text/plain": [
       "<matplotlib.figure.Figure at 0x11ddcecf8>"
      ]
     },
     "metadata": {},
     "output_type": "display_data"
    }
   ],
   "source": [
    "plt.figure()\n",
    "#plt.scatter(new_x, new_y, c='darkorange')\n",
    "plt.scatter(x_test_new.HI_ratio, reg_y1, color='cornflowerblue')\n",
    "#plt.plot(x_test_std, reg_y2, color='yellowgreen')"
   ]
  },
  {
   "cell_type": "code",
   "execution_count": 96,
   "metadata": {
    "scrolled": true
   },
   "outputs": [
    {
     "data": {
      "text/plain": [
       "0.61628910657607694"
      ]
     },
     "execution_count": 96,
     "metadata": {},
     "output_type": "execute_result"
    }
   ],
   "source": [
    "reg2.score(x_test_new, y_test_new)"
   ]
  },
  {
   "cell_type": "code",
   "execution_count": 97,
   "metadata": {},
   "outputs": [
    {
     "data": {
      "text/plain": [
       "0.93723190340618301"
      ]
     },
     "execution_count": 97,
     "metadata": {},
     "output_type": "execute_result"
    }
   ],
   "source": [
    "reg2.score(x_train_new, y_train_new)"
   ]
  },
  {
   "cell_type": "code",
   "execution_count": null,
   "metadata": {
    "collapsed": true,
    "scrolled": true
   },
   "outputs": [],
   "source": []
  },
  {
   "cell_type": "code",
   "execution_count": 99,
   "metadata": {
    "collapsed": true
   },
   "outputs": [],
   "source": [
    "RF_test_sc = []\n",
    "RF_train_sc = []\n",
    "\n",
    "for n in range(1,21):\n",
    "    RF_reg = RandomForestRegressor(max_depth=n)\n",
    "\n",
    "    train = RF_reg.fit(x_train_new, y_train_new).score(x_train_new, y_train_new)\n",
    "    RF_train_sc.append(train)\n",
    "    \n",
    "    test = RF_reg.fit(x_test_new, y_test_new).score(x_test_new, y_test_new)\n",
    "    RF_test_sc.append(test)\n",
    "    "
   ]
  },
  {
   "cell_type": "code",
   "execution_count": 442,
   "metadata": {},
   "outputs": [
    {
     "name": "stderr",
     "output_type": "stream",
     "text": [
      "/Users/allandong/anaconda/lib/python3.6/site-packages/matplotlib/axes/_axes.py:545: UserWarning: No labelled objects found. Use label='...' kwarg on individual plots.\n",
      "  warnings.warn(\"No labelled objects found. \"\n"
     ]
    },
    {
     "data": {
      "image/png": "[encoded data removed]",
      "text/plain": [
       "<matplotlib.figure.Figure at 0x1166fc400>"
      ]
     },
     "metadata": {},
     "output_type": "display_data"
    }
   ],
   "source": [
    "plt.figure(figsize=(10,8))\n",
    "plt.ylim(0,1)\n",
    "plt.xlim(0,20)\n",
    "plt.legend()\n",
    "\n",
    "plt.plot(range(1,21), RF_test_sc, label='Test')\n",
    "plt.plot(range(1,21), RF_train_sc, label='Train')\n",
    "\n",
    "plt.legend()\n",
    "plt.xlabel('max_depth')\n",
    "plt.ylabel('RandomForest score')\n",
    "plt.show()"
   ]
  },
  {
   "cell_type": "code",
   "execution_count": 101,
   "metadata": {},
   "outputs": [
    {
     "data": {
      "text/plain": [
       "RandomForestRegressor(bootstrap=True, criterion='mse', max_depth=10,\n",
       "           max_features='auto', max_leaf_nodes=None,\n",
       "           min_impurity_split=1e-07, min_samples_leaf=1,\n",
       "           min_samples_split=2, min_weight_fraction_leaf=0.0,\n",
       "           n_estimators=10, n_jobs=1, oob_score=False, random_state=None,\n",
       "           verbose=0, warm_start=False)"
      ]
     },
     "execution_count": 101,
     "metadata": {},
     "output_type": "execute_result"
    }
   ],
   "source": [
    "RF_reg1 = RandomForestRegressor(max_depth=2)\n",
    "RF_reg2 = RandomForestRegressor(max_depth=10)\n",
    "\n",
    "RF_reg1.fit(x_train_new, y_train_new)\n",
    "RF_reg2.fit(x_train_new, y_train_new)\n",
    "\n"
   ]
  },
  {
   "cell_type": "code",
   "execution_count": 102,
   "metadata": {},
   "outputs": [
    {
     "data": {
      "text/plain": [
       "0.70950236346557671"
      ]
     },
     "execution_count": 102,
     "metadata": {},
     "output_type": "execute_result"
    }
   ],
   "source": [
    "RF_reg2.score(x_test_new, y_test_new)"
   ]
  },
  {
   "cell_type": "code",
   "execution_count": 103,
   "metadata": {},
   "outputs": [
    {
     "data": {
      "text/plain": [
       "0.92378596213536768"
      ]
     },
     "execution_count": 103,
     "metadata": {},
     "output_type": "execute_result"
    }
   ],
   "source": [
    "RF_reg2.score(x_train_new, y_train_new)"
   ]
  },
  {
   "cell_type": "code",
   "execution_count": 110,
   "metadata": {
    "collapsed": true
   },
   "outputs": [],
   "source": [
    "DT_features = reg2.feature_importances_\n",
    "RF_features = RF_reg2.feature_importances_\n",
    "\n",
    "df_feat = pd.DataFrame([DT_features, RF_features], columns = x_train_new.columns, index=['DecisionTree', 'RandomForest']).T"
   ]
  },
  {
   "cell_type": "code",
   "execution_count": 118,
   "metadata": {
    "scrolled": true
   },
   "outputs": [
    {
     "data": {
      "text/plain": [
       "Race[T.White]                            0.428472\n",
       "County[T.Caddo Parish, LA]               0.299904\n",
       "County[T.Mobile County, AL]              0.057862\n",
       "County[T.Philadelphia County, PA]        0.028271\n",
       "County[T.St. Louis city, MO]             0.027241\n",
       "HI_ratio                                 0.026335\n",
       "County[T.East Baton Rouge Parish, LA]    0.022341\n",
       "Gender[T.Male]                           0.022206\n",
       "County[T.Jefferson County, AL]           0.013439\n",
       "County[T.Los Angeles County, CA]         0.012408\n",
       "County[T.Worcester County, MA]           0.011707\n",
       "County[T.Harris County, TX]              0.010170\n",
       "County[T.Cuyahoga County, OH]            0.007689\n",
       "County[T.Baltimore city, MD]             0.005097\n",
       "County[T.Oklahoma County, OK]            0.005042\n",
       "County[T.Milwaukee County, WI]           0.004954\n",
       "County[T.Will County, IL]                0.003534\n",
       "County[T.Marion County, IN]              0.003083\n",
       "unemployment_rate                        0.003004\n",
       "County[T.Dallas County, TX]              0.002683\n",
       "Year                                     0.001751\n",
       "County[T.Cook County, IL]                0.001468\n",
       "County[T.Wayne County, MI]               0.001338\n",
       "County[T.Clark County, NV]               0.000000\n",
       "County[T.Franklin County, OH]            0.000000\n",
       "County[T.Broward County, FL]             0.000000\n",
       "County[T.Bronx County, NY]               0.000000\n",
       "County[T.Bexar County, TX]               0.000000\n",
       "County[T.District of Columbia, DC]       0.000000\n",
       "County[T.Duval County, FL]               0.000000\n",
       "County[T.Essex County, NJ]               0.000000\n",
       "intercept                                0.000000\n",
       "County[T.Fresno County, CA]              0.000000\n",
       "County[T.Fulton County, GA]              0.000000\n",
       "County[T.Hamilton County, OH]            0.000000\n",
       "County[T.Hillsborough County, FL]        0.000000\n",
       "County[T.King County, WA]                0.000000\n",
       "County[T.Kings County, NY]               0.000000\n",
       "County[T.Maricopa County, AZ]            0.000000\n",
       "County[T.Miami-Dade County, FL]          0.000000\n",
       "County[T.Prince George's County, MD]     0.000000\n",
       "County[T.Queens County, NY]              0.000000\n",
       "County[T.Riverside County, CA]           0.000000\n",
       "County[T.San Bernardino County, CA]      0.000000\n",
       "County[T.San Diego County, CA]           0.000000\n",
       "County[T.Shelby County, TN]              0.000000\n",
       "County[T.Tarrant County, TX]             0.000000\n",
       "County[T.Kern County, CA]                0.000000\n",
       "Name: DecisionTree, dtype: float64"
      ]
     },
     "execution_count": 118,
     "metadata": {},
     "output_type": "execute_result"
    }
   ],
   "source": [
    "df_feat['DecisionTree'].reindex(df_feat['DecisionTree'].sort_values(inplace=False, ascending=False).index)"
   ]
  },
  {
   "cell_type": "code",
   "execution_count": 112,
   "metadata": {
    "scrolled": true
   },
   "outputs": [
    {
     "data": {
      "text/plain": [
       "County[T.Caddo Parish, LA]               0.386873\n",
       "Race[T.White]                            0.348226\n",
       "County[T.Mobile County, AL]              0.043082\n",
       "County[T.Philadelphia County, PA]        0.030213\n",
       "HI_ratio                                 0.024449\n",
       "unemployment_rate                        0.021993\n",
       "County[T.St. Louis city, MO]             0.021805\n",
       "County[T.Jefferson County, AL]           0.019123\n",
       "County[T.East Baton Rouge Parish, LA]    0.018013\n",
       "Gender[T.Male]                           0.014946\n",
       "Year                                     0.009763\n",
       "County[T.Cuyahoga County, OH]            0.008802\n",
       "County[T.Milwaukee County, WI]           0.008755\n",
       "County[T.Worcester County, MA]           0.007512\n",
       "County[T.Baltimore city, MD]             0.007413\n",
       "County[T.Los Angeles County, CA]         0.004912\n",
       "County[T.Dallas County, TX]              0.004328\n",
       "County[T.Oklahoma County, OK]            0.004181\n",
       "County[T.Cook County, IL]                0.003603\n",
       "County[T.Hamilton County, OH]            0.003121\n",
       "County[T.Marion County, IN]              0.002141\n",
       "County[T.Harris County, TX]              0.001540\n",
       "County[T.Kings County, NY]               0.001513\n",
       "County[T.Bronx County, NY]               0.001264\n",
       "County[T.Will County, IL]                0.001194\n",
       "County[T.Wayne County, MI]               0.000762\n",
       "County[T.Maricopa County, AZ]            0.000471\n",
       "County[T.Clark County, NV]               0.000000\n",
       "County[T.Broward County, FL]             0.000000\n",
       "County[T.Bexar County, TX]               0.000000\n",
       "County[T.District of Columbia, DC]       0.000000\n",
       "County[T.Duval County, FL]               0.000000\n",
       "intercept                                0.000000\n",
       "County[T.Essex County, NJ]               0.000000\n",
       "County[T.Franklin County, OH]            0.000000\n",
       "County[T.Fresno County, CA]              0.000000\n",
       "County[T.Fulton County, GA]              0.000000\n",
       "County[T.Hillsborough County, FL]        0.000000\n",
       "County[T.King County, WA]                0.000000\n",
       "County[T.Miami-Dade County, FL]          0.000000\n",
       "County[T.Prince George's County, MD]     0.000000\n",
       "County[T.Queens County, NY]              0.000000\n",
       "County[T.Riverside County, CA]           0.000000\n",
       "County[T.San Bernardino County, CA]      0.000000\n",
       "County[T.San Diego County, CA]           0.000000\n",
       "County[T.Shelby County, TN]              0.000000\n",
       "County[T.Tarrant County, TX]             0.000000\n",
       "County[T.Kern County, CA]                0.000000\n",
       "Name: RandomForest, dtype: float64"
      ]
     },
     "execution_count": 112,
     "metadata": {},
     "output_type": "execute_result"
    }
   ],
   "source": [
    "df_feat['RandomForest'].reindex(df_feat['RandomForest'].sort_values(inplace=False, ascending=False).index)"
   ]
  },
  {
   "cell_type": "markdown",
   "metadata": {},
   "source": [
    "# Rerunning with New CDC/Additional Data"
   ]
  },
  {
   "cell_type": "code",
   "execution_count": 2,
   "metadata": {},
   "outputs": [
    {
     "name": "stderr",
     "output_type": "stream",
     "text": [
      "/Users/allandong/anaconda/lib/python3.6/site-packages/IPython/core/interactiveshell.py:2698: DtypeWarning: Columns (4) have mixed types. Specify dtype option on import or set low_memory=False.\n",
      "  interactivity=interactivity, compiler=compiler, result=result)\n"
     ]
    }
   ],
   "source": [
    "labor = ref.Home + '/labor.csv'\n",
    "hi = ref.Home + '/HI.csv'\n",
    "\n",
    "df_labor = pd.read_csv(labor, dtype={'series_id' : str, \n",
    "                                     'year' : int, \n",
    "                                     'period' : str, \n",
    "                                     'value' : object,\n",
    "                                     'footnote_codes' : str,\n",
    "                                     'area_code': str,\n",
    "                                     'series_title' : str,\n",
    "                                     'area_text' : str})\n",
    "df_hi = pd.read_csv(hi)"
   ]
  },
  {
   "cell_type": "code",
   "execution_count": 3,
   "metadata": {
    "collapsed": true
   },
   "outputs": [],
   "source": [
    "df_labor_cty = df_labor[df_labor.area_code.str.find(r'CN') != -1]"
   ]
  },
  {
   "cell_type": "code",
   "execution_count": 4,
   "metadata": {},
   "outputs": [
    {
     "name": "stderr",
     "output_type": "stream",
     "text": [
      "/Users/allandong/anaconda/lib/python3.6/site-packages/ipykernel_launcher.py:1: SettingWithCopyWarning: \n",
      "A value is trying to be set on a copy of a slice from a DataFrame.\n",
      "Try using .loc[row_indexer,col_indexer] = value instead\n",
      "\n",
      "See the caveats in the documentation: http://pandas.pydata.org/pandas-docs/stable/indexing.html#indexing-view-versus-copy\n",
      "  \"\"\"Entry point for launching an IPython kernel.\n"
     ]
    }
   ],
   "source": [
    "df_labor_cty['FIPS'] = df_labor_cty['area_code'].map(lambda x: int(x[2:7]))\n",
    "df_labor_cty_yr = df_labor_cty[df_labor_cty.period == 'M13']"
   ]
  },
  {
   "cell_type": "code",
   "execution_count": 5,
   "metadata": {
    "collapsed": true
   },
   "outputs": [],
   "source": [
    "df_labor_HI = pd.merge(df_labor_cty_yr, df_hi, \n",
    "                       how='inner', \n",
    "                       left_on=['year', 'FIPS'], \n",
    "                       right_on=['Year', 'Id2'])"
   ]
  },
  {
   "cell_type": "code",
   "execution_count": 6,
   "metadata": {
    "collapsed": true
   },
   "outputs": [],
   "source": [
    "racegender = ref.Home + '/CDC_racegender.csv'\n",
    "\n",
    "df_rg = pd.read_csv(racegender, dtype={'County Code' : int})"
   ]
  },
  {
   "cell_type": "code",
   "execution_count": 7,
   "metadata": {
    "collapsed": true
   },
   "outputs": [],
   "source": [
    "rg_columns = ['County', 'County_Code', 'Race', 'Race_Code', 'Gender', 'Gender_Code', \n",
    "                'Deaths', 'Births', 'Death_Rate', 'Year']\n",
    "df_rg.columns = rg_columns\n",
    "\n",
    "df_rg.replace(to_replace='Missing', value=np.nan, inplace=True)\n",
    "df_rg.dropna(axis=0, how='any')\n",
    "\n",
    "df_rg['Deaths'] = pd.to_numeric(df_rg.Deaths)\n",
    "df_rg['Births'] = pd.to_numeric(df_rg.Births)\n",
    "df_rg['Death_ratio'] = df_rg['Deaths']/df_rg['Births']\n",
    "\n",
    "df_rg.drop(['Death_Rate', 'Race_Code', 'Gender_Code', 'Death_Rate'], axis=1, inplace=True)\n"
   ]
  },
  {
   "cell_type": "code",
   "execution_count": 8,
   "metadata": {
    "collapsed": true
   },
   "outputs": [],
   "source": [
    "County_Classifications = ref.Home + '/County_Classifications.csv'\n",
    "People = ref.Home + '/People.csv'\n",
    "Veterans = ref.Home + '/Veterans.csv'\n",
    "Income = ref.Home + 'Income.csv'\n",
    "\n",
    "df_cty_class = pd.read_csv(County_Classifications, encoding = \"ISO-8859-1\", dtype={'FIPS':int})\n",
    "df_people = pd.read_csv(People, encoding = \"ISO-8859-1\", dtype={'FIPS':int})\n",
    "df_veterans = pd.read_csv(Veterans, encoding = \"ISO-8859-1\", dtype={'FIPS':int})\n",
    "df_income = pd.read_csv(Income, encoding = \"ISO-8859-1\", dtype={'FIPS':int})"
   ]
  },
  {
   "cell_type": "code",
   "execution_count": 9,
   "metadata": {
    "collapsed": true
   },
   "outputs": [],
   "source": [
    "df_cty_industry = df_cty_class[['FIPS', \n",
    "                                'Type_2015_Farming_NO',\n",
    "                                'Type_2015_Manufacturing_NO',\n",
    "                                'Type_2015_Mining_NO',\n",
    "                                'Type_2015_Government_NO', \n",
    "                                'Type_2015_Recreation_NO', \n",
    "                                'Type_2015_Nonspecialized_NO']]"
   ]
  },
  {
   "cell_type": "code",
   "execution_count": 10,
   "metadata": {
    "collapsed": true
   },
   "outputs": [],
   "source": [
    "df_cty_type = df_cty_class[['FIPS', \n",
    "                            'Metro2013', \n",
    "                            'Nonmetro2013',\n",
    "                            'Micropolitan2013',\n",
    "                            'Noncore2013',\n",
    "                            'Metro_Adjacent2013' ]]"
   ]
  },
  {
   "cell_type": "code",
   "execution_count": 11,
   "metadata": {
    "collapsed": true
   },
   "outputs": [],
   "source": [
    "df_ed = df_people[['FIPS', \n",
    "                   'Ed1LessThanHSPct', \n",
    "                   'Ed2HSDiplomaOnlyPct', \n",
    "                   'Ed3SomeCollegePct',\n",
    "                   'Ed4AssocDegreePct', \n",
    "                   'Ed5CollegePlusPct']]"
   ]
  },
  {
   "cell_type": "code",
   "execution_count": 12,
   "metadata": {
    "collapsed": true
   },
   "outputs": [],
   "source": [
    "df_poverty = df_income[['FIPS', \n",
    "                        'Deep_Pov_All']]"
   ]
  },
  {
   "cell_type": "code",
   "execution_count": 13,
   "metadata": {
    "collapsed": true
   },
   "outputs": [],
   "source": [
    "df_vets = df_veterans[['FIPS', \n",
    "                       'Vets18OPct']]"
   ]
  },
  {
   "cell_type": "code",
   "execution_count": 14,
   "metadata": {
    "collapsed": true
   },
   "outputs": [],
   "source": [
    "df_ex1 = pd.merge(df_poverty, df_vets, how='inner', on=['FIPS'])\n",
    "df_ex2 = pd.merge(df_ex1, df_ed, how='inner', on=['FIPS'])\n",
    "df_ex3 = pd.merge(df_ex2, df_cty_industry, how='inner', on=['FIPS'])\n",
    "df_ex4 = pd.merge(df_ex3, df_cty_type, how='inner', on=['FIPS'])"
   ]
  },
  {
   "cell_type": "code",
   "execution_count": 15,
   "metadata": {
    "collapsed": true,
    "scrolled": true
   },
   "outputs": [],
   "source": [
    "df_ex5 = pd.merge(df_ex4, df_labor_HI, how='inner', on=['FIPS'])"
   ]
  },
  {
   "cell_type": "code",
   "execution_count": 16,
   "metadata": {
    "collapsed": true
   },
   "outputs": [],
   "source": [
    "df3 = pd.merge(df_rg, df_ex5,\n",
    "             how='inner',\n",
    "             left_on=['Year', 'County_Code'],\n",
    "             right_on=['Year', 'FIPS'])"
   ]
  },
  {
   "cell_type": "code",
   "execution_count": 17,
   "metadata": {
    "collapsed": true
   },
   "outputs": [],
   "source": [
    "# Categoricals\n",
    "df3_county = patsy.dmatrix('County', data=df3, return_type='dataframe').drop('Intercept', 1)\n",
    "df3_race = patsy.dmatrix('Race', data=df3, return_type='dataframe').drop('Intercept', 1)\n",
    "df3_gender = patsy.dmatrix('Gender', data=df3, return_type='dataframe').drop('Intercept', 1)\n",
    "df3_year = patsy.dmatrix('Year', data=df3, return_type='dataframe').drop('Intercept', 1)\n",
    "df3_cty_industry = df3[['Type_2015_Farming_NO',\n",
    "                                'Type_2015_Manufacturing_NO',\n",
    "                                'Type_2015_Mining_NO',\n",
    "                                'Type_2015_Government_NO', \n",
    "                                'Type_2015_Recreation_NO', \n",
    "                                'Type_2015_Nonspecialized_NO']]\n",
    "df3_cty_type = df3[['Metro2013', \n",
    "                            'Nonmetro2013',\n",
    "                            'Micropolitan2013',\n",
    "                            'Noncore2013',\n",
    "                            'Metro_Adjacent2013']]\n"
   ]
  },
  {
   "cell_type": "code",
   "execution_count": 18,
   "metadata": {
    "collapsed": true
   },
   "outputs": [],
   "source": [
    "df3_std = df3.drop(['County', 'County_Code', 'Race', 'Gender', 'Deaths', 'Births', 'Year',\n",
    "       'FIPS', 'Type_2015_Farming_NO',\n",
    "       'Type_2015_Manufacturing_NO', 'Type_2015_Mining_NO',\n",
    "       'Type_2015_Government_NO', 'Type_2015_Recreation_NO',\n",
    "       'Type_2015_Nonspecialized_NO', 'Metro2013', 'Nonmetro2013',\n",
    "       'Micropolitan2013', 'Noncore2013', 'Metro_Adjacent2013', 'series_id',\n",
    "       'year', 'period', 'footnote_codes', 'area_code',\n",
    "       'series_title', 'area_text', 'Id', 'Id2', 'Geography',\n",
    "       'Est_total_pop',\n",
    "       'Est_1_HI_pop', 'Est_0_HI_pop'], axis=1)"
   ]
  },
  {
   "cell_type": "code",
   "execution_count": 19,
   "metadata": {
    "collapsed": true
   },
   "outputs": [],
   "source": [
    "x_df3 = df3_std.drop('Death_ratio', axis=1)\n",
    "y_df3 = df3_std['Death_ratio']\n",
    "\n",
    "x_train_df3, x_test_df3, y_train_df3, y_test_df3 = train_test_split(x_df3, \n",
    "                                                                    y_df3, \n",
    "                                                                    test_size=0.25, \n",
    "                                                                    random_state=20)"
   ]
  },
  {
   "cell_type": "code",
   "execution_count": 20,
   "metadata": {},
   "outputs": [
    {
     "data": {
      "text/plain": [
       "(3371, 262)"
      ]
     },
     "execution_count": 20,
     "metadata": {},
     "output_type": "execute_result"
    }
   ],
   "source": [
    "df3_std1 = pd.concat([df3_std,\n",
    "                     df3_county,\n",
    "                     #df3_race,\n",
    "                     df3_gender,\n",
    "                     df3_year,\n",
    "                     df3_cty_industry,\n",
    "                     df3_cty_type], axis=1, join='inner')\n",
    "\n",
    "# df3_std1_filename = ref.Home + '/Final_df.csv'\n",
    "# df3_std1.to_csv(df3_std1_filename, index_label=False)\n",
    "df3_std1.shape"
   ]
  },
  {
   "cell_type": "code",
   "execution_count": 21,
   "metadata": {
    "collapsed": true
   },
   "outputs": [],
   "source": [
    "x_df3_full = df3_std1.drop('Death_ratio', axis=1)\n",
    "y_df3_full = df3_std1['Death_ratio']\n",
    "\n",
    "x_train_df3_full, x_test_df3_full, y_train_df3_full, y_test_df3_full = train_test_split(x_df3_full, \n",
    "                                                                                        y_df3_full,\n",
    "                                                                                        test_size=0.25, \n",
    "                                                                                        random_state=42)"
   ]
  },
  {
   "cell_type": "code",
   "execution_count": 22,
   "metadata": {},
   "outputs": [
    {
     "name": "stderr",
     "output_type": "stream",
     "text": [
      "/Users/allandong/anaconda/lib/python3.6/site-packages/ipykernel_launcher.py:15: SettingWithCopyWarning: \n",
      "A value is trying to be set on a copy of a slice from a DataFrame\n",
      "\n",
      "See the caveats in the documentation: http://pandas.pydata.org/pandas-docs/stable/indexing.html#indexing-view-versus-copy\n",
      "  from ipykernel import kernelapp as app\n",
      "/Users/allandong/anaconda/lib/python3.6/site-packages/ipykernel_launcher.py:17: SettingWithCopyWarning: \n",
      "A value is trying to be set on a copy of a slice from a DataFrame\n",
      "\n",
      "See the caveats in the documentation: http://pandas.pydata.org/pandas-docs/stable/indexing.html#indexing-view-versus-copy\n"
     ]
    }
   ],
   "source": [
    "df3_patsy = df3_std1.drop(['Death_ratio',\n",
    "                           'Deep_Pov_All',\n",
    "                          'Vets18OPct',\n",
    "                          'Ed1LessThanHSPct',\n",
    "                          'Ed2HSDiplomaOnlyPct',\n",
    "                          'Ed3SomeCollegePct', \n",
    "                          'Ed4AssocDegreePct', \n",
    "                          'Ed5CollegePlusPct',\n",
    "                          'unemployment_rate',\n",
    "                          'HI_ratio'], axis=1)\n",
    "x_train_df3_patsy, x_test_df3_patsy = train_test_split(df3_patsy, test_size=0.25, random_state=20)\n",
    "\n",
    "\n",
    "x_train_df3_patsy.reset_index(inplace=True)\n",
    "x_train_df3_patsy.drop('index', axis=1, inplace=True)\n",
    "x_test_df3_patsy.reset_index(inplace=True)\n",
    "x_test_df3_patsy.drop('index', axis=1, inplace=True)"
   ]
  },
  {
   "cell_type": "code",
   "execution_count": 23,
   "metadata": {
    "collapsed": true,
    "scrolled": false
   },
   "outputs": [],
   "source": [
    "ss = StandardScaler()\n",
    "ss.fit(x_train_df3)\n",
    "\n",
    "ss_x_df3_train = ss.transform(x_train_df3)\n",
    "ss_x_df3_test = ss.transform(x_test_df3)\n",
    "\n",
    "df_ss_x_df3_train = pd.DataFrame(ss_x_df3_train, columns = ['Deep_Pov_All', \n",
    "                                                            'Vets18OPct',\n",
    "                                                            'Ed1LessThanHSPct', \n",
    "                                                            'Ed2HSDiplomaOnlyPct',\n",
    "                                                            'Ed3SomeCollegePct',\n",
    "                                                            'Ed4AssocDegreePct',\n",
    "                                                            'Ed5CollegePlusPct',\n",
    "                                                            'unemployment_rate', \n",
    "                                                            #'Est_total_pop', \n",
    "                                                            'HI_ratio'])\n",
    "df_ss_x_df3_test = pd.DataFrame(ss_x_df3_test, columns = ['Deep_Pov_All',\n",
    "                                                          'Vets18OPct',\n",
    "                                                          'Ed1LessThanHSPct',\n",
    "                                                          'Ed2HSDiplomaOnlyPct',\n",
    "                                                          'Ed3SomeCollegePct', \n",
    "                                                          'Ed4AssocDegreePct', \n",
    "                                                          'Ed5CollegePlusPct',\n",
    "                                                          'unemployment_rate',\n",
    "                                                          #'Est_total_pop', \n",
    "                                                          'HI_ratio'])\n",
    "\n",
    "df_x_df3_train_std = pd.concat([df_ss_x_df3_train, x_train_df3_patsy], axis=1)\n",
    "df_x_df3_train_std['intercept'] = np.ones(len(df_x_df3_train_std))\n",
    "\n",
    "df_x_df3_test_std = pd.concat([df_ss_x_df3_test, x_test_df3_patsy], axis=1)\n",
    "df_x_df3_test_std['intercept'] = np.ones(len(df_x_df3_test_std))"
   ]
  },
  {
   "cell_type": "code",
   "execution_count": 24,
   "metadata": {
    "collapsed": true
   },
   "outputs": [],
   "source": [
    "#  Linear Regression\n",
    "lr = LinearRegression()\n",
    "lr.fit(df_x_df3_train_std, y_train_df3)\n",
    "lrpredict=lr.predict(df_x_df3_test_std)"
   ]
  },
  {
   "cell_type": "code",
   "execution_count": 25,
   "metadata": {},
   "outputs": [
    {
     "data": {
      "text/plain": [
       "0.37413889673197859"
      ]
     },
     "execution_count": 25,
     "metadata": {},
     "output_type": "execute_result"
    }
   ],
   "source": [
    "lr.score(df_x_df3_train_std, y_train_df3)"
   ]
  },
  {
   "cell_type": "code",
   "execution_count": 26,
   "metadata": {},
   "outputs": [
    {
     "data": {
      "text/plain": [
       "-7.2313430970053001e+19"
      ]
     },
     "execution_count": 26,
     "metadata": {},
     "output_type": "execute_result"
    }
   ],
   "source": [
    "lr.score(df_x_df3_test_std, y_test_df3)"
   ]
  },
  {
   "cell_type": "code",
   "execution_count": 27,
   "metadata": {
    "collapsed": true,
    "scrolled": true
   },
   "outputs": [],
   "source": [
    "# Ridge Regression\n",
    "ridge = Ridge()\n",
    "ridge.fit(df_x_df3_train_std, y_train_df3)\n",
    "ridgepredict = ridge.predict(df_x_df3_test_std)"
   ]
  },
  {
   "cell_type": "code",
   "execution_count": 28,
   "metadata": {
    "scrolled": true
   },
   "outputs": [
    {
     "data": {
      "text/plain": [
       "0.36980174942049399"
      ]
     },
     "execution_count": 28,
     "metadata": {},
     "output_type": "execute_result"
    }
   ],
   "source": [
    "ridge.score(df_x_df3_train_std, y_train_df3)"
   ]
  },
  {
   "cell_type": "code",
   "execution_count": 29,
   "metadata": {
    "scrolled": true
   },
   "outputs": [
    {
     "data": {
      "text/plain": [
       "0.23656112860905595"
      ]
     },
     "execution_count": 29,
     "metadata": {},
     "output_type": "execute_result"
    }
   ],
   "source": [
    "ridge.score(df_x_df3_test_std, y_test_df3)"
   ]
  },
  {
   "cell_type": "markdown",
   "metadata": {},
   "source": [
    "# Second Tree"
   ]
  },
  {
   "cell_type": "code",
   "execution_count": 30,
   "metadata": {
    "collapsed": true
   },
   "outputs": [],
   "source": [
    "dt_test_sc2 = []\n",
    "dt_train_sc2 = []\n",
    "\n",
    "for n in range(1,31):\n",
    "    DT_reg = DecisionTreeRegressor(max_depth=n)\n",
    "\n",
    "    train = DT_reg.fit(x_train_df3_full, y_train_df3_full).score(x_train_df3_full, y_train_df3_full)\n",
    "    dt_train_sc2.append(train)\n",
    "    \n",
    "    test = DT_reg.fit(x_test_df3_full, y_test_df3_full).score(x_test_df3_full, y_test_df3_full)\n",
    "    dt_test_sc2.append(test)\n",
    "    "
   ]
  },
  {
   "cell_type": "code",
   "execution_count": 31,
   "metadata": {
    "scrolled": false
   },
   "outputs": [
    {
     "name": "stderr",
     "output_type": "stream",
     "text": [
      "/Users/allandong/anaconda/lib/python3.6/site-packages/matplotlib/axes/_axes.py:545: UserWarning: No labelled objects found. Use label='...' kwarg on individual plots.\n",
      "  warnings.warn(\"No labelled objects found. \"\n"
     ]
    },
    {
     "data": {
      "image/png": "[encoded data removed]",
      "text/plain": [
       "<matplotlib.figure.Figure at 0x11df80860>"
      ]
     },
     "metadata": {},
     "output_type": "display_data"
    }
   ],
   "source": [
    "plt.figure(figsize=(10,6))\n",
    "plt.ylim(0,1)\n",
    "plt.xlim(0,30)\n",
    "plt.legend()\n",
    "\n",
    "plt.plot(range(1,31), dt_test_sc2, label='Test')\n",
    "plt.plot(range(1,31), dt_train_sc2, label='Train')\n",
    "plt.title('DecisionTree Score by Depth')\n",
    "plt.legend()\n",
    "plt.xlabel('max_depth')\n",
    "plt.ylabel('DecisionTree score')\n",
    "plt.show()"
   ]
  },
  {
   "cell_type": "code",
   "execution_count": 32,
   "metadata": {},
   "outputs": [
    {
     "data": {
      "text/plain": [
       "DecisionTreeRegressor(criterion='mse', max_depth=20, max_features=None,\n",
       "           max_leaf_nodes=None, min_impurity_split=1e-07,\n",
       "           min_samples_leaf=1, min_samples_split=2,\n",
       "           min_weight_fraction_leaf=0.0, presort=False, random_state=None,\n",
       "           splitter='best')"
      ]
     },
     "execution_count": 32,
     "metadata": {},
     "output_type": "execute_result"
    }
   ],
   "source": [
    "DT2_1 = DecisionTreeRegressor(max_depth=2)\n",
    "DT2_2 = DecisionTreeRegressor(max_depth=20)\n",
    "\n",
    "DT2_1.fit(x_train_df3_full, y_train_df3_full)\n",
    "DT2_2.fit(x_train_df3_full, y_train_df3_full)"
   ]
  },
  {
   "cell_type": "code",
   "execution_count": 33,
   "metadata": {
    "scrolled": true
   },
   "outputs": [
    {
     "data": {
      "text/plain": [
       "0.66205689699533798"
      ]
     },
     "execution_count": 33,
     "metadata": {},
     "output_type": "execute_result"
    }
   ],
   "source": [
    "DT2_2.score(x_train_df3_full, y_train_df3_full)"
   ]
  },
  {
   "cell_type": "code",
   "execution_count": 34,
   "metadata": {},
   "outputs": [
    {
     "data": {
      "text/plain": [
       "-0.69342536700599222"
      ]
     },
     "execution_count": 34,
     "metadata": {},
     "output_type": "execute_result"
    }
   ],
   "source": [
    "DT2_2.score(x_test_df3_full, y_test_df3_full)"
   ]
  },
  {
   "cell_type": "code",
   "execution_count": null,
   "metadata": {
    "collapsed": true,
    "scrolled": true
   },
   "outputs": [],
   "source": []
  },
  {
   "cell_type": "code",
   "execution_count": 35,
   "metadata": {
    "collapsed": true
   },
   "outputs": [],
   "source": [
    "RF_test_sc2 = []\n",
    "RF_train_sc2 = []\n",
    "\n",
    "for n in range(1,31):\n",
    "    RF_reg = RandomForestRegressor(n_estimators=10, max_depth=n)\n",
    "\n",
    "    train = RF_reg.fit(x_train_df3_full, y_train_df3_full).score(x_train_df3_full, y_train_df3_full)\n",
    "    RF_train_sc2.append(train)\n",
    "    \n",
    "    test = RF_reg.fit(x_test_df3_full, y_test_df3_full).score(x_test_df3_full, y_test_df3_full)\n",
    "    RF_test_sc2.append(test)\n",
    "    "
   ]
  },
  {
   "cell_type": "code",
   "execution_count": 36,
   "metadata": {},
   "outputs": [
    {
     "name": "stderr",
     "output_type": "stream",
     "text": [
      "/Users/allandong/anaconda/lib/python3.6/site-packages/matplotlib/axes/_axes.py:545: UserWarning: No labelled objects found. Use label='...' kwarg on individual plots.\n",
      "  warnings.warn(\"No labelled objects found. \"\n"
     ]
    },
    {
     "data": {
      "image/png": "[encoded data removed]",
      "text/plain": [
       "<matplotlib.figure.Figure at 0x120135908>"
      ]
     },
     "metadata": {},
     "output_type": "display_data"
    }
   ],
   "source": [
    "plt.figure(figsize=(10,8))\n",
    "plt.ylim(0,1)\n",
    "plt.xlim(0,30)\n",
    "plt.legend()\n",
    "\n",
    "plt.plot(range(1,31), RF_test_sc2, label='Test')\n",
    "plt.plot(range(1,31), RF_train_sc2, label='Train')\n",
    "\n",
    "plt.legend()\n",
    "plt.xlabel('max_depth')\n",
    "plt.ylabel('RandomForest score')\n",
    "plt.show()"
   ]
  },
  {
   "cell_type": "code",
   "execution_count": 37,
   "metadata": {},
   "outputs": [
    {
     "data": {
      "text/plain": [
       "RandomForestRegressor(bootstrap=True, criterion='mse', max_depth=20,\n",
       "           max_features='auto', max_leaf_nodes=None,\n",
       "           min_impurity_split=1e-07, min_samples_leaf=1,\n",
       "           min_samples_split=2, min_weight_fraction_leaf=0.0,\n",
       "           n_estimators=50, n_jobs=1, oob_score=True, random_state=None,\n",
       "           verbose=0, warm_start=False)"
      ]
     },
     "execution_count": 37,
     "metadata": {},
     "output_type": "execute_result"
    }
   ],
   "source": [
    "RF2_reg1 = RandomForestRegressor(max_depth=2)\n",
    "RF2_reg2 = RandomForestRegressor(n_estimators = 50, max_depth=20, max_features='auto', oob_score=True)\n",
    "\n",
    "RF2_reg1.fit(x_train_df3_full, y_train_df3_full)\n",
    "RF2_reg2.fit(x_train_df3_full, y_train_df3_full)\n",
    "\n"
   ]
  },
  {
   "cell_type": "code",
   "execution_count": 38,
   "metadata": {},
   "outputs": [
    {
     "data": {
      "text/plain": [
       "0.61276373608597101"
      ]
     },
     "execution_count": 38,
     "metadata": {},
     "output_type": "execute_result"
    }
   ],
   "source": [
    "RF2_reg2.score(x_train_df3_full, y_train_df3_full)"
   ]
  },
  {
   "cell_type": "code",
   "execution_count": 39,
   "metadata": {},
   "outputs": [
    {
     "data": {
      "text/plain": [
       "-0.19905152426425032"
      ]
     },
     "execution_count": 39,
     "metadata": {},
     "output_type": "execute_result"
    }
   ],
   "source": [
    "RF2_reg2.score(x_test_df3_full, y_test_df3_full)"
   ]
  },
  {
   "cell_type": "code",
   "execution_count": 40,
   "metadata": {},
   "outputs": [
    {
     "data": {
      "text/plain": [
       "-0.18508638299778601"
      ]
     },
     "execution_count": 40,
     "metadata": {},
     "output_type": "execute_result"
    }
   ],
   "source": [
    "RF2_reg2.oob_score_"
   ]
  },
  {
   "cell_type": "code",
   "execution_count": 41,
   "metadata": {
    "collapsed": true
   },
   "outputs": [],
   "source": [
    "DT2_features = DT2_2.feature_importances_\n",
    "RF2_features = RF2_reg2.feature_importances_\n",
    "\n",
    "df_feat2 = pd.DataFrame([DT2_features, RF2_features], columns = x_train_df3_full.columns, index=['DecisionTree', 'RandomForest']).T"
   ]
  },
  {
   "cell_type": "code",
   "execution_count": 42,
   "metadata": {
    "scrolled": true
   },
   "outputs": [
    {
     "data": {
      "text/plain": [
       "Deep_Pov_All                          0.191557\n",
       "HI_ratio                              0.120661\n",
       "unemployment_rate                     0.109487\n",
       "Vets18OPct                            0.087411\n",
       "Gender[T.Male]                        0.072796\n",
       "Year                                  0.068780\n",
       "Ed4AssocDegreePct                     0.059071\n",
       "Ed2HSDiplomaOnlyPct                   0.057291\n",
       "Ed5CollegePlusPct                     0.045494\n",
       "Ed1LessThanHSPct                      0.027819\n",
       "Ed3SomeCollegePct                     0.027524\n",
       "County[T.Mercer County, NJ]           0.020886\n",
       "County[T.Caddo Parish, LA]            0.016688\n",
       "County[T.Madison County, AL]          0.013553\n",
       "County[T.San Francisco County, CA]    0.012467\n",
       "County[T.Atlantic County, NJ]         0.010679\n",
       "County[T.Delaware County, PA]         0.008793\n",
       "County[T.Fulton County, GA]           0.008180\n",
       "County[T.Hamilton County, TN]         0.004429\n",
       "Type_2015_Nonspecialized_NO           0.003598\n",
       "County[T.Essex County, NJ]            0.003466\n",
       "County[T.Cook County, IL]             0.002211\n",
       "County[T.Pinellas County, FL]         0.002127\n",
       "Type_2015_Recreation_NO               0.001641\n",
       "Type_2015_Government_NO               0.001593\n",
       "County[T.St. Joseph County, IN]       0.001530\n",
       "County[T.Cobb County, GA]             0.001463\n",
       "County[T.Oklahoma County, OK]         0.001428\n",
       "County[T.Gwinnett County, GA]         0.001222\n",
       "County[T.Onondaga County, NY]         0.001157\n",
       "                                        ...   \n",
       "County[T.Kane County, IL]             0.000000\n",
       "County[T.Johnson County, KS]          0.000000\n",
       "County[T.Jefferson Parish, LA]        0.000000\n",
       "County[T.Marion County, OR]           0.000000\n",
       "County[T.McHenry County, IL]          0.000000\n",
       "County[T.Miami-Dade County, FL]       0.000000\n",
       "County[T.Norfolk County, MA]          0.000000\n",
       "County[T.Pasco County, FL]            0.000000\n",
       "County[T.Osceola County, FL]          0.000000\n",
       "County[T.Orleans Parish, LA]          0.000000\n",
       "County[T.Orange County, NY]           0.000000\n",
       "County[T.Orange County, FL]           0.000000\n",
       "County[T.Orange County, CA]           0.000000\n",
       "County[T.Ocean County, NJ]            0.000000\n",
       "County[T.Oakland County, MI]          0.000000\n",
       "County[T.Nueces County, TX]           0.000000\n",
       "County[T.Northampton County, PA]      0.000000\n",
       "County[T.New London County, CT]       0.000000\n",
       "County[T.Middlesex County, MA]        0.000000\n",
       "County[T.New Haven County, CT]        0.000000\n",
       "County[T.Multnomah County, OR]        0.000000\n",
       "County[T.Morris County, NJ]           0.000000\n",
       "County[T.Montgomery County, TX]       0.000000\n",
       "County[T.Montgomery County, OH]       0.000000\n",
       "County[T.Montgomery County, MD]       0.000000\n",
       "County[T.Monterey County, CA]         0.000000\n",
       "County[T.Monroe County, NY]           0.000000\n",
       "County[T.Monmouth County, NJ]         0.000000\n",
       "County[T.Mobile County, AL]           0.000000\n",
       "County[T.Luzerne County, PA]          0.000000\n",
       "Name: DecisionTree, Length: 261, dtype: float64"
      ]
     },
     "execution_count": 42,
     "metadata": {},
     "output_type": "execute_result"
    }
   ],
   "source": [
    "df_feat2['DecisionTree'].reindex(df_feat2['DecisionTree'].sort_values(inplace=False, ascending=False).index)"
   ]
  },
  {
   "cell_type": "code",
   "execution_count": 43,
   "metadata": {
    "scrolled": true
   },
   "outputs": [
    {
     "data": {
      "text/plain": [
       "Deep_Pov_All                          1.609299e-01\n",
       "HI_ratio                              1.275083e-01\n",
       "unemployment_rate                     1.174682e-01\n",
       "Year                                  7.840145e-02\n",
       "Gender[T.Male]                        7.477395e-02\n",
       "Vets18OPct                            7.399847e-02\n",
       "Ed1LessThanHSPct                      5.157173e-02\n",
       "Ed2HSDiplomaOnlyPct                   4.870280e-02\n",
       "Ed4AssocDegreePct                     3.764793e-02\n",
       "Ed5CollegePlusPct                     3.033044e-02\n",
       "Ed3SomeCollegePct                     2.832529e-02\n",
       "County[T.Mercer County, NJ]           1.622504e-02\n",
       "County[T.San Francisco County, CA]    1.407051e-02\n",
       "County[T.Madison County, AL]          9.773212e-03\n",
       "County[T.Atlantic County, NJ]         9.305720e-03\n",
       "County[T.Caddo Parish, LA]            8.315191e-03\n",
       "County[T.Delaware County, PA]         7.254471e-03\n",
       "County[T.Fresno County, CA]           5.546942e-03\n",
       "County[T.Hamilton County, TN]         4.276210e-03\n",
       "Type_2015_Nonspecialized_NO           3.890114e-03\n",
       "County[T.Henrico County, VA]          3.728625e-03\n",
       "County[T.Richmond County, NY]         3.592051e-03\n",
       "County[T.Fayette County, KY]          3.402363e-03\n",
       "County[T.Dauphin County, PA]          3.377215e-03\n",
       "County[T.Wake County, NC]             3.156093e-03\n",
       "County[T.St. Louis city, MO]          3.020942e-03\n",
       "County[T.San Joaquin County, CA]      2.979437e-03\n",
       "County[T.St. Louis County, MO]        2.422561e-03\n",
       "County[T.Forsyth County, NC]          2.343202e-03\n",
       "Type_2015_Government_NO               2.301211e-03\n",
       "                                          ...     \n",
       "County[T.Dakota County, MN]           2.832160e-06\n",
       "County[T.Luzerne County, PA]          2.826751e-06\n",
       "County[T.Madison County, IL]          2.663187e-06\n",
       "County[T.Hillsborough County, NH]     2.466184e-06\n",
       "County[T.Anoka County, MN]            2.139509e-06\n",
       "County[T.Lancaster County, NE]        2.108150e-06\n",
       "County[T.San Mateo County, CA]        1.975997e-06\n",
       "County[T.Ventura County, CA]          1.648562e-06\n",
       "County[T.Brevard County, FL]          1.596249e-06\n",
       "County[T.Mahoning County, OH]         1.373436e-06\n",
       "County[T.Monmouth County, NJ]         7.937560e-07\n",
       "County[T.Clackamas County, OR]        6.562156e-07\n",
       "County[T.Norfolk County, MA]          5.895275e-07\n",
       "County[T.Lake County, FL]             5.687139e-07\n",
       "County[T.Solano County, CA]           3.153157e-07\n",
       "County[T.Pinal County, AZ]            7.752829e-09\n",
       "County[T.Seminole County, FL]         0.000000e+00\n",
       "Metro2013                             0.000000e+00\n",
       "Nonmetro2013                          0.000000e+00\n",
       "Micropolitan2013                      0.000000e+00\n",
       "Type_2015_Farming_NO                  0.000000e+00\n",
       "County[T.Chatham County, GA]          0.000000e+00\n",
       "County[T.Sarasota County, FL]         0.000000e+00\n",
       "County[T.Osceola County, FL]          0.000000e+00\n",
       "County[T.McHenry County, IL]          0.000000e+00\n",
       "Noncore2013                           0.000000e+00\n",
       "County[T.Galveston County, TX]        0.000000e+00\n",
       "County[T.Durham County, NC]           0.000000e+00\n",
       "County[T.Cleveland County, OK]        0.000000e+00\n",
       "Metro_Adjacent2013                    0.000000e+00\n",
       "Name: RandomForest, Length: 261, dtype: float64"
      ]
     },
     "execution_count": 43,
     "metadata": {},
     "output_type": "execute_result"
    }
   ],
   "source": [
    "df_feat2['RandomForest'].reindex(df_feat2['RandomForest'].sort_values(inplace=False, ascending=False).index)"
   ]
  },
  {
   "cell_type": "code",
   "execution_count": 46,
   "metadata": {
    "collapsed": true
   },
   "outputs": [],
   "source": [
    "gp_race = df_rg.groupby(['Year', 'County','Race']).agg({'Births':'first','Deaths':'sum'})\n",
    "gp_race['Death_ratio'] = gp_race['Deaths']/gp_race['Births']"
   ]
  },
  {
   "cell_type": "code",
   "execution_count": 47,
   "metadata": {
    "scrolled": false
   },
   "outputs": [
    {
     "ename": "TypeError",
     "evalue": "'<=' not supported between instances of 'float' and 'str'",
     "output_type": "error",
     "traceback": [
      "\u001b[0;31m---------------------------------------------------------------------------\u001b[0m",
      "\u001b[0;31mTypeError\u001b[0m                                 Traceback (most recent call last)",
      "\u001b[0;32m~/anaconda/lib/python3.6/site-packages/pandas/core/nanops.py\u001b[0m in \u001b[0;36mf\u001b[0;34m(values, axis, skipna, **kwds)\u001b[0m\n\u001b[1;32m    118\u001b[0m                 \u001b[0;32melse\u001b[0m\u001b[0;34m:\u001b[0m\u001b[0;34m\u001b[0m\u001b[0m\n\u001b[0;32m--> 119\u001b[0;31m                     \u001b[0mresult\u001b[0m \u001b[0;34m=\u001b[0m \u001b[0malt\u001b[0m\u001b[0;34m(\u001b[0m\u001b[0mvalues\u001b[0m\u001b[0;34m,\u001b[0m \u001b[0maxis\u001b[0m\u001b[0;34m=\u001b[0m\u001b[0maxis\u001b[0m\u001b[0;34m,\u001b[0m \u001b[0mskipna\u001b[0m\u001b[0;34m=\u001b[0m\u001b[0mskipna\u001b[0m\u001b[0;34m,\u001b[0m \u001b[0;34m**\u001b[0m\u001b[0mkwds\u001b[0m\u001b[0;34m)\u001b[0m\u001b[0;34m\u001b[0m\u001b[0m\n\u001b[0m\u001b[1;32m    120\u001b[0m             \u001b[0;32mexcept\u001b[0m \u001b[0mException\u001b[0m\u001b[0;34m:\u001b[0m\u001b[0;34m\u001b[0m\u001b[0m\n",
      "\u001b[0;32m~/anaconda/lib/python3.6/site-packages/pandas/core/nanops.py\u001b[0m in \u001b[0;36mreduction\u001b[0;34m(values, axis, skipna)\u001b[0m\n\u001b[1;32m    459\u001b[0m         \u001b[0;32melse\u001b[0m\u001b[0;34m:\u001b[0m\u001b[0;34m\u001b[0m\u001b[0m\n\u001b[0;32m--> 460\u001b[0;31m             \u001b[0mresult\u001b[0m \u001b[0;34m=\u001b[0m \u001b[0mgetattr\u001b[0m\u001b[0;34m(\u001b[0m\u001b[0mvalues\u001b[0m\u001b[0;34m,\u001b[0m \u001b[0mmeth\u001b[0m\u001b[0;34m)\u001b[0m\u001b[0;34m(\u001b[0m\u001b[0maxis\u001b[0m\u001b[0;34m)\u001b[0m\u001b[0;34m\u001b[0m\u001b[0m\n\u001b[0m\u001b[1;32m    461\u001b[0m \u001b[0;34m\u001b[0m\u001b[0m\n",
      "\u001b[0;32m~/anaconda/lib/python3.6/site-packages/numpy/core/_methods.py\u001b[0m in \u001b[0;36m_amin\u001b[0;34m(a, axis, out, keepdims)\u001b[0m\n\u001b[1;32m     28\u001b[0m \u001b[0;32mdef\u001b[0m \u001b[0m_amin\u001b[0m\u001b[0;34m(\u001b[0m\u001b[0ma\u001b[0m\u001b[0;34m,\u001b[0m \u001b[0maxis\u001b[0m\u001b[0;34m=\u001b[0m\u001b[0;32mNone\u001b[0m\u001b[0;34m,\u001b[0m \u001b[0mout\u001b[0m\u001b[0;34m=\u001b[0m\u001b[0;32mNone\u001b[0m\u001b[0;34m,\u001b[0m \u001b[0mkeepdims\u001b[0m\u001b[0;34m=\u001b[0m\u001b[0;32mFalse\u001b[0m\u001b[0;34m)\u001b[0m\u001b[0;34m:\u001b[0m\u001b[0;34m\u001b[0m\u001b[0m\n\u001b[0;32m---> 29\u001b[0;31m     \u001b[0;32mreturn\u001b[0m \u001b[0mumr_minimum\u001b[0m\u001b[0;34m(\u001b[0m\u001b[0ma\u001b[0m\u001b[0;34m,\u001b[0m \u001b[0maxis\u001b[0m\u001b[0;34m,\u001b[0m \u001b[0;32mNone\u001b[0m\u001b[0;34m,\u001b[0m \u001b[0mout\u001b[0m\u001b[0;34m,\u001b[0m \u001b[0mkeepdims\u001b[0m\u001b[0;34m)\u001b[0m\u001b[0;34m\u001b[0m\u001b[0m\n\u001b[0m\u001b[1;32m     30\u001b[0m \u001b[0;34m\u001b[0m\u001b[0m\n",
      "\u001b[0;31mTypeError\u001b[0m: '<=' not supported between instances of 'float' and 'str'",
      "\nDuring handling of the above exception, another exception occurred:\n",
      "\u001b[0;31mTypeError\u001b[0m                                 Traceback (most recent call last)",
      "\u001b[0;32m<ipython-input-47-7a4cfc268aac>\u001b[0m in \u001b[0;36m<module>\u001b[0;34m()\u001b[0m\n\u001b[1;32m      3\u001b[0m \u001b[0msns\u001b[0m\u001b[0;34m.\u001b[0m\u001b[0mset_context\u001b[0m\u001b[0;34m(\u001b[0m\u001b[0;34m'talk'\u001b[0m\u001b[0;34m)\u001b[0m\u001b[0;34m\u001b[0m\u001b[0m\n\u001b[1;32m      4\u001b[0m \u001b[0;34m\u001b[0m\u001b[0m\n\u001b[0;32m----> 5\u001b[0;31m \u001b[0msns\u001b[0m\u001b[0;34m.\u001b[0m\u001b[0mregplot\u001b[0m\u001b[0;34m(\u001b[0m\u001b[0;34m(\u001b[0m\u001b[0mdf3_std\u001b[0m\u001b[0;34m[\u001b[0m\u001b[0;34m'unemployment_rate'\u001b[0m\u001b[0;34m]\u001b[0m\u001b[0;34m)\u001b[0m\u001b[0;34m,\u001b[0m \u001b[0mdf3_std\u001b[0m\u001b[0;34m.\u001b[0m\u001b[0mDeath_ratio\u001b[0m\u001b[0;34m,\u001b[0m \u001b[0mlogx\u001b[0m\u001b[0;34m=\u001b[0m\u001b[0;32mTrue\u001b[0m\u001b[0;34m)\u001b[0m\u001b[0;34m\u001b[0m\u001b[0m\n\u001b[0m",
      "\u001b[0;32m~/anaconda/lib/python3.6/site-packages/seaborn/linearmodels.py\u001b[0m in \u001b[0;36mregplot\u001b[0;34m(x, y, data, x_estimator, x_bins, x_ci, scatter, fit_reg, ci, n_boot, units, order, logistic, lowess, robust, logx, x_partial, y_partial, truncate, dropna, x_jitter, y_jitter, label, color, marker, scatter_kws, line_kws, ax)\u001b[0m\n\u001b[1;32m    769\u001b[0m                                  \u001b[0morder\u001b[0m\u001b[0;34m,\u001b[0m \u001b[0mlogistic\u001b[0m\u001b[0;34m,\u001b[0m \u001b[0mlowess\u001b[0m\u001b[0;34m,\u001b[0m \u001b[0mrobust\u001b[0m\u001b[0;34m,\u001b[0m \u001b[0mlogx\u001b[0m\u001b[0;34m,\u001b[0m\u001b[0;34m\u001b[0m\u001b[0m\n\u001b[1;32m    770\u001b[0m                                  \u001b[0mx_partial\u001b[0m\u001b[0;34m,\u001b[0m \u001b[0my_partial\u001b[0m\u001b[0;34m,\u001b[0m \u001b[0mtruncate\u001b[0m\u001b[0;34m,\u001b[0m \u001b[0mdropna\u001b[0m\u001b[0;34m,\u001b[0m\u001b[0;34m\u001b[0m\u001b[0m\n\u001b[0;32m--> 771\u001b[0;31m                                  x_jitter, y_jitter, color, label)\n\u001b[0m\u001b[1;32m    772\u001b[0m \u001b[0;34m\u001b[0m\u001b[0m\n\u001b[1;32m    773\u001b[0m     \u001b[0;32mif\u001b[0m \u001b[0max\u001b[0m \u001b[0;32mis\u001b[0m \u001b[0;32mNone\u001b[0m\u001b[0;34m:\u001b[0m\u001b[0;34m\u001b[0m\u001b[0m\n",
      "\u001b[0;32m~/anaconda/lib/python3.6/site-packages/seaborn/linearmodels.py\u001b[0m in \u001b[0;36m__init__\u001b[0;34m(self, x, y, data, x_estimator, x_bins, x_ci, scatter, fit_reg, ci, n_boot, units, order, logistic, lowess, robust, logx, x_partial, y_partial, truncate, dropna, x_jitter, y_jitter, color, label)\u001b[0m\n\u001b[1;32m    129\u001b[0m \u001b[0;34m\u001b[0m\u001b[0m\n\u001b[1;32m    130\u001b[0m         \u001b[0;31m# Save the range of the x variable for the grid later\u001b[0m\u001b[0;34m\u001b[0m\u001b[0;34m\u001b[0m\u001b[0m\n\u001b[0;32m--> 131\u001b[0;31m         \u001b[0mself\u001b[0m\u001b[0;34m.\u001b[0m\u001b[0mx_range\u001b[0m \u001b[0;34m=\u001b[0m \u001b[0mself\u001b[0m\u001b[0;34m.\u001b[0m\u001b[0mx\u001b[0m\u001b[0;34m.\u001b[0m\u001b[0mmin\u001b[0m\u001b[0;34m(\u001b[0m\u001b[0;34m)\u001b[0m\u001b[0;34m,\u001b[0m \u001b[0mself\u001b[0m\u001b[0;34m.\u001b[0m\u001b[0mx\u001b[0m\u001b[0;34m.\u001b[0m\u001b[0mmax\u001b[0m\u001b[0;34m(\u001b[0m\u001b[0;34m)\u001b[0m\u001b[0;34m\u001b[0m\u001b[0m\n\u001b[0m\u001b[1;32m    132\u001b[0m \u001b[0;34m\u001b[0m\u001b[0m\n\u001b[1;32m    133\u001b[0m     \u001b[0;34m@\u001b[0m\u001b[0mproperty\u001b[0m\u001b[0;34m\u001b[0m\u001b[0m\n",
      "\u001b[0;32m~/anaconda/lib/python3.6/site-packages/pandas/core/generic.py\u001b[0m in \u001b[0;36mstat_func\u001b[0;34m(self, axis, skipna, level, numeric_only, **kwargs)\u001b[0m\n\u001b[1;32m   6340\u001b[0m                                       skipna=skipna)\n\u001b[1;32m   6341\u001b[0m         return self._reduce(f, name, axis=axis, skipna=skipna,\n\u001b[0;32m-> 6342\u001b[0;31m                             numeric_only=numeric_only)\n\u001b[0m\u001b[1;32m   6343\u001b[0m \u001b[0;34m\u001b[0m\u001b[0m\n\u001b[1;32m   6344\u001b[0m     \u001b[0;32mreturn\u001b[0m \u001b[0mset_function_name\u001b[0m\u001b[0;34m(\u001b[0m\u001b[0mstat_func\u001b[0m\u001b[0;34m,\u001b[0m \u001b[0mname\u001b[0m\u001b[0;34m,\u001b[0m \u001b[0mcls\u001b[0m\u001b[0;34m)\u001b[0m\u001b[0;34m\u001b[0m\u001b[0m\n",
      "\u001b[0;32m~/anaconda/lib/python3.6/site-packages/pandas/core/series.py\u001b[0m in \u001b[0;36m_reduce\u001b[0;34m(self, op, name, axis, skipna, numeric_only, filter_type, **kwds)\u001b[0m\n\u001b[1;32m   2379\u001b[0m                                           'numeric_only.'.format(name))\n\u001b[1;32m   2380\u001b[0m             \u001b[0;32mwith\u001b[0m \u001b[0mnp\u001b[0m\u001b[0;34m.\u001b[0m\u001b[0merrstate\u001b[0m\u001b[0;34m(\u001b[0m\u001b[0mall\u001b[0m\u001b[0;34m=\u001b[0m\u001b[0;34m'ignore'\u001b[0m\u001b[0;34m)\u001b[0m\u001b[0;34m:\u001b[0m\u001b[0;34m\u001b[0m\u001b[0m\n\u001b[0;32m-> 2381\u001b[0;31m                 \u001b[0;32mreturn\u001b[0m \u001b[0mop\u001b[0m\u001b[0;34m(\u001b[0m\u001b[0mdelegate\u001b[0m\u001b[0;34m,\u001b[0m \u001b[0mskipna\u001b[0m\u001b[0;34m=\u001b[0m\u001b[0mskipna\u001b[0m\u001b[0;34m,\u001b[0m \u001b[0;34m**\u001b[0m\u001b[0mkwds\u001b[0m\u001b[0;34m)\u001b[0m\u001b[0;34m\u001b[0m\u001b[0m\n\u001b[0m\u001b[1;32m   2382\u001b[0m \u001b[0;34m\u001b[0m\u001b[0m\n\u001b[1;32m   2383\u001b[0m         return delegate._reduce(op=op, name=name, axis=axis, skipna=skipna,\n",
      "\u001b[0;32m~/anaconda/lib/python3.6/site-packages/pandas/core/nanops.py\u001b[0m in \u001b[0;36mf\u001b[0;34m(values, axis, skipna, **kwds)\u001b[0m\n\u001b[1;32m    120\u001b[0m             \u001b[0;32mexcept\u001b[0m \u001b[0mException\u001b[0m\u001b[0;34m:\u001b[0m\u001b[0;34m\u001b[0m\u001b[0m\n\u001b[1;32m    121\u001b[0m                 \u001b[0;32mtry\u001b[0m\u001b[0;34m:\u001b[0m\u001b[0;34m\u001b[0m\u001b[0m\n\u001b[0;32m--> 122\u001b[0;31m                     \u001b[0mresult\u001b[0m \u001b[0;34m=\u001b[0m \u001b[0malt\u001b[0m\u001b[0;34m(\u001b[0m\u001b[0mvalues\u001b[0m\u001b[0;34m,\u001b[0m \u001b[0maxis\u001b[0m\u001b[0;34m=\u001b[0m\u001b[0maxis\u001b[0m\u001b[0;34m,\u001b[0m \u001b[0mskipna\u001b[0m\u001b[0;34m=\u001b[0m\u001b[0mskipna\u001b[0m\u001b[0;34m,\u001b[0m \u001b[0;34m**\u001b[0m\u001b[0mkwds\u001b[0m\u001b[0;34m)\u001b[0m\u001b[0;34m\u001b[0m\u001b[0m\n\u001b[0m\u001b[1;32m    123\u001b[0m                 \u001b[0;32mexcept\u001b[0m \u001b[0mValueError\u001b[0m \u001b[0;32mas\u001b[0m \u001b[0me\u001b[0m\u001b[0;34m:\u001b[0m\u001b[0;34m\u001b[0m\u001b[0m\n\u001b[1;32m    124\u001b[0m                     \u001b[0;31m# we want to transform an object array\u001b[0m\u001b[0;34m\u001b[0m\u001b[0;34m\u001b[0m\u001b[0m\n",
      "\u001b[0;32m~/anaconda/lib/python3.6/site-packages/pandas/core/nanops.py\u001b[0m in \u001b[0;36mreduction\u001b[0;34m(values, axis, skipna)\u001b[0m\n\u001b[1;32m    458\u001b[0m                 \u001b[0mresult\u001b[0m \u001b[0;34m=\u001b[0m \u001b[0mnp\u001b[0m\u001b[0;34m.\u001b[0m\u001b[0mnan\u001b[0m\u001b[0;34m\u001b[0m\u001b[0m\n\u001b[1;32m    459\u001b[0m         \u001b[0;32melse\u001b[0m\u001b[0;34m:\u001b[0m\u001b[0;34m\u001b[0m\u001b[0m\n\u001b[0;32m--> 460\u001b[0;31m             \u001b[0mresult\u001b[0m \u001b[0;34m=\u001b[0m \u001b[0mgetattr\u001b[0m\u001b[0;34m(\u001b[0m\u001b[0mvalues\u001b[0m\u001b[0;34m,\u001b[0m \u001b[0mmeth\u001b[0m\u001b[0;34m)\u001b[0m\u001b[0;34m(\u001b[0m\u001b[0maxis\u001b[0m\u001b[0;34m)\u001b[0m\u001b[0;34m\u001b[0m\u001b[0m\n\u001b[0m\u001b[1;32m    461\u001b[0m \u001b[0;34m\u001b[0m\u001b[0m\n\u001b[1;32m    462\u001b[0m         \u001b[0mresult\u001b[0m \u001b[0;34m=\u001b[0m \u001b[0m_wrap_results\u001b[0m\u001b[0;34m(\u001b[0m\u001b[0mresult\u001b[0m\u001b[0;34m,\u001b[0m \u001b[0mdtype\u001b[0m\u001b[0;34m)\u001b[0m\u001b[0;34m\u001b[0m\u001b[0m\n",
      "\u001b[0;32m~/anaconda/lib/python3.6/site-packages/numpy/core/_methods.py\u001b[0m in \u001b[0;36m_amin\u001b[0;34m(a, axis, out, keepdims)\u001b[0m\n\u001b[1;32m     27\u001b[0m \u001b[0;34m\u001b[0m\u001b[0m\n\u001b[1;32m     28\u001b[0m \u001b[0;32mdef\u001b[0m \u001b[0m_amin\u001b[0m\u001b[0;34m(\u001b[0m\u001b[0ma\u001b[0m\u001b[0;34m,\u001b[0m \u001b[0maxis\u001b[0m\u001b[0;34m=\u001b[0m\u001b[0;32mNone\u001b[0m\u001b[0;34m,\u001b[0m \u001b[0mout\u001b[0m\u001b[0;34m=\u001b[0m\u001b[0;32mNone\u001b[0m\u001b[0;34m,\u001b[0m \u001b[0mkeepdims\u001b[0m\u001b[0;34m=\u001b[0m\u001b[0;32mFalse\u001b[0m\u001b[0;34m)\u001b[0m\u001b[0;34m:\u001b[0m\u001b[0;34m\u001b[0m\u001b[0m\n\u001b[0;32m---> 29\u001b[0;31m     \u001b[0;32mreturn\u001b[0m \u001b[0mumr_minimum\u001b[0m\u001b[0;34m(\u001b[0m\u001b[0ma\u001b[0m\u001b[0;34m,\u001b[0m \u001b[0maxis\u001b[0m\u001b[0;34m,\u001b[0m \u001b[0;32mNone\u001b[0m\u001b[0;34m,\u001b[0m \u001b[0mout\u001b[0m\u001b[0;34m,\u001b[0m \u001b[0mkeepdims\u001b[0m\u001b[0;34m)\u001b[0m\u001b[0;34m\u001b[0m\u001b[0m\n\u001b[0m\u001b[1;32m     30\u001b[0m \u001b[0;34m\u001b[0m\u001b[0m\n\u001b[1;32m     31\u001b[0m \u001b[0;32mdef\u001b[0m \u001b[0m_sum\u001b[0m\u001b[0;34m(\u001b[0m\u001b[0ma\u001b[0m\u001b[0;34m,\u001b[0m \u001b[0maxis\u001b[0m\u001b[0;34m=\u001b[0m\u001b[0;32mNone\u001b[0m\u001b[0;34m,\u001b[0m \u001b[0mdtype\u001b[0m\u001b[0;34m=\u001b[0m\u001b[0;32mNone\u001b[0m\u001b[0;34m,\u001b[0m \u001b[0mout\u001b[0m\u001b[0;34m=\u001b[0m\u001b[0;32mNone\u001b[0m\u001b[0;34m,\u001b[0m \u001b[0mkeepdims\u001b[0m\u001b[0;34m=\u001b[0m\u001b[0;32mFalse\u001b[0m\u001b[0;34m)\u001b[0m\u001b[0;34m:\u001b[0m\u001b[0;34m\u001b[0m\u001b[0m\n",
      "\u001b[0;31mTypeError\u001b[0m: '<=' not supported between instances of 'float' and 'str'"
     ]
    },
    {
     "data": {
      "image/png": "[encoded data removed]",
      "text/plain": [
       "<matplotlib.figure.Figure at 0x120dd09e8>"
      ]
     },
     "metadata": {},
     "output_type": "display_data"
    }
   ],
   "source": [
    "\n",
    "plt.title('Health Insurance Ratio vs Death_ratio')\n",
    "sns.set_context('talk')\n",
    "\n",
    "sns.regplot((df3_std['unemployment_rate']), df3_std.Death_ratio, logx=True)"
   ]
  },
  {
   "cell_type": "code",
   "execution_count": null,
   "metadata": {
    "collapsed": true
   },
   "outputs": [],
   "source": [
    "#### x_hi = df3_std.HI_ratio\n",
    "y_hi = df3_std.Death_ratio\n",
    "\n",
    "x_hi_train, x_hi_test, y_hi_train, y_hi_test = train_test_split(x_hi, y_hi, \n",
    "                                                                test_size=0.25,\n",
    "                                                                random_state=20\n",
    "                                                           )"
   ]
  },
  {
   "cell_type": "code",
   "execution_count": 273,
   "metadata": {},
   "outputs": [
    {
     "name": "stderr",
     "output_type": "stream",
     "text": [
      "/Users/allandong/anaconda/lib/python3.6/site-packages/sklearn/utils/validation.py:395: DeprecationWarning: Passing 1d arrays as data is deprecated in 0.17 and will raise ValueError in 0.19. Reshape your data either using X.reshape(-1, 1) if your data has a single feature or X.reshape(1, -1) if it contains a single sample.\n",
      "  DeprecationWarning)\n"
     ]
    },
    {
     "ename": "ValueError",
     "evalue": "Found input variables with inconsistent numbers of samples: [1, 2528]",
     "output_type": "error",
     "traceback": [
      "\u001b[0;31m---------------------------------------------------------------------------\u001b[0m",
      "\u001b[0;31mValueError\u001b[0m                                Traceback (most recent call last)",
      "\u001b[0;32m<ipython-input-273-19732c165c20>\u001b[0m in \u001b[0;36m<module>\u001b[0;34m()\u001b[0m\n\u001b[1;32m      1\u001b[0m \u001b[0mlr\u001b[0m\u001b[0;34m=\u001b[0m\u001b[0mLinearRegression\u001b[0m\u001b[0;34m(\u001b[0m\u001b[0;34m)\u001b[0m\u001b[0;34m\u001b[0m\u001b[0m\n\u001b[0;32m----> 2\u001b[0;31m \u001b[0mlr\u001b[0m\u001b[0;34m.\u001b[0m\u001b[0mfit\u001b[0m\u001b[0;34m(\u001b[0m\u001b[0mx_hi_train\u001b[0m\u001b[0;34m,\u001b[0m \u001b[0my_hi_train\u001b[0m\u001b[0;34m)\u001b[0m\u001b[0;34m\u001b[0m\u001b[0m\n\u001b[0m\u001b[1;32m      3\u001b[0m \u001b[0mlr\u001b[0m\u001b[0;34m.\u001b[0m\u001b[0mpredict\u001b[0m\u001b[0;34m(\u001b[0m\u001b[0mx_hi_test\u001b[0m\u001b[0;34m)\u001b[0m\u001b[0;34m\u001b[0m\u001b[0m\n\u001b[1;32m      4\u001b[0m \u001b[0mlr\u001b[0m\u001b[0;34m.\u001b[0m\u001b[0mscore\u001b[0m\u001b[0;34m(\u001b[0m\u001b[0mx_hi_test\u001b[0m\u001b[0;34m,\u001b[0m \u001b[0my_hi_test\u001b[0m\u001b[0;34m)\u001b[0m\u001b[0;34m\u001b[0m\u001b[0m\n",
      "\u001b[0;32m~/anaconda/lib/python3.6/site-packages/sklearn/linear_model/base.py\u001b[0m in \u001b[0;36mfit\u001b[0;34m(self, X, y, sample_weight)\u001b[0m\n\u001b[1;32m    510\u001b[0m         \u001b[0mn_jobs_\u001b[0m \u001b[0;34m=\u001b[0m \u001b[0mself\u001b[0m\u001b[0;34m.\u001b[0m\u001b[0mn_jobs\u001b[0m\u001b[0;34m\u001b[0m\u001b[0m\n\u001b[1;32m    511\u001b[0m         X, y = check_X_y(X, y, accept_sparse=['csr', 'csc', 'coo'],\n\u001b[0;32m--> 512\u001b[0;31m                          y_numeric=True, multi_output=True)\n\u001b[0m\u001b[1;32m    513\u001b[0m \u001b[0;34m\u001b[0m\u001b[0m\n\u001b[1;32m    514\u001b[0m         \u001b[0;32mif\u001b[0m \u001b[0msample_weight\u001b[0m \u001b[0;32mis\u001b[0m \u001b[0;32mnot\u001b[0m \u001b[0;32mNone\u001b[0m \u001b[0;32mand\u001b[0m \u001b[0mnp\u001b[0m\u001b[0;34m.\u001b[0m\u001b[0matleast_1d\u001b[0m\u001b[0;34m(\u001b[0m\u001b[0msample_weight\u001b[0m\u001b[0;34m)\u001b[0m\u001b[0;34m.\u001b[0m\u001b[0mndim\u001b[0m \u001b[0;34m>\u001b[0m \u001b[0;36m1\u001b[0m\u001b[0;34m:\u001b[0m\u001b[0;34m\u001b[0m\u001b[0m\n",
      "\u001b[0;32m~/anaconda/lib/python3.6/site-packages/sklearn/utils/validation.py\u001b[0m in \u001b[0;36mcheck_X_y\u001b[0;34m(X, y, accept_sparse, dtype, order, copy, force_all_finite, ensure_2d, allow_nd, multi_output, ensure_min_samples, ensure_min_features, y_numeric, warn_on_dtype, estimator)\u001b[0m\n\u001b[1;32m    529\u001b[0m         \u001b[0my\u001b[0m \u001b[0;34m=\u001b[0m \u001b[0my\u001b[0m\u001b[0;34m.\u001b[0m\u001b[0mastype\u001b[0m\u001b[0;34m(\u001b[0m\u001b[0mnp\u001b[0m\u001b[0;34m.\u001b[0m\u001b[0mfloat64\u001b[0m\u001b[0;34m)\u001b[0m\u001b[0;34m\u001b[0m\u001b[0m\n\u001b[1;32m    530\u001b[0m \u001b[0;34m\u001b[0m\u001b[0m\n\u001b[0;32m--> 531\u001b[0;31m     \u001b[0mcheck_consistent_length\u001b[0m\u001b[0;34m(\u001b[0m\u001b[0mX\u001b[0m\u001b[0;34m,\u001b[0m \u001b[0my\u001b[0m\u001b[0;34m)\u001b[0m\u001b[0;34m\u001b[0m\u001b[0m\n\u001b[0m\u001b[1;32m    532\u001b[0m \u001b[0;34m\u001b[0m\u001b[0m\n\u001b[1;32m    533\u001b[0m     \u001b[0;32mreturn\u001b[0m \u001b[0mX\u001b[0m\u001b[0;34m,\u001b[0m \u001b[0my\u001b[0m\u001b[0;34m\u001b[0m\u001b[0m\n",
      "\u001b[0;32m~/anaconda/lib/python3.6/site-packages/sklearn/utils/validation.py\u001b[0m in \u001b[0;36mcheck_consistent_length\u001b[0;34m(*arrays)\u001b[0m\n\u001b[1;32m    179\u001b[0m     \u001b[0;32mif\u001b[0m \u001b[0mlen\u001b[0m\u001b[0;34m(\u001b[0m\u001b[0muniques\u001b[0m\u001b[0;34m)\u001b[0m \u001b[0;34m>\u001b[0m \u001b[0;36m1\u001b[0m\u001b[0;34m:\u001b[0m\u001b[0;34m\u001b[0m\u001b[0m\n\u001b[1;32m    180\u001b[0m         raise ValueError(\"Found input variables with inconsistent numbers of\"\n\u001b[0;32m--> 181\u001b[0;31m                          \" samples: %r\" % [int(l) for l in lengths])\n\u001b[0m\u001b[1;32m    182\u001b[0m \u001b[0;34m\u001b[0m\u001b[0m\n\u001b[1;32m    183\u001b[0m \u001b[0;34m\u001b[0m\u001b[0m\n",
      "\u001b[0;31mValueError\u001b[0m: Found input variables with inconsistent numbers of samples: [1, 2528]"
     ]
    }
   ],
   "source": [
    "# lr=LinearRegression()\n",
    "# lr.fit(x_hi_train, y_hi_train)\n",
    "# lr.predict(x_hi_test)\n",
    "# lr.score(x_hi_test, y_hi_test)"
   ]
  },
  {
   "cell_type": "code",
   "execution_count": 271,
   "metadata": {},
   "outputs": [
    {
     "data": {
      "text/plain": [
       "(843,)"
      ]
     },
     "execution_count": 271,
     "metadata": {},
     "output_type": "execute_result"
    }
   ],
   "source": [
    "x_hi_test.shape"
   ]
  },
  {
   "cell_type": "code",
   "execution_count": 272,
   "metadata": {},
   "outputs": [
    {
     "data": {
      "text/plain": [
       "(843,)"
      ]
     },
     "execution_count": 272,
     "metadata": {},
     "output_type": "execute_result"
    }
   ],
   "source": [
    "y_hi_test.shape"
   ]
  },
  {
   "cell_type": "code",
   "execution_count": null,
   "metadata": {
    "collapsed": true
   },
   "outputs": [],
   "source": []
  },
  {
   "cell_type": "code",
   "execution_count": null,
   "metadata": {
    "collapsed": true
   },
   "outputs": [],
   "source": []
  },
  {
   "cell_type": "code",
   "execution_count": null,
   "metadata": {
    "collapsed": true
   },
   "outputs": [],
   "source": []
  }
 ],
 "metadata": {
  "kernelspec": {
   "display_name": "Python 3",
   "language": "python",
   "name": "python3"
  },
  "language_info": {
   "codemirror_mode": {
    "name": "ipython",
    "version": 3
   },
   "file_extension": ".py",
   "mimetype": "text/x-python",
   "name": "python",
   "nbconvert_exporter": "python",
   "pygments_lexer": "ipython3",
   "version": "3.6.1"
  }
 },
 "nbformat": 4,
 "nbformat_minor": 2
}
