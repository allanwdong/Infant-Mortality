{
 "cells": [
  {
   "cell_type": "code",
   "execution_count": 1,
   "metadata": {
    "collapsed": true
   },
   "outputs": [],
   "source": [
    "import pandas as pd\n",
    "import os.path\n",
    "\n",
    "import internal_ref as ref"
   ]
  },
  {
   "cell_type": "code",
   "execution_count": 2,
   "metadata": {
    "collapsed": true
   },
   "outputs": [],
   "source": [
    "# Merge detail CDC data"
   ]
  },
  {
   "cell_type": "code",
   "execution_count": 3,
   "metadata": {
    "collapsed": true
   },
   "outputs": [],
   "source": [
    "years = range(1999, 2015)\n",
    "os.chdir(ref.Merge_Natality)\n",
    "\n",
    "def merger_sep(year):\n",
    "# Concat data from CDC Wonder into final \n",
    "    A = ref.Natality + '/' + str(year) + '.txt'\n",
    "    B = ref.Natality + '/' + str(year) + ' (1).txt'\n",
    "    \n",
    "    dfA = pd.read_csv(A, sep='\\t')\n",
    "    dfA.dropna(thresh=2, inplace=True)\n",
    "    \n",
    "    dfB = pd.read_csv(B, sep='\\t')\n",
    "    dfB.dropna(thresh=2, inplace=True)\n",
    " \n",
    "    df = pd.concat([dfA, dfB], axis=0, join='outer', ignore_index=True)\n",
    "    df['Year'] = year\n",
    "    filename = ref.Merge_Natality + '/' + str(year)\n",
    "    df.to_csv(filename)\n",
    "    \n",
    "for year in years:\n",
    "    merger_sep(year)"
   ]
  },
  {
   "cell_type": "code",
   "execution_count": 4,
   "metadata": {
    "collapsed": true
   },
   "outputs": [],
   "source": [
    "dataframes = []\n",
    "\n",
    "def merger_final(year):\n",
    "    file = ref.Merge_Natality + '/' + str(year)\n",
    "    dataframes.append(pd.read_csv(file))\n",
    "    \n",
    "for year in years:\n",
    "    merger_final(year)\n"
   ]
  },
  {
   "cell_type": "code",
   "execution_count": 5,
   "metadata": {
    "collapsed": true
   },
   "outputs": [],
   "source": [
    "df_final = pd.concat(dataframes, axis=0, join='outer', ignore_index=True)\n",
    "\n",
    "df_final_filename = ref.Home + '/CDC.csv'\n",
    "df_final.to_csv(df_final_filename, index_label=False)"
   ]
  },
  {
   "cell_type": "code",
   "execution_count": null,
   "metadata": {
    "collapsed": true
   },
   "outputs": [],
   "source": [
    "# Merge death/birth CDC data"
   ]
  },
  {
   "cell_type": "code",
   "execution_count": 2,
   "metadata": {
    "collapsed": true
   },
   "outputs": [],
   "source": [
    "dataframes2 = []\n",
    "\n",
    "def merger_final2(year):\n",
    "    file = ref.Merge_Natality + '/death' + str(year) +'.txt'\n",
    "    df = pd.read_csv(file, sep='\\t')\n",
    "    df.dropna(thresh=2, inplace=True)\n",
    "    df.drop('Notes', axis=1, inplace=True)\n",
    "    df['Year'] = year\n",
    "    dataframes2.append(df)\n",
    "    \n",
    "for year in range(2003, 2015):\n",
    "    merger_final2(year)"
   ]
  },
  {
   "cell_type": "code",
   "execution_count": 3,
   "metadata": {
    "collapsed": true
   },
   "outputs": [],
   "source": [
    "df_final2 = pd.concat(dataframes2, axis=0, join='outer', ignore_index=True)\n",
    "\n",
    "df_final2_filename = ref.Home + '/deaths.csv'\n",
    "df_final2.to_csv(df_final2_filename, index_label=False)"
   ]
  },
  {
   "cell_type": "code",
   "execution_count": null,
   "metadata": {
    "collapsed": true
   },
   "outputs": [],
   "source": [
    "# Merge death by race CDC data"
   ]
  },
  {
   "cell_type": "code",
   "execution_count": null,
   "metadata": {
    "collapsed": true
   },
   "outputs": [],
   "source": []
  },
  {
   "cell_type": "code",
   "execution_count": null,
   "metadata": {
    "collapsed": true
   },
   "outputs": [],
   "source": []
  }
 ],
 "metadata": {
  "kernelspec": {
   "display_name": "Python 3",
   "language": "python",
   "name": "python3"
  },
  "language_info": {
   "codemirror_mode": {
    "name": "ipython",
    "version": 3
   },
   "file_extension": ".py",
   "mimetype": "text/x-python",
   "name": "python",
   "nbconvert_exporter": "python",
   "pygments_lexer": "ipython3",
   "version": "3.6.1"
  }
 },
 "nbformat": 4,
 "nbformat_minor": 2
}
