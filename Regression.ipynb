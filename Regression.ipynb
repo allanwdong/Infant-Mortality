{
 "cells": [
  {
   "cell_type": "code",
   "execution_count": 34,
   "metadata": {},
   "outputs": [],
   "source": [
    "import numpy as np\n",
    "import pandas as pd\n",
    "import matplotlib.pyplot as plt\n",
    "% matplotlib inline\n",
    "\n",
    "import seaborn as sns\n",
    "\n",
    "import internal_ref as ref\n",
    "\n",
    "import patsy\n",
    "import statsmodels.api as sm\n",
    "import statsmodels.formula.api as smf\n",
    "\n",
    "\n",
    "from sklearn.model_selection import train_test_split\n",
    "\n",
    "from sklearn.preprocessing import StandardScaler\n",
    "from sklearn.decomposition import PCA\n",
    "from sklearn.tree import DecisionTreeRegressor, DecisionTreeClassifier\n",
    "from sklearn.ensemble import AdaBoostRegressor\n"
   ]
  },
  {
   "cell_type": "code",
   "execution_count": 35,
   "metadata": {},
   "outputs": [
    {
     "name": "stderr",
     "output_type": "stream",
     "text": [
      "/Users/allandong/anaconda/lib/python3.6/site-packages/IPython/core/interactiveshell.py:2698: DtypeWarning: Columns (4) have mixed types. Specify dtype option on import or set low_memory=False.\n",
      "  interactivity=interactivity, compiler=compiler, result=result)\n"
     ]
    }
   ],
   "source": [
    "CDC = ref.Home + '/df_final.csv'\n",
    "labor = ref.Home + '/labor.csv'\n",
    "hi = ref.Home + '/HI.csv'\n",
    "\n",
    "df_CDC = pd.read_csv(CDC, dtype={'County Code' : int})\n",
    "df_labor = pd.read_csv(labor, dtype={'series_id' : str, \n",
    "                                     'year' : int, \n",
    "                                     'period' : str, \n",
    "                                     'value' : object,\n",
    "                                     'footnote_codes' : str,\n",
    "                                     'area_code': str,\n",
    "                                     'series_title' : str,\n",
    "                                     'area_text' : str})\n",
    "df_hi = pd.read_csv(hi)"
   ]
  },
  {
   "cell_type": "code",
   "execution_count": null,
   "metadata": {
    "collapsed": true
   },
   "outputs": [],
   "source": []
  },
  {
   "cell_type": "code",
   "execution_count": 36,
   "metadata": {
    "collapsed": true
   },
   "outputs": [],
   "source": [
    "df_CDC.drop(['Unnamed: 0', 'Unnamed: 0.1', 'Notes'], axis =1, inplace=True)\n",
    "\n",
    "cdcColumns = ['County', 'County_Code', 'Race', 'Race_Code',\n",
    "       'ICD_10_130_Infants',\n",
    "       'ICD_10_130_Infants_Code', 'Cause_of_death',\n",
    "       'Cause_of_death_Code', 'Gender', 'Gender_Code', 'Deaths', 'Births',\n",
    "       'Death_Rate', 'Year']\n",
    "df_CDC.columns = cdcColumns"
   ]
  },
  {
   "cell_type": "code",
   "execution_count": 37,
   "metadata": {
    "collapsed": true
   },
   "outputs": [],
   "source": [
    "df_labor_cty = df_labor[df_labor.area_code.str.find(r'CN') != -1]"
   ]
  },
  {
   "cell_type": "code",
   "execution_count": 38,
   "metadata": {},
   "outputs": [
    {
     "name": "stderr",
     "output_type": "stream",
     "text": [
      "/Users/allandong/anaconda/lib/python3.6/site-packages/ipykernel_launcher.py:1: SettingWithCopyWarning: \n",
      "A value is trying to be set on a copy of a slice from a DataFrame.\n",
      "Try using .loc[row_indexer,col_indexer] = value instead\n",
      "\n",
      "See the caveats in the documentation: http://pandas.pydata.org/pandas-docs/stable/indexing.html#indexing-view-versus-copy\n",
      "  \"\"\"Entry point for launching an IPython kernel.\n"
     ]
    }
   ],
   "source": [
    "df_labor_cty['FIPS'] = df_labor_cty['area_code'].map(lambda x: int(x[2:7]))\n",
    "df_labor_cty_yr = df_labor_cty[df_labor_cty.period == 'M13']"
   ]
  },
  {
   "cell_type": "code",
   "execution_count": 39,
   "metadata": {
    "collapsed": true
   },
   "outputs": [],
   "source": [
    "df_labor_HI = pd.merge(df_labor_cty_yr, df_hi, \n",
    "                       how='inner', \n",
    "                       left_on=['year', 'FIPS'], \n",
    "                       right_on=['Year', 'Id2'])"
   ]
  },
  {
   "cell_type": "code",
   "execution_count": 40,
   "metadata": {
    "collapsed": true
   },
   "outputs": [],
   "source": [
    "df = pd.merge(df_labor_HI, df_CDC,\n",
    "             how='inner',\n",
    "             left_on=['Year', 'FIPS'],\n",
    "             right_on=['Year', 'County_Code'])"
   ]
  },
  {
   "cell_type": "code",
   "execution_count": 41,
   "metadata": {
    "collapsed": true
   },
   "outputs": [],
   "source": [
    "df.drop(['series_id', 'year', 'footnote_codes', 'area_code', 'series_title', 'area_text',\n",
    "         'Id', 'Id2', 'Geography', 'County_Code'], axis=1, inplace=True)"
   ]
  },
  {
   "cell_type": "code",
   "execution_count": 42,
   "metadata": {
    "collapsed": true
   },
   "outputs": [],
   "source": [
    "df['Death_ratio']=df['Deaths']/df['Births']\n",
    "df['HI_ratio'] = df['Est_1_HI_pop']/df['Est_total_pop']\n"
   ]
  },
  {
   "cell_type": "code",
   "execution_count": 43,
   "metadata": {
    "collapsed": true
   },
   "outputs": [],
   "source": [
    "df.unemployment_rate = df.unemployment_rate.apply(pd.to_numeric)"
   ]
  },
  {
   "cell_type": "code",
   "execution_count": 44,
   "metadata": {
    "collapsed": true
   },
   "outputs": [],
   "source": [
    "df1 = df.drop(['period', 'FIPS', 'Est_total_pop', 'Est_1_HI_pop',\n",
    "       'Est_0_HI_pop', 'Race_Code',\n",
    "       'ICD_10_130_Infants_Code', \n",
    "       'Cause_of_death_Code', 'Gender_Code', 'Deaths', 'Births',\n",
    "       'Death_Rate'], axis=1)"
   ]
  },
  {
   "cell_type": "code",
   "execution_count": 45,
   "metadata": {},
   "outputs": [
    {
     "data": {
      "text/html": [
       "<div>\n",
       "<style>\n",
       "    .dataframe thead tr:only-child th {\n",
       "        text-align: right;\n",
       "    }\n",
       "\n",
       "    .dataframe thead th {\n",
       "        text-align: left;\n",
       "    }\n",
       "\n",
       "    .dataframe tbody tr th {\n",
       "        vertical-align: top;\n",
       "    }\n",
       "</style>\n",
       "<table border=\"1\" class=\"dataframe\">\n",
       "  <thead>\n",
       "    <tr style=\"text-align: right;\">\n",
       "      <th></th>\n",
       "      <th>unemployment_rate</th>\n",
       "      <th>Year</th>\n",
       "      <th>HI_ratio</th>\n",
       "      <th>County</th>\n",
       "      <th>Race</th>\n",
       "      <th>ICD_10_130_Infants</th>\n",
       "      <th>Cause_of_death</th>\n",
       "      <th>Gender</th>\n",
       "      <th>Death_ratio</th>\n",
       "    </tr>\n",
       "  </thead>\n",
       "  <tbody>\n",
       "    <tr>\n",
       "      <th>0</th>\n",
       "      <td>5.4</td>\n",
       "      <td>2008</td>\n",
       "      <td>0.112824</td>\n",
       "      <td>Maricopa County, AZ</td>\n",
       "      <td>White</td>\n",
       "      <td>Certain conditions originating in the perinata...</td>\n",
       "      <td>Extreme immaturity</td>\n",
       "      <td>Female</td>\n",
       "      <td>0.000522</td>\n",
       "    </tr>\n",
       "    <tr>\n",
       "      <th>1</th>\n",
       "      <td>5.4</td>\n",
       "      <td>2008</td>\n",
       "      <td>0.112824</td>\n",
       "      <td>Maricopa County, AZ</td>\n",
       "      <td>White</td>\n",
       "      <td>Certain conditions originating in the perinata...</td>\n",
       "      <td>Extreme immaturity</td>\n",
       "      <td>Male</td>\n",
       "      <td>0.000395</td>\n",
       "    </tr>\n",
       "    <tr>\n",
       "      <th>2</th>\n",
       "      <td>5.4</td>\n",
       "      <td>2008</td>\n",
       "      <td>0.112824</td>\n",
       "      <td>Maricopa County, AZ</td>\n",
       "      <td>White</td>\n",
       "      <td>Disorders related to length of gestation and f...</td>\n",
       "      <td>Extreme immaturity</td>\n",
       "      <td>Female</td>\n",
       "      <td>0.000522</td>\n",
       "    </tr>\n",
       "    <tr>\n",
       "      <th>3</th>\n",
       "      <td>5.4</td>\n",
       "      <td>2008</td>\n",
       "      <td>0.112824</td>\n",
       "      <td>Maricopa County, AZ</td>\n",
       "      <td>White</td>\n",
       "      <td>Disorders related to length of gestation and f...</td>\n",
       "      <td>Extreme immaturity</td>\n",
       "      <td>Male</td>\n",
       "      <td>0.000395</td>\n",
       "    </tr>\n",
       "    <tr>\n",
       "      <th>4</th>\n",
       "      <td>5.4</td>\n",
       "      <td>2008</td>\n",
       "      <td>0.112824</td>\n",
       "      <td>Maricopa County, AZ</td>\n",
       "      <td>White</td>\n",
       "      <td>#Disorders related to short gestation and low ...</td>\n",
       "      <td>Extreme immaturity</td>\n",
       "      <td>Female</td>\n",
       "      <td>0.000522</td>\n",
       "    </tr>\n",
       "  </tbody>\n",
       "</table>\n",
       "</div>"
      ],
      "text/plain": [
       "   unemployment_rate  Year  HI_ratio               County   Race  \\\n",
       "0                5.4  2008  0.112824  Maricopa County, AZ  White   \n",
       "1                5.4  2008  0.112824  Maricopa County, AZ  White   \n",
       "2                5.4  2008  0.112824  Maricopa County, AZ  White   \n",
       "3                5.4  2008  0.112824  Maricopa County, AZ  White   \n",
       "4                5.4  2008  0.112824  Maricopa County, AZ  White   \n",
       "\n",
       "                                  ICD_10_130_Infants      Cause_of_death  \\\n",
       "0  Certain conditions originating in the perinata...  Extreme immaturity   \n",
       "1  Certain conditions originating in the perinata...  Extreme immaturity   \n",
       "2  Disorders related to length of gestation and f...  Extreme immaturity   \n",
       "3  Disorders related to length of gestation and f...  Extreme immaturity   \n",
       "4  #Disorders related to short gestation and low ...  Extreme immaturity   \n",
       "\n",
       "   Gender  Death_ratio  \n",
       "0  Female     0.000522  \n",
       "1    Male     0.000395  \n",
       "2  Female     0.000522  \n",
       "3    Male     0.000395  \n",
       "4  Female     0.000522  "
      ]
     },
     "execution_count": 45,
     "metadata": {},
     "output_type": "execute_result"
    }
   ],
   "source": [
    "df1.head()"
   ]
  },
  {
   "cell_type": "markdown",
   "metadata": {},
   "source": [
    "# Initial Regression"
   ]
  },
  {
   "cell_type": "code",
   "execution_count": 46,
   "metadata": {
    "collapsed": true
   },
   "outputs": [],
   "source": [
    "df_county = patsy.dmatrix('County', data=df1, return_type='dataframe').drop('Intercept', 1)\n",
    "df_race = patsy.dmatrix('Race', data=df1, return_type='dataframe').drop('Intercept', 1)\n",
    "df_icd = patsy.dmatrix('ICD_10_130_Infants', data=df1, return_type='dataframe').drop('Intercept', 1)\n",
    "df_cause = patsy.dmatrix('Cause_of_death', data=df1, return_type='dataframe').drop('Intercept', 1)\n",
    "df_gender = patsy.dmatrix('Gender', data=df1, return_type='dataframe').drop('Intercept', 1)\n",
    "df_year = patsy.dmatrix('Year', data=df1, return_type='dataframe').drop('Intercept', 1)"
   ]
  },
  {
   "cell_type": "code",
   "execution_count": 47,
   "metadata": {
    "collapsed": true
   },
   "outputs": [],
   "source": [
    "df_lr = df1.drop(['County','Race','ICD_10_130_Infants', 'Cause_of_death','Gender'], axis=1)"
   ]
  },
  {
   "cell_type": "code",
   "execution_count": 48,
   "metadata": {
    "collapsed": true
   },
   "outputs": [],
   "source": [
    "df_lr1 = pd.concat([df_lr,\n",
    "                    df_year,\n",
    "                   df_county,\n",
    "                   df_race,\n",
    "                   df_icd,\n",
    "                   df_cause,\n",
    "                   df_gender\n",
    "                   ], axis=1, join='inner')"
   ]
  },
  {
   "cell_type": "code",
   "execution_count": null,
   "metadata": {
    "collapsed": true
   },
   "outputs": [],
   "source": []
  },
  {
   "cell_type": "code",
   "execution_count": null,
   "metadata": {
    "collapsed": true
   },
   "outputs": [],
   "source": []
  },
  {
   "cell_type": "code",
   "execution_count": null,
   "metadata": {
    "collapsed": true
   },
   "outputs": [],
   "source": []
  },
  {
   "cell_type": "code",
   "execution_count": null,
   "metadata": {
    "collapsed": true
   },
   "outputs": [],
   "source": []
  },
  {
   "cell_type": "code",
   "execution_count": null,
   "metadata": {
    "collapsed": true
   },
   "outputs": [],
   "source": []
  },
  {
   "cell_type": "code",
   "execution_count": null,
   "metadata": {
    "collapsed": true
   },
   "outputs": [],
   "source": []
  },
  {
   "cell_type": "code",
   "execution_count": null,
   "metadata": {
    "collapsed": true
   },
   "outputs": [],
   "source": []
  },
  {
   "cell_type": "code",
   "execution_count": 49,
   "metadata": {},
   "outputs": [
    {
     "data": {
      "text/html": [
       "<div>\n",
       "<style>\n",
       "    .dataframe thead tr:only-child th {\n",
       "        text-align: right;\n",
       "    }\n",
       "\n",
       "    .dataframe thead th {\n",
       "        text-align: left;\n",
       "    }\n",
       "\n",
       "    .dataframe tbody tr th {\n",
       "        vertical-align: top;\n",
       "    }\n",
       "</style>\n",
       "<table border=\"1\" class=\"dataframe\">\n",
       "  <thead>\n",
       "    <tr style=\"text-align: right;\">\n",
       "      <th></th>\n",
       "      <th></th>\n",
       "      <th></th>\n",
       "      <th></th>\n",
       "      <th>unemployment_rate</th>\n",
       "      <th>HI_ratio</th>\n",
       "      <th>ICD_10_130_Infants</th>\n",
       "      <th>Cause_of_death</th>\n",
       "      <th>Death_ratio</th>\n",
       "    </tr>\n",
       "    <tr>\n",
       "      <th>Year</th>\n",
       "      <th>County</th>\n",
       "      <th>Race</th>\n",
       "      <th>Gender</th>\n",
       "      <th></th>\n",
       "      <th></th>\n",
       "      <th></th>\n",
       "      <th></th>\n",
       "      <th></th>\n",
       "    </tr>\n",
       "  </thead>\n",
       "  <tbody>\n",
       "    <tr>\n",
       "      <th rowspan=\"30\" valign=\"top\">2008</th>\n",
       "      <th rowspan=\"2\" valign=\"top\">Baltimore city, MD</th>\n",
       "      <th rowspan=\"2\" valign=\"top\">Black or African American</th>\n",
       "      <th>Female</th>\n",
       "      <td>6.5</td>\n",
       "      <td>0.128479</td>\n",
       "      <td>Certain conditions originating in the perinata...</td>\n",
       "      <td>Extreme immaturity</td>\n",
       "      <td>0.003062</td>\n",
       "    </tr>\n",
       "    <tr>\n",
       "      <th>Male</th>\n",
       "      <td>6.5</td>\n",
       "      <td>0.128479</td>\n",
       "      <td>Certain conditions originating in the perinata...</td>\n",
       "      <td>Extreme immaturity</td>\n",
       "      <td>0.006031</td>\n",
       "    </tr>\n",
       "    <tr>\n",
       "      <th>Bexar County, TX</th>\n",
       "      <th>White</th>\n",
       "      <th>Male</th>\n",
       "      <td>4.6</td>\n",
       "      <td>0.099547</td>\n",
       "      <td>Symptoms, signs and abnormal clinical and labo...</td>\n",
       "      <td>Other ill-defined and unspecified causes of mo...</td>\n",
       "      <td>0.000881</td>\n",
       "    </tr>\n",
       "    <tr>\n",
       "      <th>Caddo Parish, LA</th>\n",
       "      <th>Black or African American</th>\n",
       "      <th>Female</th>\n",
       "      <td>5.7</td>\n",
       "      <td>0.124250</td>\n",
       "      <td>Certain conditions originating in the perinata...</td>\n",
       "      <td>Extreme immaturity</td>\n",
       "      <td>0.010821</td>\n",
       "    </tr>\n",
       "    <tr>\n",
       "      <th rowspan=\"4\" valign=\"top\">Cook County, IL</th>\n",
       "      <th rowspan=\"2\" valign=\"top\">Black or African American</th>\n",
       "      <th>Female</th>\n",
       "      <td>6.4</td>\n",
       "      <td>0.095527</td>\n",
       "      <td>Certain conditions originating in the perinata...</td>\n",
       "      <td>Extreme immaturity</td>\n",
       "      <td>0.001624</td>\n",
       "    </tr>\n",
       "    <tr>\n",
       "      <th>Male</th>\n",
       "      <td>6.4</td>\n",
       "      <td>0.095527</td>\n",
       "      <td>Certain conditions originating in the perinata...</td>\n",
       "      <td>Extreme immaturity</td>\n",
       "      <td>0.002646</td>\n",
       "    </tr>\n",
       "    <tr>\n",
       "      <th rowspan=\"2\" valign=\"top\">White</th>\n",
       "      <th>Female</th>\n",
       "      <td>6.4</td>\n",
       "      <td>0.095527</td>\n",
       "      <td>Certain conditions originating in the perinata...</td>\n",
       "      <td>Extreme immaturity</td>\n",
       "      <td>0.000913</td>\n",
       "    </tr>\n",
       "    <tr>\n",
       "      <th>Male</th>\n",
       "      <td>6.4</td>\n",
       "      <td>0.095527</td>\n",
       "      <td>Certain conditions originating in the perinata...</td>\n",
       "      <td>Extreme immaturity</td>\n",
       "      <td>0.000883</td>\n",
       "    </tr>\n",
       "    <tr>\n",
       "      <th rowspan=\"2\" valign=\"top\">Cuyahoga County, OH</th>\n",
       "      <th rowspan=\"2\" valign=\"top\">Black or African American</th>\n",
       "      <th>Female</th>\n",
       "      <td>6.2</td>\n",
       "      <td>0.102977</td>\n",
       "      <td>Certain conditions originating in the perinata...</td>\n",
       "      <td>Extreme immaturity</td>\n",
       "      <td>0.003683</td>\n",
       "    </tr>\n",
       "    <tr>\n",
       "      <th>Male</th>\n",
       "      <td>6.2</td>\n",
       "      <td>0.102977</td>\n",
       "      <td>Certain conditions originating in the perinata...</td>\n",
       "      <td>Extreme immaturity</td>\n",
       "      <td>0.004551</td>\n",
       "    </tr>\n",
       "    <tr>\n",
       "      <th rowspan=\"3\" valign=\"top\">Dallas County, TX</th>\n",
       "      <th>Black or African American</th>\n",
       "      <th>Male</th>\n",
       "      <td>5.3</td>\n",
       "      <td>0.082937</td>\n",
       "      <td>Certain conditions originating in the perinata...</td>\n",
       "      <td>Extreme immaturity</td>\n",
       "      <td>0.003381</td>\n",
       "    </tr>\n",
       "    <tr>\n",
       "      <th rowspan=\"2\" valign=\"top\">White</th>\n",
       "      <th>Female</th>\n",
       "      <td>5.3</td>\n",
       "      <td>0.082937</td>\n",
       "      <td>Certain conditions originating in the perinata...</td>\n",
       "      <td>Extreme immaturity</td>\n",
       "      <td>0.001239</td>\n",
       "    </tr>\n",
       "    <tr>\n",
       "      <th>Male</th>\n",
       "      <td>5.3</td>\n",
       "      <td>0.082937</td>\n",
       "      <td>Certain conditions originating in the perinata...</td>\n",
       "      <td>Extreme immaturity</td>\n",
       "      <td>0.002041</td>\n",
       "    </tr>\n",
       "    <tr>\n",
       "      <th>Duval County, FL</th>\n",
       "      <th>Black or African American</th>\n",
       "      <th>Female</th>\n",
       "      <td>6.4</td>\n",
       "      <td>0.155281</td>\n",
       "      <td>Certain conditions originating in the perinata...</td>\n",
       "      <td>Extreme immaturity</td>\n",
       "      <td>0.004103</td>\n",
       "    </tr>\n",
       "    <tr>\n",
       "      <th>Fulton County, GA</th>\n",
       "      <th>Black or African American</th>\n",
       "      <th>Male</th>\n",
       "      <td>6.4</td>\n",
       "      <td>0.095346</td>\n",
       "      <td>Certain conditions originating in the perinata...</td>\n",
       "      <td>Extreme immaturity</td>\n",
       "      <td>0.003330</td>\n",
       "    </tr>\n",
       "    <tr>\n",
       "      <th rowspan=\"4\" valign=\"top\">Harris County, TX</th>\n",
       "      <th rowspan=\"2\" valign=\"top\">Black or African American</th>\n",
       "      <th>Female</th>\n",
       "      <td>4.7</td>\n",
       "      <td>0.085269</td>\n",
       "      <td>Symptoms, signs and abnormal clinical and labo...</td>\n",
       "      <td>Other ill-defined and unspecified causes of mo...</td>\n",
       "      <td>0.002835</td>\n",
       "    </tr>\n",
       "    <tr>\n",
       "      <th>Male</th>\n",
       "      <td>4.7</td>\n",
       "      <td>0.085269</td>\n",
       "      <td>Symptoms, signs and abnormal clinical and labo...</td>\n",
       "      <td>Other ill-defined and unspecified causes of mo...</td>\n",
       "      <td>0.002305</td>\n",
       "    </tr>\n",
       "    <tr>\n",
       "      <th rowspan=\"2\" valign=\"top\">White</th>\n",
       "      <th>Female</th>\n",
       "      <td>4.7</td>\n",
       "      <td>0.085269</td>\n",
       "      <td>Certain conditions originating in the perinata...</td>\n",
       "      <td>Extreme immaturity</td>\n",
       "      <td>0.000457</td>\n",
       "    </tr>\n",
       "    <tr>\n",
       "      <th>Male</th>\n",
       "      <td>4.7</td>\n",
       "      <td>0.085269</td>\n",
       "      <td>Certain conditions originating in the perinata...</td>\n",
       "      <td>Extreme immaturity</td>\n",
       "      <td>0.000582</td>\n",
       "    </tr>\n",
       "    <tr>\n",
       "      <th rowspan=\"2\" valign=\"top\">Kings County, NY</th>\n",
       "      <th rowspan=\"2\" valign=\"top\">Black or African American</th>\n",
       "      <th>Female</th>\n",
       "      <td>6.0</td>\n",
       "      <td>0.095778</td>\n",
       "      <td>Certain conditions originating in the perinata...</td>\n",
       "      <td>Neonatal cardiac dysrhythmia</td>\n",
       "      <td>0.001458</td>\n",
       "    </tr>\n",
       "    <tr>\n",
       "      <th>Male</th>\n",
       "      <td>6.0</td>\n",
       "      <td>0.095778</td>\n",
       "      <td>Certain conditions originating in the perinata...</td>\n",
       "      <td>Respiratory distress syndrome of newborn</td>\n",
       "      <td>0.001450</td>\n",
       "    </tr>\n",
       "    <tr>\n",
       "      <th rowspan=\"3\" valign=\"top\">Los Angeles County, CA</th>\n",
       "      <th>Black or African American</th>\n",
       "      <th>Male</th>\n",
       "      <td>7.6</td>\n",
       "      <td>0.090781</td>\n",
       "      <td>Certain conditions originating in the perinata...</td>\n",
       "      <td>Extreme immaturity</td>\n",
       "      <td>0.001945</td>\n",
       "    </tr>\n",
       "    <tr>\n",
       "      <th rowspan=\"2\" valign=\"top\">White</th>\n",
       "      <th>Female</th>\n",
       "      <td>7.6</td>\n",
       "      <td>0.090781</td>\n",
       "      <td>Certain conditions originating in the perinata...</td>\n",
       "      <td>Extreme immaturity</td>\n",
       "      <td>0.000576</td>\n",
       "    </tr>\n",
       "    <tr>\n",
       "      <th>Male</th>\n",
       "      <td>7.6</td>\n",
       "      <td>0.090781</td>\n",
       "      <td>Certain conditions originating in the perinata...</td>\n",
       "      <td>Extreme immaturity</td>\n",
       "      <td>0.000598</td>\n",
       "    </tr>\n",
       "    <tr>\n",
       "      <th rowspan=\"2\" valign=\"top\">Maricopa County, AZ</th>\n",
       "      <th rowspan=\"2\" valign=\"top\">White</th>\n",
       "      <th>Female</th>\n",
       "      <td>5.4</td>\n",
       "      <td>0.112824</td>\n",
       "      <td>Certain conditions originating in the perinata...</td>\n",
       "      <td>Extreme immaturity</td>\n",
       "      <td>0.000522</td>\n",
       "    </tr>\n",
       "    <tr>\n",
       "      <th>Male</th>\n",
       "      <td>5.4</td>\n",
       "      <td>0.112824</td>\n",
       "      <td>Certain conditions originating in the perinata...</td>\n",
       "      <td>Extreme immaturity</td>\n",
       "      <td>0.000395</td>\n",
       "    </tr>\n",
       "    <tr>\n",
       "      <th rowspan=\"3\" valign=\"top\">Philadelphia County, PA</th>\n",
       "      <th rowspan=\"2\" valign=\"top\">Black or African American</th>\n",
       "      <th>Female</th>\n",
       "      <td>7.1</td>\n",
       "      <td>0.145021</td>\n",
       "      <td>Certain conditions originating in the perinata...</td>\n",
       "      <td>Extreme immaturity</td>\n",
       "      <td>0.002491</td>\n",
       "    </tr>\n",
       "    <tr>\n",
       "      <th>Male</th>\n",
       "      <td>7.1</td>\n",
       "      <td>0.145021</td>\n",
       "      <td>Certain conditions originating in the perinata...</td>\n",
       "      <td>Extreme immaturity</td>\n",
       "      <td>0.003376</td>\n",
       "    </tr>\n",
       "    <tr>\n",
       "      <th>White</th>\n",
       "      <th>Male</th>\n",
       "      <td>7.1</td>\n",
       "      <td>0.145021</td>\n",
       "      <td>Certain conditions originating in the perinata...</td>\n",
       "      <td>Extreme immaturity</td>\n",
       "      <td>0.004284</td>\n",
       "    </tr>\n",
       "    <tr>\n",
       "      <th>Prince George's County, MD</th>\n",
       "      <th>Black or African American</th>\n",
       "      <th>Male</th>\n",
       "      <td>4.3</td>\n",
       "      <td>0.108656</td>\n",
       "      <td>Certain conditions originating in the perinata...</td>\n",
       "      <td>Extreme immaturity</td>\n",
       "      <td>0.003439</td>\n",
       "    </tr>\n",
       "    <tr>\n",
       "      <th>...</th>\n",
       "      <th>...</th>\n",
       "      <th>...</th>\n",
       "      <th>...</th>\n",
       "      <td>...</td>\n",
       "      <td>...</td>\n",
       "      <td>...</td>\n",
       "      <td>...</td>\n",
       "      <td>...</td>\n",
       "    </tr>\n",
       "    <tr>\n",
       "      <th rowspan=\"30\" valign=\"top\">2014</th>\n",
       "      <th>Baltimore city, MD</th>\n",
       "      <th>Black or African American</th>\n",
       "      <th>Male</th>\n",
       "      <td>8.5</td>\n",
       "      <td>0.166704</td>\n",
       "      <td>Certain conditions originating in the perinata...</td>\n",
       "      <td>Extreme immaturity</td>\n",
       "      <td>0.004519</td>\n",
       "    </tr>\n",
       "    <tr>\n",
       "      <th>Bexar County, TX</th>\n",
       "      <th>White</th>\n",
       "      <th>Male</th>\n",
       "      <td>4.7</td>\n",
       "      <td>0.119973</td>\n",
       "      <td>Certain conditions originating in the perinata...</td>\n",
       "      <td>Extreme immaturity</td>\n",
       "      <td>0.000963</td>\n",
       "    </tr>\n",
       "    <tr>\n",
       "      <th>Broward County, FL</th>\n",
       "      <th>Black or African American</th>\n",
       "      <th>Female</th>\n",
       "      <td>5.9</td>\n",
       "      <td>0.126963</td>\n",
       "      <td>Certain conditions originating in the perinata...</td>\n",
       "      <td>Extreme immaturity</td>\n",
       "      <td>0.002261</td>\n",
       "    </tr>\n",
       "    <tr>\n",
       "      <th rowspan=\"4\" valign=\"top\">Cook County, IL</th>\n",
       "      <th rowspan=\"2\" valign=\"top\">Black or African American</th>\n",
       "      <th>Female</th>\n",
       "      <td>7.5</td>\n",
       "      <td>0.116090</td>\n",
       "      <td>Certain conditions originating in the perinata...</td>\n",
       "      <td>Extreme immaturity</td>\n",
       "      <td>0.002141</td>\n",
       "    </tr>\n",
       "    <tr>\n",
       "      <th>Male</th>\n",
       "      <td>7.5</td>\n",
       "      <td>0.116090</td>\n",
       "      <td>Certain conditions originating in the perinata...</td>\n",
       "      <td>Extreme immaturity</td>\n",
       "      <td>0.002958</td>\n",
       "    </tr>\n",
       "    <tr>\n",
       "      <th rowspan=\"2\" valign=\"top\">White</th>\n",
       "      <th>Female</th>\n",
       "      <td>7.5</td>\n",
       "      <td>0.116090</td>\n",
       "      <td>Certain conditions originating in the perinata...</td>\n",
       "      <td>Extreme immaturity</td>\n",
       "      <td>0.000936</td>\n",
       "    </tr>\n",
       "    <tr>\n",
       "      <th>Male</th>\n",
       "      <td>7.5</td>\n",
       "      <td>0.116090</td>\n",
       "      <td>Certain conditions originating in the perinata...</td>\n",
       "      <td>Extreme immaturity</td>\n",
       "      <td>0.001201</td>\n",
       "    </tr>\n",
       "    <tr>\n",
       "      <th>Cuyahoga County, OH</th>\n",
       "      <th>Black or African American</th>\n",
       "      <th>Male</th>\n",
       "      <td>6.3</td>\n",
       "      <td>0.124861</td>\n",
       "      <td>Certain conditions originating in the perinata...</td>\n",
       "      <td>Other preterm infants</td>\n",
       "      <td>0.003574</td>\n",
       "    </tr>\n",
       "    <tr>\n",
       "      <th rowspan=\"2\" valign=\"top\">Dallas County, TX</th>\n",
       "      <th>Black or African American</th>\n",
       "      <th>Male</th>\n",
       "      <td>5.4</td>\n",
       "      <td>0.100566</td>\n",
       "      <td>Certain conditions originating in the perinata...</td>\n",
       "      <td>Extreme immaturity</td>\n",
       "      <td>0.003086</td>\n",
       "    </tr>\n",
       "    <tr>\n",
       "      <th>White</th>\n",
       "      <th>Male</th>\n",
       "      <td>5.4</td>\n",
       "      <td>0.100566</td>\n",
       "      <td>Certain conditions originating in the perinata...</td>\n",
       "      <td>Extreme immaturity</td>\n",
       "      <td>0.001252</td>\n",
       "    </tr>\n",
       "    <tr>\n",
       "      <th rowspan=\"2\" valign=\"top\">Franklin County, OH</th>\n",
       "      <th rowspan=\"2\" valign=\"top\">Black or African American</th>\n",
       "      <th>Female</th>\n",
       "      <td>4.9</td>\n",
       "      <td>0.102168</td>\n",
       "      <td>Certain conditions originating in the perinata...</td>\n",
       "      <td>Extreme immaturity</td>\n",
       "      <td>0.003444</td>\n",
       "    </tr>\n",
       "    <tr>\n",
       "      <th>Male</th>\n",
       "      <td>4.9</td>\n",
       "      <td>0.102168</td>\n",
       "      <td>Certain conditions originating in the perinata...</td>\n",
       "      <td>Extreme immaturity</td>\n",
       "      <td>0.003762</td>\n",
       "    </tr>\n",
       "    <tr>\n",
       "      <th>Hamilton County, OH</th>\n",
       "      <th>Black or African American</th>\n",
       "      <th>Male</th>\n",
       "      <td>5.5</td>\n",
       "      <td>0.111291</td>\n",
       "      <td>Certain conditions originating in the perinata...</td>\n",
       "      <td>Extreme immaturity</td>\n",
       "      <td>0.005184</td>\n",
       "    </tr>\n",
       "    <tr>\n",
       "      <th rowspan=\"3\" valign=\"top\">Harris County, TX</th>\n",
       "      <th>Black or African American</th>\n",
       "      <th>Male</th>\n",
       "      <td>5.0</td>\n",
       "      <td>0.105946</td>\n",
       "      <td>Symptoms, signs and abnormal clinical and labo...</td>\n",
       "      <td>Other ill-defined and unspecified causes of mo...</td>\n",
       "      <td>0.001497</td>\n",
       "    </tr>\n",
       "    <tr>\n",
       "      <th rowspan=\"2\" valign=\"top\">White</th>\n",
       "      <th>Female</th>\n",
       "      <td>5.0</td>\n",
       "      <td>0.105946</td>\n",
       "      <td>Certain conditions originating in the perinata...</td>\n",
       "      <td>Extreme immaturity</td>\n",
       "      <td>0.000558</td>\n",
       "    </tr>\n",
       "    <tr>\n",
       "      <th>Male</th>\n",
       "      <td>5.0</td>\n",
       "      <td>0.105946</td>\n",
       "      <td>Certain conditions originating in the perinata...</td>\n",
       "      <td>Extreme immaturity</td>\n",
       "      <td>0.000756</td>\n",
       "    </tr>\n",
       "    <tr>\n",
       "      <th>Hillsborough County, FL</th>\n",
       "      <th>White</th>\n",
       "      <th>Male</th>\n",
       "      <td>5.8</td>\n",
       "      <td>0.132967</td>\n",
       "      <td>External causes of mortality (*U01,V01-Y84)</td>\n",
       "      <td>Accidental suffocation and strangulation in bed</td>\n",
       "      <td>0.001582</td>\n",
       "    </tr>\n",
       "    <tr>\n",
       "      <th rowspan=\"2\" valign=\"top\">Los Angeles County, CA</th>\n",
       "      <th rowspan=\"2\" valign=\"top\">White</th>\n",
       "      <th>Female</th>\n",
       "      <td>8.2</td>\n",
       "      <td>0.125302</td>\n",
       "      <td>Certain conditions originating in the perinata...</td>\n",
       "      <td>Extreme immaturity</td>\n",
       "      <td>0.000686</td>\n",
       "    </tr>\n",
       "    <tr>\n",
       "      <th>Male</th>\n",
       "      <td>8.2</td>\n",
       "      <td>0.125302</td>\n",
       "      <td>Certain conditions originating in the perinata...</td>\n",
       "      <td>Extreme immaturity</td>\n",
       "      <td>0.000573</td>\n",
       "    </tr>\n",
       "    <tr>\n",
       "      <th rowspan=\"2\" valign=\"top\">Maricopa County, AZ</th>\n",
       "      <th rowspan=\"2\" valign=\"top\">White</th>\n",
       "      <th>Female</th>\n",
       "      <td>5.8</td>\n",
       "      <td>0.154407</td>\n",
       "      <td>Certain conditions originating in the perinata...</td>\n",
       "      <td>Extreme immaturity</td>\n",
       "      <td>0.000523</td>\n",
       "    </tr>\n",
       "    <tr>\n",
       "      <th>Male</th>\n",
       "      <td>5.8</td>\n",
       "      <td>0.154407</td>\n",
       "      <td>Certain conditions originating in the perinata...</td>\n",
       "      <td>Extreme immaturity</td>\n",
       "      <td>0.000747</td>\n",
       "    </tr>\n",
       "    <tr>\n",
       "      <th>Milwaukee County, WI</th>\n",
       "      <th>Black or African American</th>\n",
       "      <th>Male</th>\n",
       "      <td>6.9</td>\n",
       "      <td>0.119635</td>\n",
       "      <td>Certain conditions originating in the perinata...</td>\n",
       "      <td>Extreme immaturity</td>\n",
       "      <td>0.004501</td>\n",
       "    </tr>\n",
       "    <tr>\n",
       "      <th rowspan=\"2\" valign=\"top\">Philadelphia County, PA</th>\n",
       "      <th rowspan=\"2\" valign=\"top\">Black or African American</th>\n",
       "      <th>Female</th>\n",
       "      <td>8.1</td>\n",
       "      <td>0.150423</td>\n",
       "      <td>Certain conditions originating in the perinata...</td>\n",
       "      <td>Extreme immaturity</td>\n",
       "      <td>0.002353</td>\n",
       "    </tr>\n",
       "    <tr>\n",
       "      <th>Male</th>\n",
       "      <td>8.1</td>\n",
       "      <td>0.150423</td>\n",
       "      <td>Certain conditions originating in the perinata...</td>\n",
       "      <td>Extreme immaturity</td>\n",
       "      <td>0.002637</td>\n",
       "    </tr>\n",
       "    <tr>\n",
       "      <th>San Bernardino County, CA</th>\n",
       "      <th>White</th>\n",
       "      <th>Male</th>\n",
       "      <td>8.0</td>\n",
       "      <td>0.116820</td>\n",
       "      <td>Certain conditions originating in the perinata...</td>\n",
       "      <td>Extreme immaturity</td>\n",
       "      <td>0.000777</td>\n",
       "    </tr>\n",
       "    <tr>\n",
       "      <th>Shelby County, TN</th>\n",
       "      <th>Black or African American</th>\n",
       "      <th>Male</th>\n",
       "      <td>7.5</td>\n",
       "      <td>0.122056</td>\n",
       "      <td>Certain conditions originating in the perinata...</td>\n",
       "      <td>Extreme immaturity</td>\n",
       "      <td>0.003471</td>\n",
       "    </tr>\n",
       "    <tr>\n",
       "      <th>Tarrant County, TX</th>\n",
       "      <th>White</th>\n",
       "      <th>Male</th>\n",
       "      <td>5.0</td>\n",
       "      <td>0.109657</td>\n",
       "      <td>Symptoms, signs and abnormal clinical and labo...</td>\n",
       "      <td>Sudden infant death syndrome - SIDS</td>\n",
       "      <td>0.001260</td>\n",
       "    </tr>\n",
       "    <tr>\n",
       "      <th rowspan=\"2\" valign=\"top\">Wayne County, MI</th>\n",
       "      <th rowspan=\"2\" valign=\"top\">Black or African American</th>\n",
       "      <th>Female</th>\n",
       "      <td>9.6</td>\n",
       "      <td>0.124863</td>\n",
       "      <td>Certain conditions originating in the perinata...</td>\n",
       "      <td>Extreme immaturity</td>\n",
       "      <td>0.002019</td>\n",
       "    </tr>\n",
       "    <tr>\n",
       "      <th>Male</th>\n",
       "      <td>9.6</td>\n",
       "      <td>0.124863</td>\n",
       "      <td>Certain conditions originating in the perinata...</td>\n",
       "      <td>Extreme immaturity</td>\n",
       "      <td>0.003609</td>\n",
       "    </tr>\n",
       "    <tr>\n",
       "      <th>Worcester County, MA</th>\n",
       "      <th>White</th>\n",
       "      <th>Male</th>\n",
       "      <td>6.1</td>\n",
       "      <td>0.133098</td>\n",
       "      <td>Certain conditions originating in the perinata...</td>\n",
       "      <td>Extreme immaturity</td>\n",
       "      <td>0.003771</td>\n",
       "    </tr>\n",
       "  </tbody>\n",
       "</table>\n",
       "<p>227 rows × 5 columns</p>\n",
       "</div>"
      ],
      "text/plain": [
       "                                                                  unemployment_rate  \\\n",
       "Year County                     Race                      Gender                      \n",
       "2008 Baltimore city, MD         Black or African American Female                6.5   \n",
       "                                                          Male                  6.5   \n",
       "     Bexar County, TX           White                     Male                  4.6   \n",
       "     Caddo Parish, LA           Black or African American Female                5.7   \n",
       "     Cook County, IL            Black or African American Female                6.4   \n",
       "                                                          Male                  6.4   \n",
       "                                White                     Female                6.4   \n",
       "                                                          Male                  6.4   \n",
       "     Cuyahoga County, OH        Black or African American Female                6.2   \n",
       "                                                          Male                  6.2   \n",
       "     Dallas County, TX          Black or African American Male                  5.3   \n",
       "                                White                     Female                5.3   \n",
       "                                                          Male                  5.3   \n",
       "     Duval County, FL           Black or African American Female                6.4   \n",
       "     Fulton County, GA          Black or African American Male                  6.4   \n",
       "     Harris County, TX          Black or African American Female                4.7   \n",
       "                                                          Male                  4.7   \n",
       "                                White                     Female                4.7   \n",
       "                                                          Male                  4.7   \n",
       "     Kings County, NY           Black or African American Female                6.0   \n",
       "                                                          Male                  6.0   \n",
       "     Los Angeles County, CA     Black or African American Male                  7.6   \n",
       "                                White                     Female                7.6   \n",
       "                                                          Male                  7.6   \n",
       "     Maricopa County, AZ        White                     Female                5.4   \n",
       "                                                          Male                  5.4   \n",
       "     Philadelphia County, PA    Black or African American Female                7.1   \n",
       "                                                          Male                  7.1   \n",
       "                                White                     Male                  7.1   \n",
       "     Prince George's County, MD Black or African American Male                  4.3   \n",
       "...                                                                             ...   \n",
       "2014 Baltimore city, MD         Black or African American Male                  8.5   \n",
       "     Bexar County, TX           White                     Male                  4.7   \n",
       "     Broward County, FL         Black or African American Female                5.9   \n",
       "     Cook County, IL            Black or African American Female                7.5   \n",
       "                                                          Male                  7.5   \n",
       "                                White                     Female                7.5   \n",
       "                                                          Male                  7.5   \n",
       "     Cuyahoga County, OH        Black or African American Male                  6.3   \n",
       "     Dallas County, TX          Black or African American Male                  5.4   \n",
       "                                White                     Male                  5.4   \n",
       "     Franklin County, OH        Black or African American Female                4.9   \n",
       "                                                          Male                  4.9   \n",
       "     Hamilton County, OH        Black or African American Male                  5.5   \n",
       "     Harris County, TX          Black or African American Male                  5.0   \n",
       "                                White                     Female                5.0   \n",
       "                                                          Male                  5.0   \n",
       "     Hillsborough County, FL    White                     Male                  5.8   \n",
       "     Los Angeles County, CA     White                     Female                8.2   \n",
       "                                                          Male                  8.2   \n",
       "     Maricopa County, AZ        White                     Female                5.8   \n",
       "                                                          Male                  5.8   \n",
       "     Milwaukee County, WI       Black or African American Male                  6.9   \n",
       "     Philadelphia County, PA    Black or African American Female                8.1   \n",
       "                                                          Male                  8.1   \n",
       "     San Bernardino County, CA  White                     Male                  8.0   \n",
       "     Shelby County, TN          Black or African American Male                  7.5   \n",
       "     Tarrant County, TX         White                     Male                  5.0   \n",
       "     Wayne County, MI           Black or African American Female                9.6   \n",
       "                                                          Male                  9.6   \n",
       "     Worcester County, MA       White                     Male                  6.1   \n",
       "\n",
       "                                                                  HI_ratio  \\\n",
       "Year County                     Race                      Gender             \n",
       "2008 Baltimore city, MD         Black or African American Female  0.128479   \n",
       "                                                          Male    0.128479   \n",
       "     Bexar County, TX           White                     Male    0.099547   \n",
       "     Caddo Parish, LA           Black or African American Female  0.124250   \n",
       "     Cook County, IL            Black or African American Female  0.095527   \n",
       "                                                          Male    0.095527   \n",
       "                                White                     Female  0.095527   \n",
       "                                                          Male    0.095527   \n",
       "     Cuyahoga County, OH        Black or African American Female  0.102977   \n",
       "                                                          Male    0.102977   \n",
       "     Dallas County, TX          Black or African American Male    0.082937   \n",
       "                                White                     Female  0.082937   \n",
       "                                                          Male    0.082937   \n",
       "     Duval County, FL           Black or African American Female  0.155281   \n",
       "     Fulton County, GA          Black or African American Male    0.095346   \n",
       "     Harris County, TX          Black or African American Female  0.085269   \n",
       "                                                          Male    0.085269   \n",
       "                                White                     Female  0.085269   \n",
       "                                                          Male    0.085269   \n",
       "     Kings County, NY           Black or African American Female  0.095778   \n",
       "                                                          Male    0.095778   \n",
       "     Los Angeles County, CA     Black or African American Male    0.090781   \n",
       "                                White                     Female  0.090781   \n",
       "                                                          Male    0.090781   \n",
       "     Maricopa County, AZ        White                     Female  0.112824   \n",
       "                                                          Male    0.112824   \n",
       "     Philadelphia County, PA    Black or African American Female  0.145021   \n",
       "                                                          Male    0.145021   \n",
       "                                White                     Male    0.145021   \n",
       "     Prince George's County, MD Black or African American Male    0.108656   \n",
       "...                                                                    ...   \n",
       "2014 Baltimore city, MD         Black or African American Male    0.166704   \n",
       "     Bexar County, TX           White                     Male    0.119973   \n",
       "     Broward County, FL         Black or African American Female  0.126963   \n",
       "     Cook County, IL            Black or African American Female  0.116090   \n",
       "                                                          Male    0.116090   \n",
       "                                White                     Female  0.116090   \n",
       "                                                          Male    0.116090   \n",
       "     Cuyahoga County, OH        Black or African American Male    0.124861   \n",
       "     Dallas County, TX          Black or African American Male    0.100566   \n",
       "                                White                     Male    0.100566   \n",
       "     Franklin County, OH        Black or African American Female  0.102168   \n",
       "                                                          Male    0.102168   \n",
       "     Hamilton County, OH        Black or African American Male    0.111291   \n",
       "     Harris County, TX          Black or African American Male    0.105946   \n",
       "                                White                     Female  0.105946   \n",
       "                                                          Male    0.105946   \n",
       "     Hillsborough County, FL    White                     Male    0.132967   \n",
       "     Los Angeles County, CA     White                     Female  0.125302   \n",
       "                                                          Male    0.125302   \n",
       "     Maricopa County, AZ        White                     Female  0.154407   \n",
       "                                                          Male    0.154407   \n",
       "     Milwaukee County, WI       Black or African American Male    0.119635   \n",
       "     Philadelphia County, PA    Black or African American Female  0.150423   \n",
       "                                                          Male    0.150423   \n",
       "     San Bernardino County, CA  White                     Male    0.116820   \n",
       "     Shelby County, TN          Black or African American Male    0.122056   \n",
       "     Tarrant County, TX         White                     Male    0.109657   \n",
       "     Wayne County, MI           Black or African American Female  0.124863   \n",
       "                                                          Male    0.124863   \n",
       "     Worcester County, MA       White                     Male    0.133098   \n",
       "\n",
       "                                                                                                 ICD_10_130_Infants  \\\n",
       "Year County                     Race                      Gender                                                      \n",
       "2008 Baltimore city, MD         Black or African American Female  Certain conditions originating in the perinata...   \n",
       "                                                          Male    Certain conditions originating in the perinata...   \n",
       "     Bexar County, TX           White                     Male    Symptoms, signs and abnormal clinical and labo...   \n",
       "     Caddo Parish, LA           Black or African American Female  Certain conditions originating in the perinata...   \n",
       "     Cook County, IL            Black or African American Female  Certain conditions originating in the perinata...   \n",
       "                                                          Male    Certain conditions originating in the perinata...   \n",
       "                                White                     Female  Certain conditions originating in the perinata...   \n",
       "                                                          Male    Certain conditions originating in the perinata...   \n",
       "     Cuyahoga County, OH        Black or African American Female  Certain conditions originating in the perinata...   \n",
       "                                                          Male    Certain conditions originating in the perinata...   \n",
       "     Dallas County, TX          Black or African American Male    Certain conditions originating in the perinata...   \n",
       "                                White                     Female  Certain conditions originating in the perinata...   \n",
       "                                                          Male    Certain conditions originating in the perinata...   \n",
       "     Duval County, FL           Black or African American Female  Certain conditions originating in the perinata...   \n",
       "     Fulton County, GA          Black or African American Male    Certain conditions originating in the perinata...   \n",
       "     Harris County, TX          Black or African American Female  Symptoms, signs and abnormal clinical and labo...   \n",
       "                                                          Male    Symptoms, signs and abnormal clinical and labo...   \n",
       "                                White                     Female  Certain conditions originating in the perinata...   \n",
       "                                                          Male    Certain conditions originating in the perinata...   \n",
       "     Kings County, NY           Black or African American Female  Certain conditions originating in the perinata...   \n",
       "                                                          Male    Certain conditions originating in the perinata...   \n",
       "     Los Angeles County, CA     Black or African American Male    Certain conditions originating in the perinata...   \n",
       "                                White                     Female  Certain conditions originating in the perinata...   \n",
       "                                                          Male    Certain conditions originating in the perinata...   \n",
       "     Maricopa County, AZ        White                     Female  Certain conditions originating in the perinata...   \n",
       "                                                          Male    Certain conditions originating in the perinata...   \n",
       "     Philadelphia County, PA    Black or African American Female  Certain conditions originating in the perinata...   \n",
       "                                                          Male    Certain conditions originating in the perinata...   \n",
       "                                White                     Male    Certain conditions originating in the perinata...   \n",
       "     Prince George's County, MD Black or African American Male    Certain conditions originating in the perinata...   \n",
       "...                                                                                                             ...   \n",
       "2014 Baltimore city, MD         Black or African American Male    Certain conditions originating in the perinata...   \n",
       "     Bexar County, TX           White                     Male    Certain conditions originating in the perinata...   \n",
       "     Broward County, FL         Black or African American Female  Certain conditions originating in the perinata...   \n",
       "     Cook County, IL            Black or African American Female  Certain conditions originating in the perinata...   \n",
       "                                                          Male    Certain conditions originating in the perinata...   \n",
       "                                White                     Female  Certain conditions originating in the perinata...   \n",
       "                                                          Male    Certain conditions originating in the perinata...   \n",
       "     Cuyahoga County, OH        Black or African American Male    Certain conditions originating in the perinata...   \n",
       "     Dallas County, TX          Black or African American Male    Certain conditions originating in the perinata...   \n",
       "                                White                     Male    Certain conditions originating in the perinata...   \n",
       "     Franklin County, OH        Black or African American Female  Certain conditions originating in the perinata...   \n",
       "                                                          Male    Certain conditions originating in the perinata...   \n",
       "     Hamilton County, OH        Black or African American Male    Certain conditions originating in the perinata...   \n",
       "     Harris County, TX          Black or African American Male    Symptoms, signs and abnormal clinical and labo...   \n",
       "                                White                     Female  Certain conditions originating in the perinata...   \n",
       "                                                          Male    Certain conditions originating in the perinata...   \n",
       "     Hillsborough County, FL    White                     Male          External causes of mortality (*U01,V01-Y84)   \n",
       "     Los Angeles County, CA     White                     Female  Certain conditions originating in the perinata...   \n",
       "                                                          Male    Certain conditions originating in the perinata...   \n",
       "     Maricopa County, AZ        White                     Female  Certain conditions originating in the perinata...   \n",
       "                                                          Male    Certain conditions originating in the perinata...   \n",
       "     Milwaukee County, WI       Black or African American Male    Certain conditions originating in the perinata...   \n",
       "     Philadelphia County, PA    Black or African American Female  Certain conditions originating in the perinata...   \n",
       "                                                          Male    Certain conditions originating in the perinata...   \n",
       "     San Bernardino County, CA  White                     Male    Certain conditions originating in the perinata...   \n",
       "     Shelby County, TN          Black or African American Male    Certain conditions originating in the perinata...   \n",
       "     Tarrant County, TX         White                     Male    Symptoms, signs and abnormal clinical and labo...   \n",
       "     Wayne County, MI           Black or African American Female  Certain conditions originating in the perinata...   \n",
       "                                                          Male    Certain conditions originating in the perinata...   \n",
       "     Worcester County, MA       White                     Male    Certain conditions originating in the perinata...   \n",
       "\n",
       "                                                                                                     Cause_of_death  \\\n",
       "Year County                     Race                      Gender                                                      \n",
       "2008 Baltimore city, MD         Black or African American Female                                 Extreme immaturity   \n",
       "                                                          Male                                   Extreme immaturity   \n",
       "     Bexar County, TX           White                     Male    Other ill-defined and unspecified causes of mo...   \n",
       "     Caddo Parish, LA           Black or African American Female                                 Extreme immaturity   \n",
       "     Cook County, IL            Black or African American Female                                 Extreme immaturity   \n",
       "                                                          Male                                   Extreme immaturity   \n",
       "                                White                     Female                                 Extreme immaturity   \n",
       "                                                          Male                                   Extreme immaturity   \n",
       "     Cuyahoga County, OH        Black or African American Female                                 Extreme immaturity   \n",
       "                                                          Male                                   Extreme immaturity   \n",
       "     Dallas County, TX          Black or African American Male                                   Extreme immaturity   \n",
       "                                White                     Female                                 Extreme immaturity   \n",
       "                                                          Male                                   Extreme immaturity   \n",
       "     Duval County, FL           Black or African American Female                                 Extreme immaturity   \n",
       "     Fulton County, GA          Black or African American Male                                   Extreme immaturity   \n",
       "     Harris County, TX          Black or African American Female  Other ill-defined and unspecified causes of mo...   \n",
       "                                                          Male    Other ill-defined and unspecified causes of mo...   \n",
       "                                White                     Female                                 Extreme immaturity   \n",
       "                                                          Male                                   Extreme immaturity   \n",
       "     Kings County, NY           Black or African American Female                       Neonatal cardiac dysrhythmia   \n",
       "                                                          Male             Respiratory distress syndrome of newborn   \n",
       "     Los Angeles County, CA     Black or African American Male                                   Extreme immaturity   \n",
       "                                White                     Female                                 Extreme immaturity   \n",
       "                                                          Male                                   Extreme immaturity   \n",
       "     Maricopa County, AZ        White                     Female                                 Extreme immaturity   \n",
       "                                                          Male                                   Extreme immaturity   \n",
       "     Philadelphia County, PA    Black or African American Female                                 Extreme immaturity   \n",
       "                                                          Male                                   Extreme immaturity   \n",
       "                                White                     Male                                   Extreme immaturity   \n",
       "     Prince George's County, MD Black or African American Male                                   Extreme immaturity   \n",
       "...                                                                                                             ...   \n",
       "2014 Baltimore city, MD         Black or African American Male                                   Extreme immaturity   \n",
       "     Bexar County, TX           White                     Male                                   Extreme immaturity   \n",
       "     Broward County, FL         Black or African American Female                                 Extreme immaturity   \n",
       "     Cook County, IL            Black or African American Female                                 Extreme immaturity   \n",
       "                                                          Male                                   Extreme immaturity   \n",
       "                                White                     Female                                 Extreme immaturity   \n",
       "                                                          Male                                   Extreme immaturity   \n",
       "     Cuyahoga County, OH        Black or African American Male                                Other preterm infants   \n",
       "     Dallas County, TX          Black or African American Male                                   Extreme immaturity   \n",
       "                                White                     Male                                   Extreme immaturity   \n",
       "     Franklin County, OH        Black or African American Female                                 Extreme immaturity   \n",
       "                                                          Male                                   Extreme immaturity   \n",
       "     Hamilton County, OH        Black or African American Male                                   Extreme immaturity   \n",
       "     Harris County, TX          Black or African American Male    Other ill-defined and unspecified causes of mo...   \n",
       "                                White                     Female                                 Extreme immaturity   \n",
       "                                                          Male                                   Extreme immaturity   \n",
       "     Hillsborough County, FL    White                     Male      Accidental suffocation and strangulation in bed   \n",
       "     Los Angeles County, CA     White                     Female                                 Extreme immaturity   \n",
       "                                                          Male                                   Extreme immaturity   \n",
       "     Maricopa County, AZ        White                     Female                                 Extreme immaturity   \n",
       "                                                          Male                                   Extreme immaturity   \n",
       "     Milwaukee County, WI       Black or African American Male                                   Extreme immaturity   \n",
       "     Philadelphia County, PA    Black or African American Female                                 Extreme immaturity   \n",
       "                                                          Male                                   Extreme immaturity   \n",
       "     San Bernardino County, CA  White                     Male                                   Extreme immaturity   \n",
       "     Shelby County, TN          Black or African American Male                                   Extreme immaturity   \n",
       "     Tarrant County, TX         White                     Male                  Sudden infant death syndrome - SIDS   \n",
       "     Wayne County, MI           Black or African American Female                                 Extreme immaturity   \n",
       "                                                          Male                                   Extreme immaturity   \n",
       "     Worcester County, MA       White                     Male                                   Extreme immaturity   \n",
       "\n",
       "                                                                  Death_ratio  \n",
       "Year County                     Race                      Gender               \n",
       "2008 Baltimore city, MD         Black or African American Female     0.003062  \n",
       "                                                          Male       0.006031  \n",
       "     Bexar County, TX           White                     Male       0.000881  \n",
       "     Caddo Parish, LA           Black or African American Female     0.010821  \n",
       "     Cook County, IL            Black or African American Female     0.001624  \n",
       "                                                          Male       0.002646  \n",
       "                                White                     Female     0.000913  \n",
       "                                                          Male       0.000883  \n",
       "     Cuyahoga County, OH        Black or African American Female     0.003683  \n",
       "                                                          Male       0.004551  \n",
       "     Dallas County, TX          Black or African American Male       0.003381  \n",
       "                                White                     Female     0.001239  \n",
       "                                                          Male       0.002041  \n",
       "     Duval County, FL           Black or African American Female     0.004103  \n",
       "     Fulton County, GA          Black or African American Male       0.003330  \n",
       "     Harris County, TX          Black or African American Female     0.002835  \n",
       "                                                          Male       0.002305  \n",
       "                                White                     Female     0.000457  \n",
       "                                                          Male       0.000582  \n",
       "     Kings County, NY           Black or African American Female     0.001458  \n",
       "                                                          Male       0.001450  \n",
       "     Los Angeles County, CA     Black or African American Male       0.001945  \n",
       "                                White                     Female     0.000576  \n",
       "                                                          Male       0.000598  \n",
       "     Maricopa County, AZ        White                     Female     0.000522  \n",
       "                                                          Male       0.000395  \n",
       "     Philadelphia County, PA    Black or African American Female     0.002491  \n",
       "                                                          Male       0.003376  \n",
       "                                White                     Male       0.004284  \n",
       "     Prince George's County, MD Black or African American Male       0.003439  \n",
       "...                                                                       ...  \n",
       "2014 Baltimore city, MD         Black or African American Male       0.004519  \n",
       "     Bexar County, TX           White                     Male       0.000963  \n",
       "     Broward County, FL         Black or African American Female     0.002261  \n",
       "     Cook County, IL            Black or African American Female     0.002141  \n",
       "                                                          Male       0.002958  \n",
       "                                White                     Female     0.000936  \n",
       "                                                          Male       0.001201  \n",
       "     Cuyahoga County, OH        Black or African American Male       0.003574  \n",
       "     Dallas County, TX          Black or African American Male       0.003086  \n",
       "                                White                     Male       0.001252  \n",
       "     Franklin County, OH        Black or African American Female     0.003444  \n",
       "                                                          Male       0.003762  \n",
       "     Hamilton County, OH        Black or African American Male       0.005184  \n",
       "     Harris County, TX          Black or African American Male       0.001497  \n",
       "                                White                     Female     0.000558  \n",
       "                                                          Male       0.000756  \n",
       "     Hillsborough County, FL    White                     Male       0.001582  \n",
       "     Los Angeles County, CA     White                     Female     0.000686  \n",
       "                                                          Male       0.000573  \n",
       "     Maricopa County, AZ        White                     Female     0.000523  \n",
       "                                                          Male       0.000747  \n",
       "     Milwaukee County, WI       Black or African American Male       0.004501  \n",
       "     Philadelphia County, PA    Black or African American Female     0.002353  \n",
       "                                                          Male       0.002637  \n",
       "     San Bernardino County, CA  White                     Male       0.000777  \n",
       "     Shelby County, TN          Black or African American Male       0.003471  \n",
       "     Tarrant County, TX         White                     Male       0.001260  \n",
       "     Wayne County, MI           Black or African American Female     0.002019  \n",
       "                                                          Male       0.003609  \n",
       "     Worcester County, MA       White                     Male       0.003771  \n",
       "\n",
       "[227 rows x 5 columns]"
      ]
     },
     "execution_count": 49,
     "metadata": {},
     "output_type": "execute_result"
    }
   ],
   "source": [
    "test"
   ]
  },
  {
   "cell_type": "code",
   "execution_count": 50,
   "metadata": {
    "collapsed": true
   },
   "outputs": [],
   "source": [
    "test = df1.groupby(['Year','County', 'Race', 'Gender']).first()\n",
    "new_df = pd.DataFrame(test).reset_index()"
   ]
  },
  {
   "cell_type": "code",
   "execution_count": 51,
   "metadata": {
    "collapsed": true
   },
   "outputs": [],
   "source": [
    "new_df_county = patsy.dmatrix('County', data=new_df, return_type='dataframe').drop('Intercept', 1)\n",
    "new_df_race = patsy.dmatrix('Race', data=new_df, return_type='dataframe').drop('Intercept', 1)\n",
    "new_df_icd = patsy.dmatrix('ICD_10_130_Infants', data=new_df, return_type='dataframe').drop('Intercept', 1)\n",
    "new_df_cause = patsy.dmatrix('Cause_of_death', data=new_df, return_type='dataframe').drop('Intercept', 1)\n",
    "new_df_gender = patsy.dmatrix('Gender', data=new_df, return_type='dataframe').drop('Intercept', 1)\n",
    "new_df_year = patsy.dmatrix('Year', data=new_df, return_type='dataframe').drop('Intercept', 1)"
   ]
  },
  {
   "cell_type": "code",
   "execution_count": 52,
   "metadata": {},
   "outputs": [],
   "source": [
    "new_df.drop(['Year', 'County','Race','Gender', 'ICD_10_130_Infants', 'Cause_of_death'], axis=1, inplace=True)"
   ]
  },
  {
   "cell_type": "code",
   "execution_count": 53,
   "metadata": {
    "collapsed": true
   },
   "outputs": [],
   "source": [
    "new_df1= pd.concat([new_df,\n",
    "                    new_df_year,\n",
    "                   new_df_county,\n",
    "                   #new_df_icd,\n",
    "                   new_df_race,\n",
    "                   new_df_gender\n",
    "                   ], axis=1, join='inner')"
   ]
  },
  {
   "cell_type": "code",
   "execution_count": 54,
   "metadata": {
    "collapsed": true
   },
   "outputs": [],
   "source": [
    "new_x = new_df1.drop('Death_ratio', axis=1).astype('float')\n",
    "new_x['intercept'] = np.ones(len(new_x))\n",
    "new_y = new_df1.Death_ratio\n",
    "\n",
    "x_train_new, x_test_new, y_train_new, y_test_new = train_test_split(new_x, new_y, \n",
    "                                                                    test_size = 0.25, random_state=20)"
   ]
  },
  {
   "cell_type": "code",
   "execution_count": null,
   "metadata": {},
   "outputs": [],
   "source": []
  },
  {
   "cell_type": "code",
   "execution_count": 55,
   "metadata": {
    "scrolled": true
   },
   "outputs": [
    {
     "data": {
      "text/html": [
       "<table class=\"simpletable\">\n",
       "<caption>OLS Regression Results</caption>\n",
       "<tr>\n",
       "  <th>Dep. Variable:</th>       <td>Death_ratio</td>   <th>  R-squared:         </th> <td>   0.919</td>\n",
       "</tr>\n",
       "<tr>\n",
       "  <th>Model:</th>                   <td>OLS</td>       <th>  Adj. R-squared:    </th> <td>   0.892</td>\n",
       "</tr>\n",
       "<tr>\n",
       "  <th>Method:</th>             <td>Least Squares</td>  <th>  F-statistic:       </th> <td>   34.35</td>\n",
       "</tr>\n",
       "<tr>\n",
       "  <th>Date:</th>             <td>Wed, 13 Sep 2017</td> <th>  Prob (F-statistic):</th> <td>8.09e-52</td>\n",
       "</tr>\n",
       "<tr>\n",
       "  <th>Time:</th>                 <td>13:30:46</td>     <th>  Log-Likelihood:    </th> <td>  1026.4</td>\n",
       "</tr>\n",
       "<tr>\n",
       "  <th>No. Observations:</th>      <td>   170</td>      <th>  AIC:               </th> <td>  -1967.</td>\n",
       "</tr>\n",
       "<tr>\n",
       "  <th>Df Residuals:</th>          <td>   127</td>      <th>  BIC:               </th> <td>  -1832.</td>\n",
       "</tr>\n",
       "<tr>\n",
       "  <th>Df Model:</th>              <td>    42</td>      <th>                     </th>     <td> </td>   \n",
       "</tr>\n",
       "<tr>\n",
       "  <th>Covariance Type:</th>      <td>nonrobust</td>    <th>                     </th>     <td> </td>   \n",
       "</tr>\n",
       "</table>\n",
       "<table class=\"simpletable\">\n",
       "<tr>\n",
       "                    <td></td>                       <th>coef</th>     <th>std err</th>      <th>t</th>      <th>P>|t|</th>  <th>[0.025</th>    <th>0.975]</th>  \n",
       "</tr>\n",
       "<tr>\n",
       "  <th>unemployment_rate</th>                     <td>-2.728e-05</td> <td> 5.33e-05</td> <td>   -0.512</td> <td> 0.610</td> <td>   -0.000</td> <td> 7.82e-05</td>\n",
       "</tr>\n",
       "<tr>\n",
       "  <th>HI_ratio</th>                              <td>   -0.0040</td> <td>    0.007</td> <td>   -0.565</td> <td> 0.573</td> <td>   -0.018</td> <td>    0.010</td>\n",
       "</tr>\n",
       "<tr>\n",
       "  <th>Year</th>                                  <td>-4.794e-05</td> <td> 4.11e-05</td> <td>   -1.167</td> <td> 0.245</td> <td>   -0.000</td> <td> 3.33e-05</td>\n",
       "</tr>\n",
       "<tr>\n",
       "  <th>County[T.Baltimore city, MD]</th>          <td>    0.0008</td> <td>    0.001</td> <td>    1.066</td> <td> 0.288</td> <td>   -0.001</td> <td>    0.002</td>\n",
       "</tr>\n",
       "<tr>\n",
       "  <th>County[T.Bexar County, TX]</th>            <td>   -0.0014</td> <td>    0.001</td> <td>   -1.800</td> <td> 0.074</td> <td>   -0.003</td> <td>    0.000</td>\n",
       "</tr>\n",
       "<tr>\n",
       "  <th>County[T.Bronx County, NY]</th>            <td>   -0.0004</td> <td>    0.001</td> <td>   -0.473</td> <td> 0.637</td> <td>   -0.002</td> <td>    0.001</td>\n",
       "</tr>\n",
       "<tr>\n",
       "  <th>County[T.Broward County, FL]</th>          <td>   -0.0010</td> <td>    0.001</td> <td>   -1.041</td> <td> 0.300</td> <td>   -0.003</td> <td>    0.001</td>\n",
       "</tr>\n",
       "<tr>\n",
       "  <th>County[T.Caddo Parish, LA]</th>            <td>    0.0071</td> <td>    0.001</td> <td>    9.217</td> <td> 0.000</td> <td>    0.006</td> <td>    0.009</td>\n",
       "</tr>\n",
       "<tr>\n",
       "  <th>County[T.Clark County, NV]</th>            <td> 4.647e-16</td> <td> 4.11e-16</td> <td>    1.129</td> <td> 0.261</td> <td> -3.5e-16</td> <td> 1.28e-15</td>\n",
       "</tr>\n",
       "<tr>\n",
       "  <th>County[T.Cook County, IL]</th>             <td>   -0.0009</td> <td>    0.001</td> <td>   -1.275</td> <td> 0.205</td> <td>   -0.002</td> <td>    0.001</td>\n",
       "</tr>\n",
       "<tr>\n",
       "  <th>County[T.Cuyahoga County, OH]</th>         <td>    0.0005</td> <td>    0.001</td> <td>    0.615</td> <td> 0.540</td> <td>   -0.001</td> <td>    0.002</td>\n",
       "</tr>\n",
       "<tr>\n",
       "  <th>County[T.Dallas County, TX]</th>           <td>   -0.0007</td> <td>    0.001</td> <td>   -0.860</td> <td> 0.391</td> <td>   -0.002</td> <td>    0.001</td>\n",
       "</tr>\n",
       "<tr>\n",
       "  <th>County[T.District of Columbia, DC]</th>    <td>    0.0001</td> <td>    0.001</td> <td>    0.127</td> <td> 0.899</td> <td>   -0.002</td> <td>    0.002</td>\n",
       "</tr>\n",
       "<tr>\n",
       "  <th>County[T.Duval County, FL]</th>            <td>-2.676e-17</td> <td> 8.56e-17</td> <td>   -0.313</td> <td> 0.755</td> <td>-1.96e-16</td> <td> 1.43e-16</td>\n",
       "</tr>\n",
       "<tr>\n",
       "  <th>County[T.East Baton Rouge Parish, LA]</th> <td>    0.0033</td> <td>    0.001</td> <td>    3.265</td> <td> 0.001</td> <td>    0.001</td> <td>    0.005</td>\n",
       "</tr>\n",
       "<tr>\n",
       "  <th>County[T.Essex County, NJ]</th>            <td>-8.506e-16</td> <td> 6.59e-16</td> <td>   -1.290</td> <td> 0.199</td> <td>-2.16e-15</td> <td> 4.54e-16</td>\n",
       "</tr>\n",
       "<tr>\n",
       "  <th>County[T.Franklin County, OH]</th>         <td>    0.0003</td> <td>    0.001</td> <td>    0.327</td> <td> 0.744</td> <td>   -0.002</td> <td>    0.002</td>\n",
       "</tr>\n",
       "<tr>\n",
       "  <th>County[T.Fresno County, CA]</th>           <td>   4.2e-05</td> <td>    0.001</td> <td>    0.042</td> <td> 0.966</td> <td>   -0.002</td> <td>    0.002</td>\n",
       "</tr>\n",
       "<tr>\n",
       "  <th>County[T.Fulton County, GA]</th>           <td>   -0.0004</td> <td>    0.001</td> <td>   -0.380</td> <td> 0.704</td> <td>   -0.002</td> <td>    0.002</td>\n",
       "</tr>\n",
       "<tr>\n",
       "  <th>County[T.Hamilton County, OH]</th>         <td>    0.0018</td> <td>    0.001</td> <td>    1.822</td> <td> 0.071</td> <td>   -0.000</td> <td>    0.004</td>\n",
       "</tr>\n",
       "<tr>\n",
       "  <th>County[T.Harris County, TX]</th>           <td>   -0.0015</td> <td>    0.001</td> <td>   -1.998</td> <td> 0.048</td> <td>   -0.003</td> <td>-1.46e-05</td>\n",
       "</tr>\n",
       "<tr>\n",
       "  <th>County[T.Hillsborough County, FL]</th>     <td>   -0.0004</td> <td>    0.001</td> <td>   -0.465</td> <td> 0.643</td> <td>   -0.002</td> <td>    0.001</td>\n",
       "</tr>\n",
       "<tr>\n",
       "  <th>County[T.Jefferson County, AL]</th>        <td>    0.0030</td> <td>    0.001</td> <td>    3.136</td> <td> 0.002</td> <td>    0.001</td> <td>    0.005</td>\n",
       "</tr>\n",
       "<tr>\n",
       "  <th>County[T.Kern County, CA]</th>             <td>   -0.0005</td> <td>    0.001</td> <td>   -0.487</td> <td> 0.627</td> <td>   -0.002</td> <td>    0.001</td>\n",
       "</tr>\n",
       "<tr>\n",
       "  <th>County[T.King County, WA]</th>             <td> 5.566e-16</td> <td> 3.48e-16</td> <td>    1.598</td> <td> 0.112</td> <td>-1.32e-16</td> <td> 1.25e-15</td>\n",
       "</tr>\n",
       "<tr>\n",
       "  <th>County[T.Kings County, NY]</th>            <td>   -0.0020</td> <td>    0.001</td> <td>   -2.369</td> <td> 0.019</td> <td>   -0.004</td> <td>   -0.000</td>\n",
       "</tr>\n",
       "<tr>\n",
       "  <th>County[T.Los Angeles County, CA]</th>      <td>   -0.0014</td> <td>    0.001</td> <td>   -2.001</td> <td> 0.048</td> <td>   -0.003</td> <td>-1.56e-05</td>\n",
       "</tr>\n",
       "<tr>\n",
       "  <th>County[T.Maricopa County, AZ]</th>         <td>   -0.0014</td> <td>    0.001</td> <td>   -2.001</td> <td> 0.048</td> <td>   -0.003</td> <td>-1.56e-05</td>\n",
       "</tr>\n",
       "<tr>\n",
       "  <th>County[T.Marion County, IN]</th>           <td>    0.0003</td> <td>    0.001</td> <td>    0.406</td> <td> 0.685</td> <td>   -0.001</td> <td>    0.002</td>\n",
       "</tr>\n",
       "<tr>\n",
       "  <th>County[T.Miami-Dade County, FL]</th>       <td> 1.587e-15</td> <td> 1.14e-15</td> <td>    1.388</td> <td> 0.168</td> <td>-6.76e-16</td> <td> 3.85e-15</td>\n",
       "</tr>\n",
       "<tr>\n",
       "  <th>County[T.Milwaukee County, WI]</th>        <td>    0.0008</td> <td>    0.001</td> <td>    1.021</td> <td> 0.309</td> <td>   -0.001</td> <td>    0.002</td>\n",
       "</tr>\n",
       "<tr>\n",
       "  <th>County[T.Mobile County, AL]</th>           <td>    0.0064</td> <td>    0.001</td> <td>    6.591</td> <td> 0.000</td> <td>    0.004</td> <td>    0.008</td>\n",
       "</tr>\n",
       "<tr>\n",
       "  <th>County[T.Oklahoma County, OK]</th>         <td>    0.0008</td> <td>    0.001</td> <td>    0.824</td> <td> 0.411</td> <td>   -0.001</td> <td>    0.003</td>\n",
       "</tr>\n",
       "<tr>\n",
       "  <th>County[T.Philadelphia County, PA]</th>     <td>   -0.0003</td> <td>    0.001</td> <td>   -0.435</td> <td> 0.664</td> <td>   -0.002</td> <td>    0.001</td>\n",
       "</tr>\n",
       "<tr>\n",
       "  <th>County[T.Prince George's County, MD]</th>  <td> 4.283e-06</td> <td>    0.001</td> <td>    0.005</td> <td> 0.996</td> <td>   -0.002</td> <td>    0.002</td>\n",
       "</tr>\n",
       "<tr>\n",
       "  <th>County[T.Queens County, NY]</th>           <td>   -0.0005</td> <td>    0.001</td> <td>   -0.659</td> <td> 0.511</td> <td>   -0.002</td> <td>    0.001</td>\n",
       "</tr>\n",
       "<tr>\n",
       "  <th>County[T.Riverside County, CA]</th>        <td>   -0.0013</td> <td>    0.001</td> <td>   -1.521</td> <td> 0.131</td> <td>   -0.003</td> <td>    0.000</td>\n",
       "</tr>\n",
       "<tr>\n",
       "  <th>County[T.San Bernardino County, CA]</th>   <td>   -0.0012</td> <td>    0.001</td> <td>   -1.607</td> <td> 0.111</td> <td>   -0.003</td> <td>    0.000</td>\n",
       "</tr>\n",
       "<tr>\n",
       "  <th>County[T.San Diego County, CA]</th>        <td>   -0.0016</td> <td>    0.001</td> <td>   -2.093</td> <td> 0.038</td> <td>   -0.003</td> <td>-8.51e-05</td>\n",
       "</tr>\n",
       "<tr>\n",
       "  <th>County[T.Shelby County, TN]</th>           <td>   -0.0002</td> <td>    0.001</td> <td>   -0.319</td> <td> 0.751</td> <td>   -0.002</td> <td>    0.001</td>\n",
       "</tr>\n",
       "<tr>\n",
       "  <th>County[T.St. Louis city, MO]</th>          <td>    0.0038</td> <td>    0.001</td> <td>    3.950</td> <td> 0.000</td> <td>    0.002</td> <td>    0.006</td>\n",
       "</tr>\n",
       "<tr>\n",
       "  <th>County[T.Tarrant County, TX]</th>          <td>   -0.0010</td> <td>    0.001</td> <td>   -1.219</td> <td> 0.225</td> <td>   -0.003</td> <td>    0.001</td>\n",
       "</tr>\n",
       "<tr>\n",
       "  <th>County[T.Wayne County, MI]</th>            <td>    0.0003</td> <td>    0.001</td> <td>    0.410</td> <td> 0.682</td> <td>   -0.001</td> <td>    0.002</td>\n",
       "</tr>\n",
       "<tr>\n",
       "  <th>County[T.Will County, IL]</th>             <td>-1.258e-05</td> <td>    0.001</td> <td>   -0.013</td> <td> 0.990</td> <td>   -0.002</td> <td>    0.002</td>\n",
       "</tr>\n",
       "<tr>\n",
       "  <th>County[T.Worcester County, MA]</th>        <td>    0.0018</td> <td>    0.001</td> <td>    1.850</td> <td> 0.067</td> <td>   -0.000</td> <td>    0.004</td>\n",
       "</tr>\n",
       "<tr>\n",
       "  <th>Race[T.White]</th>                         <td>   -0.0013</td> <td>    0.000</td> <td>   -8.125</td> <td> 0.000</td> <td>   -0.002</td> <td>   -0.001</td>\n",
       "</tr>\n",
       "<tr>\n",
       "  <th>Gender[T.Male]</th>                        <td>    0.0004</td> <td>    0.000</td> <td>    3.010</td> <td> 0.003</td> <td>    0.000</td> <td>    0.001</td>\n",
       "</tr>\n",
       "<tr>\n",
       "  <th>intercept</th>                             <td>    0.1002</td> <td>    0.082</td> <td>    1.225</td> <td> 0.223</td> <td>   -0.062</td> <td>    0.262</td>\n",
       "</tr>\n",
       "</table>\n",
       "<table class=\"simpletable\">\n",
       "<tr>\n",
       "  <th>Omnibus:</th>       <td>69.761</td> <th>  Durbin-Watson:     </th> <td>   2.216</td> \n",
       "</tr>\n",
       "<tr>\n",
       "  <th>Prob(Omnibus):</th> <td> 0.000</td> <th>  Jarque-Bera (JB):  </th> <td> 508.794</td> \n",
       "</tr>\n",
       "<tr>\n",
       "  <th>Skew:</th>          <td> 1.293</td> <th>  Prob(JB):          </th> <td>3.29e-111</td>\n",
       "</tr>\n",
       "<tr>\n",
       "  <th>Kurtosis:</th>      <td>11.071</td> <th>  Cond. No.          </th> <td>1.49e+20</td> \n",
       "</tr>\n",
       "</table>"
      ],
      "text/plain": [
       "<class 'statsmodels.iolib.summary.Summary'>\n",
       "\"\"\"\n",
       "                            OLS Regression Results                            \n",
       "==============================================================================\n",
       "Dep. Variable:            Death_ratio   R-squared:                       0.919\n",
       "Model:                            OLS   Adj. R-squared:                  0.892\n",
       "Method:                 Least Squares   F-statistic:                     34.35\n",
       "Date:                Wed, 13 Sep 2017   Prob (F-statistic):           8.09e-52\n",
       "Time:                        13:30:46   Log-Likelihood:                 1026.4\n",
       "No. Observations:                 170   AIC:                            -1967.\n",
       "Df Residuals:                     127   BIC:                            -1832.\n",
       "Df Model:                          42                                         \n",
       "Covariance Type:            nonrobust                                         \n",
       "=========================================================================================================\n",
       "                                            coef    std err          t      P>|t|      [0.025      0.975]\n",
       "---------------------------------------------------------------------------------------------------------\n",
       "unemployment_rate                     -2.728e-05   5.33e-05     -0.512      0.610      -0.000    7.82e-05\n",
       "HI_ratio                                 -0.0040      0.007     -0.565      0.573      -0.018       0.010\n",
       "Year                                  -4.794e-05   4.11e-05     -1.167      0.245      -0.000    3.33e-05\n",
       "County[T.Baltimore city, MD]              0.0008      0.001      1.066      0.288      -0.001       0.002\n",
       "County[T.Bexar County, TX]               -0.0014      0.001     -1.800      0.074      -0.003       0.000\n",
       "County[T.Bronx County, NY]               -0.0004      0.001     -0.473      0.637      -0.002       0.001\n",
       "County[T.Broward County, FL]             -0.0010      0.001     -1.041      0.300      -0.003       0.001\n",
       "County[T.Caddo Parish, LA]                0.0071      0.001      9.217      0.000       0.006       0.009\n",
       "County[T.Clark County, NV]             4.647e-16   4.11e-16      1.129      0.261    -3.5e-16    1.28e-15\n",
       "County[T.Cook County, IL]                -0.0009      0.001     -1.275      0.205      -0.002       0.001\n",
       "County[T.Cuyahoga County, OH]             0.0005      0.001      0.615      0.540      -0.001       0.002\n",
       "County[T.Dallas County, TX]              -0.0007      0.001     -0.860      0.391      -0.002       0.001\n",
       "County[T.District of Columbia, DC]        0.0001      0.001      0.127      0.899      -0.002       0.002\n",
       "County[T.Duval County, FL]            -2.676e-17   8.56e-17     -0.313      0.755   -1.96e-16    1.43e-16\n",
       "County[T.East Baton Rouge Parish, LA]     0.0033      0.001      3.265      0.001       0.001       0.005\n",
       "County[T.Essex County, NJ]            -8.506e-16   6.59e-16     -1.290      0.199   -2.16e-15    4.54e-16\n",
       "County[T.Franklin County, OH]             0.0003      0.001      0.327      0.744      -0.002       0.002\n",
       "County[T.Fresno County, CA]              4.2e-05      0.001      0.042      0.966      -0.002       0.002\n",
       "County[T.Fulton County, GA]              -0.0004      0.001     -0.380      0.704      -0.002       0.002\n",
       "County[T.Hamilton County, OH]             0.0018      0.001      1.822      0.071      -0.000       0.004\n",
       "County[T.Harris County, TX]              -0.0015      0.001     -1.998      0.048      -0.003   -1.46e-05\n",
       "County[T.Hillsborough County, FL]        -0.0004      0.001     -0.465      0.643      -0.002       0.001\n",
       "County[T.Jefferson County, AL]            0.0030      0.001      3.136      0.002       0.001       0.005\n",
       "County[T.Kern County, CA]                -0.0005      0.001     -0.487      0.627      -0.002       0.001\n",
       "County[T.King County, WA]              5.566e-16   3.48e-16      1.598      0.112   -1.32e-16    1.25e-15\n",
       "County[T.Kings County, NY]               -0.0020      0.001     -2.369      0.019      -0.004      -0.000\n",
       "County[T.Los Angeles County, CA]         -0.0014      0.001     -2.001      0.048      -0.003   -1.56e-05\n",
       "County[T.Maricopa County, AZ]            -0.0014      0.001     -2.001      0.048      -0.003   -1.56e-05\n",
       "County[T.Marion County, IN]               0.0003      0.001      0.406      0.685      -0.001       0.002\n",
       "County[T.Miami-Dade County, FL]        1.587e-15   1.14e-15      1.388      0.168   -6.76e-16    3.85e-15\n",
       "County[T.Milwaukee County, WI]            0.0008      0.001      1.021      0.309      -0.001       0.002\n",
       "County[T.Mobile County, AL]               0.0064      0.001      6.591      0.000       0.004       0.008\n",
       "County[T.Oklahoma County, OK]             0.0008      0.001      0.824      0.411      -0.001       0.003\n",
       "County[T.Philadelphia County, PA]        -0.0003      0.001     -0.435      0.664      -0.002       0.001\n",
       "County[T.Prince George's County, MD]   4.283e-06      0.001      0.005      0.996      -0.002       0.002\n",
       "County[T.Queens County, NY]              -0.0005      0.001     -0.659      0.511      -0.002       0.001\n",
       "County[T.Riverside County, CA]           -0.0013      0.001     -1.521      0.131      -0.003       0.000\n",
       "County[T.San Bernardino County, CA]      -0.0012      0.001     -1.607      0.111      -0.003       0.000\n",
       "County[T.San Diego County, CA]           -0.0016      0.001     -2.093      0.038      -0.003   -8.51e-05\n",
       "County[T.Shelby County, TN]              -0.0002      0.001     -0.319      0.751      -0.002       0.001\n",
       "County[T.St. Louis city, MO]              0.0038      0.001      3.950      0.000       0.002       0.006\n",
       "County[T.Tarrant County, TX]             -0.0010      0.001     -1.219      0.225      -0.003       0.001\n",
       "County[T.Wayne County, MI]                0.0003      0.001      0.410      0.682      -0.001       0.002\n",
       "County[T.Will County, IL]             -1.258e-05      0.001     -0.013      0.990      -0.002       0.002\n",
       "County[T.Worcester County, MA]            0.0018      0.001      1.850      0.067      -0.000       0.004\n",
       "Race[T.White]                            -0.0013      0.000     -8.125      0.000      -0.002      -0.001\n",
       "Gender[T.Male]                            0.0004      0.000      3.010      0.003       0.000       0.001\n",
       "intercept                                 0.1002      0.082      1.225      0.223      -0.062       0.262\n",
       "==============================================================================\n",
       "Omnibus:                       69.761   Durbin-Watson:                   2.216\n",
       "Prob(Omnibus):                  0.000   Jarque-Bera (JB):              508.794\n",
       "Skew:                           1.293   Prob(JB):                    3.29e-111\n",
       "Kurtosis:                      11.071   Cond. No.                     1.49e+20\n",
       "==============================================================================\n",
       "\n",
       "Warnings:\n",
       "[1] Standard Errors assume that the covariance matrix of the errors is correctly specified.\n",
       "[2] The smallest eigenvalue is 3.1e-32. This might indicate that there are\n",
       "strong multicollinearity problems or that the design matrix is singular.\n",
       "\"\"\""
      ]
     },
     "execution_count": 55,
     "metadata": {},
     "output_type": "execute_result"
    }
   ],
   "source": [
    "new_model = sm.OLS(y_train_new, x_train_new)\n",
    "new_fit = new_model.fit()\n",
    "new_fit.summary()\n"
   ]
  },
  {
   "cell_type": "code",
   "execution_count": null,
   "metadata": {
    "scrolled": true
   },
   "outputs": [],
   "source": []
  },
  {
   "cell_type": "code",
   "execution_count": 56,
   "metadata": {
    "collapsed": true
   },
   "outputs": [],
   "source": [
    "from sklearn.linear_model import LinearRegression, Ridge, Lasso\n",
    "from sklearn.naive_bayes import GaussianNB"
   ]
  },
  {
   "cell_type": "code",
   "execution_count": 57,
   "metadata": {
    "collapsed": true
   },
   "outputs": [],
   "source": [
    "lr = LinearRegression()\n",
    "lr.fit(x_train_new, y_train_new)\n",
    "lrpredict = lr.predict(x_test_new)\n"
   ]
  },
  {
   "cell_type": "code",
   "execution_count": 58,
   "metadata": {},
   "outputs": [
    {
     "data": {
      "text/plain": [
       "0.91909460761032069"
      ]
     },
     "execution_count": 58,
     "metadata": {},
     "output_type": "execute_result"
    }
   ],
   "source": [
    "lr.score(x_train_new, y_train_new)"
   ]
  },
  {
   "cell_type": "code",
   "execution_count": 59,
   "metadata": {},
   "outputs": [
    {
     "data": {
      "text/plain": [
       "0.78669924637161359"
      ]
     },
     "execution_count": 59,
     "metadata": {},
     "output_type": "execute_result"
    }
   ],
   "source": [
    "lr.score(x_test_new, y_test_new)"
   ]
  },
  {
   "cell_type": "code",
   "execution_count": 60,
   "metadata": {
    "collapsed": true
   },
   "outputs": [],
   "source": [
    "ridge = Ridge()\n",
    "ridge.fit(x_train_new, y_train_new)\n",
    "ridgepredict = ridge.predict(x_test_new)"
   ]
  },
  {
   "cell_type": "code",
   "execution_count": 61,
   "metadata": {},
   "outputs": [
    {
     "data": {
      "text/plain": [
       "0.87374994010663687"
      ]
     },
     "execution_count": 61,
     "metadata": {},
     "output_type": "execute_result"
    }
   ],
   "source": [
    "ridge.score(x_train_new, y_train_new)"
   ]
  },
  {
   "cell_type": "code",
   "execution_count": 62,
   "metadata": {},
   "outputs": [
    {
     "data": {
      "text/plain": [
       "0.79960619449445758"
      ]
     },
     "execution_count": 62,
     "metadata": {},
     "output_type": "execute_result"
    }
   ],
   "source": [
    "ridge.score(x_test_new, y_test_new)"
   ]
  },
  {
   "cell_type": "code",
   "execution_count": 63,
   "metadata": {
    "collapsed": true
   },
   "outputs": [],
   "source": [
    "lasso = Lasso()\n",
    "lasso.fit(x_train_new, y_train_new)\n",
    "lassopredict = lasso.predict(x_test_new)"
   ]
  },
  {
   "cell_type": "code",
   "execution_count": 64,
   "metadata": {},
   "outputs": [
    {
     "data": {
      "text/plain": [
       "0.0"
      ]
     },
     "execution_count": 64,
     "metadata": {},
     "output_type": "execute_result"
    }
   ],
   "source": [
    "lasso.score(x_train_new, y_train_new)"
   ]
  },
  {
   "cell_type": "code",
   "execution_count": 65,
   "metadata": {},
   "outputs": [
    {
     "data": {
      "text/plain": [
       "-0.0037065366925406185"
      ]
     },
     "execution_count": 65,
     "metadata": {},
     "output_type": "execute_result"
    }
   ],
   "source": [
    "lasso.score(x_test_new, y_test_new)"
   ]
  },
  {
   "cell_type": "code",
   "execution_count": null,
   "metadata": {
    "scrolled": true
   },
   "outputs": [],
   "source": []
  },
  {
   "cell_type": "markdown",
   "metadata": {},
   "source": [
    "# Standard Scaling"
   ]
  },
  {
   "cell_type": "code",
   "execution_count": 67,
   "metadata": {
    "collapsed": true,
    "scrolled": true
   },
   "outputs": [],
   "source": [
    "# Create new x,y that has non-categorical variables standardized\n",
    "\n",
    "x_newdf = new_df.drop('Death_ratio', axis=1)\n",
    "y_newdf = new_df.Death_ratio"
   ]
  },
  {
   "cell_type": "code",
   "execution_count": 68,
   "metadata": {
    "collapsed": true
   },
   "outputs": [],
   "source": [
    "x_train_newdf, x_test_newdf, y_train_newdf, y_test_newdf = train_test_split(x_newdf, y_newdf, \n",
    "                                                                           test_size=0.25, random_state=20)"
   ]
  },
  {
   "cell_type": "code",
   "execution_count": 69,
   "metadata": {},
   "outputs": [
    {
     "name": "stderr",
     "output_type": "stream",
     "text": [
      "/Users/allandong/anaconda/lib/python3.6/site-packages/ipykernel_launcher.py:7: SettingWithCopyWarning: \n",
      "A value is trying to be set on a copy of a slice from a DataFrame\n",
      "\n",
      "See the caveats in the documentation: http://pandas.pydata.org/pandas-docs/stable/indexing.html#indexing-view-versus-copy\n",
      "  import sys\n",
      "/Users/allandong/anaconda/lib/python3.6/site-packages/ipykernel_launcher.py:9: SettingWithCopyWarning: \n",
      "A value is trying to be set on a copy of a slice from a DataFrame\n",
      "\n",
      "See the caveats in the documentation: http://pandas.pydata.org/pandas-docs/stable/indexing.html#indexing-view-versus-copy\n",
      "  if __name__ == '__main__':\n"
     ]
    }
   ],
   "source": [
    "new_df2 = new_df1.drop(['unemployment_rate', 'HI_ratio', 'Death_ratio'], axis=1)\n",
    "\n",
    "x_train_patsy, x_test_patsy = train_test_split(new_df2, test_size=0.25, random_state=20)\n",
    "\n",
    "\n",
    "x_train_patsy.reset_index(inplace=True)\n",
    "x_train_patsy.drop('index', axis=1, inplace=True)\n",
    "x_test_patsy.reset_index(inplace=True)\n",
    "x_test_patsy.drop('index', axis=1, inplace=True)\n"
   ]
  },
  {
   "cell_type": "code",
   "execution_count": null,
   "metadata": {
    "collapsed": true
   },
   "outputs": [],
   "source": []
  },
  {
   "cell_type": "code",
   "execution_count": 174,
   "metadata": {
    "collapsed": true,
    "scrolled": true
   },
   "outputs": [],
   "source": [
    "ss = StandardScaler()\n",
    "ss.fit(x_train_newdf)\n",
    "\n",
    "ss_x_newdf_train = ss.transform(x_train_newdf)\n",
    "ss_x_newdf_test = ss.transform(x_test_newdf)\n",
    "\n",
    "df_newdf_trainx_ss = pd.DataFrame(ss_x_newdf_train, columns=['unemployment_rate', 'HI_ratio'])\n",
    "df_newdf_testx_ss = pd.DataFrame(ss_x_newdf_test, columns=['unemployment_rate', 'HI_ratio'])\n",
    "\n",
    "\n",
    "df_newdf_trainx = pd.concat([df_newdf_trainx_ss, x_train_patsy], axis=1)\n",
    "df_newdf_trainx['intercept'] = np.ones(len(df_newdf_trainx))\n",
    "\n",
    "df_newdf_testx = pd.concat([df_newdf_testx_ss, x_test_patsy], axis=1)\n",
    "df_newdf_testx['intercept'] = np.ones(len(df_newdf_testx))"
   ]
  },
  {
   "cell_type": "code",
   "execution_count": 178,
   "metadata": {
    "collapsed": true
   },
   "outputs": [],
   "source": [
    "# Linear Regression\n",
    "lr = LinearRegression()\n",
    "lr.fit(df_newdf_trainx, y_train_new)\n",
    "lrpredict = lr.predict(x_test_new)\n"
   ]
  },
  {
   "cell_type": "code",
   "execution_count": 179,
   "metadata": {},
   "outputs": [
    {
     "data": {
      "text/plain": [
       "0.9190946076103208"
      ]
     },
     "execution_count": 179,
     "metadata": {},
     "output_type": "execute_result"
    }
   ],
   "source": [
    "lr.score(df_newdf_trainx, y_train_new)"
   ]
  },
  {
   "cell_type": "code",
   "execution_count": 175,
   "metadata": {
    "scrolled": true
   },
   "outputs": [],
   "source": [
    "# Ridge Regression\n",
    "ridge = Ridge()\n",
    "ridge.fit(df_newdf_trainx, y_train_newdf)\n",
    "ridgepredict = ridge.predict(df_newdf_testx)"
   ]
  },
  {
   "cell_type": "code",
   "execution_count": 176,
   "metadata": {
    "scrolled": true
   },
   "outputs": [
    {
     "data": {
      "text/plain": [
       "0.87308926952631294"
      ]
     },
     "execution_count": 176,
     "metadata": {},
     "output_type": "execute_result"
    }
   ],
   "source": [
    "ridge.score(df_newdf_trainx, y_train_new)"
   ]
  },
  {
   "cell_type": "code",
   "execution_count": 73,
   "metadata": {
    "collapsed": true
   },
   "outputs": [],
   "source": [
    "lasso = Lasso()\n",
    "lasso.fit(df_newdf_trainx, y_train_newdf)\n",
    "lassopredict = lasso.predict(df_newdf_testx)"
   ]
  },
  {
   "cell_type": "code",
   "execution_count": 74,
   "metadata": {},
   "outputs": [
    {
     "data": {
      "text/plain": [
       "0.0"
      ]
     },
     "execution_count": 74,
     "metadata": {},
     "output_type": "execute_result"
    }
   ],
   "source": [
    "lasso.score(df_newdf_trainx, y_train_newdf)"
   ]
  },
  {
   "cell_type": "code",
   "execution_count": 169,
   "metadata": {},
   "outputs": [
    {
     "name": "stderr",
     "output_type": "stream",
     "text": [
      "/Users/allandong/anaconda/lib/python3.6/site-packages/ipykernel_launcher.py:7: UserWarning: With alpha=0, this algorithm does not converge well. You are advised to use the LinearRegression estimator\n",
      "  import sys\n",
      "/Users/allandong/anaconda/lib/python3.6/site-packages/sklearn/linear_model/coordinate_descent.py:470: UserWarning: Coordinate descent with alpha=0 may lead to unexpected results and is discouraged.\n",
      "  positive)\n",
      "/Users/allandong/anaconda/lib/python3.6/site-packages/sklearn/linear_model/coordinate_descent.py:484: ConvergenceWarning: Objective did not converge. You might want to increase the number of iterations. Fitting data with very small alpha may cause precision problems.\n",
      "  ConvergenceWarning)\n"
     ]
    },
    {
     "data": {
      "text/plain": [
       "[6.256444920472025e-07,\n",
       " 2.5766085101140765e-06,\n",
       " 2.5886955009738173e-06,\n",
       " 6.215773886838004e-07,\n",
       " 2.9210088243737206e-06,\n",
       " 8.54099367587453e-06,\n",
       " 8.54099367587453e-06]"
      ]
     },
     "execution_count": 169,
     "metadata": {},
     "output_type": "execute_result"
    }
   ],
   "source": [
    "alphas=[1e-5,1e-3,1e-1,0,1,100, 1000]\n",
    "all_scores=[]\n",
    "\n",
    "\n",
    "for a in alphas:\n",
    "    est=Lasso(alpha=a,fit_intercept=False)\n",
    "    est.fit(df_newdf_trainx, y_train_newdf)\n",
    "    mse=np.mean((y_test_newdf-est.predict(df_newdf_testx))**2)\n",
    "    all_scores.append(mse)\n",
    "\n",
    "    \n",
    "all_scores"
   ]
  },
  {
   "cell_type": "code",
   "execution_count": null,
   "metadata": {},
   "outputs": [],
   "source": [
    "\n"
   ]
  },
  {
   "cell_type": "code",
   "execution_count": 173,
   "metadata": {},
   "outputs": [
    {
     "name": "stderr",
     "output_type": "stream",
     "text": [
      "/Users/allandong/anaconda/lib/python3.6/site-packages/matplotlib/axes/_axes.py:545: UserWarning: No labelled objects found. Use label='...' kwarg on individual plots.\n",
      "  warnings.warn(\"No labelled objects found. \"\n"
     ]
    },
    {
     "data": {
      "image/png": "[encoded data removed]",
      "text/plain": [
       "<matplotlib.figure.Figure at 0x1212b7fd0>"
      ]
     },
     "metadata": {},
     "output_type": "display_data"
    }
   ],
   "source": [
    "plt.figure(figsize=(8,6))\n",
    "#plt.ylim(0,0.1)\n",
    "plt.legend()\n",
    "for i in range(7):\n",
    "    plt.plot(alphas[i], all_scores[i])\n",
    "plt.legend()\n",
    "plt.xlabel('alphas')\n",
    "plt.ylabel('MSE')\n",
    "plt.show()"
   ]
  },
  {
   "cell_type": "code",
   "execution_count": null,
   "metadata": {
    "collapsed": true
   },
   "outputs": [],
   "source": []
  },
  {
   "cell_type": "code",
   "execution_count": null,
   "metadata": {
    "collapsed": true
   },
   "outputs": [],
   "source": []
  },
  {
   "cell_type": "code",
   "execution_count": 89,
   "metadata": {
    "scrolled": true
   },
   "outputs": [
    {
     "name": "stderr",
     "output_type": "stream",
     "text": [
      "/Users/allandong/anaconda/lib/python3.6/site-packages/statsmodels/base/model.py:1036: RuntimeWarning: invalid value encountered in true_divide\n",
      "  return self.params / self.bse\n",
      "/Users/allandong/anaconda/lib/python3.6/site-packages/scipy/stats/_distn_infrastructure.py:879: RuntimeWarning: invalid value encountered in greater\n",
      "  return (self.a < x) & (x < self.b)\n",
      "/Users/allandong/anaconda/lib/python3.6/site-packages/scipy/stats/_distn_infrastructure.py:879: RuntimeWarning: invalid value encountered in less\n",
      "  return (self.a < x) & (x < self.b)\n",
      "/Users/allandong/anaconda/lib/python3.6/site-packages/scipy/stats/_distn_infrastructure.py:1818: RuntimeWarning: invalid value encountered in less_equal\n",
      "  cond2 = cond0 & (x <= self.a)\n"
     ]
    },
    {
     "data": {
      "text/html": [
       "<table class=\"simpletable\">\n",
       "<caption>OLS Regression Results</caption>\n",
       "<tr>\n",
       "  <th>Dep. Variable:</th>       <td>Death_ratio</td>   <th>  R-squared:         </th> <td>   0.940</td>\n",
       "</tr>\n",
       "<tr>\n",
       "  <th>Model:</th>                   <td>OLS</td>       <th>  Adj. R-squared:    </th> <td>   0.892</td>\n",
       "</tr>\n",
       "<tr>\n",
       "  <th>Method:</th>             <td>Least Squares</td>  <th>  F-statistic:       </th> <td>   19.53</td>\n",
       "</tr>\n",
       "<tr>\n",
       "  <th>Date:</th>             <td>Wed, 13 Sep 2017</td> <th>  Prob (F-statistic):</th> <td>8.39e-13</td>\n",
       "</tr>\n",
       "<tr>\n",
       "  <th>Time:</th>                 <td>14:20:14</td>     <th>  Log-Likelihood:    </th> <td>  366.32</td>\n",
       "</tr>\n",
       "<tr>\n",
       "  <th>No. Observations:</th>      <td>    57</td>      <th>  AIC:               </th> <td>  -680.6</td>\n",
       "</tr>\n",
       "<tr>\n",
       "  <th>Df Residuals:</th>          <td>    31</td>      <th>  BIC:               </th> <td>  -627.5</td>\n",
       "</tr>\n",
       "<tr>\n",
       "  <th>Df Model:</th>              <td>    25</td>      <th>                     </th>     <td> </td>   \n",
       "</tr>\n",
       "<tr>\n",
       "  <th>Covariance Type:</th>      <td>nonrobust</td>    <th>                     </th>     <td> </td>   \n",
       "</tr>\n",
       "</table>\n",
       "<table class=\"simpletable\">\n",
       "<tr>\n",
       "                    <td></td>                       <th>coef</th>     <th>std err</th>      <th>t</th>      <th>P>|t|</th>  <th>[0.025</th>    <th>0.975]</th>  \n",
       "</tr>\n",
       "<tr>\n",
       "  <th>unemployment_rate</th>                     <td>   2.7e-05</td> <td>    0.000</td> <td>    0.161</td> <td> 0.873</td> <td>   -0.000</td> <td>    0.000</td>\n",
       "</tr>\n",
       "<tr>\n",
       "  <th>HI_ratio</th>                              <td> 3.818e-05</td> <td>    0.000</td> <td>    0.179</td> <td> 0.859</td> <td>   -0.000</td> <td>    0.000</td>\n",
       "</tr>\n",
       "<tr>\n",
       "  <th>Year</th>                                  <td>-9.286e-05</td> <td> 7.29e-05</td> <td>   -1.275</td> <td> 0.212</td> <td>   -0.000</td> <td> 5.57e-05</td>\n",
       "</tr>\n",
       "<tr>\n",
       "  <th>County[T.Baltimore city, MD]</th>          <td>    0.0109</td> <td>    0.006</td> <td>    1.716</td> <td> 0.096</td> <td>   -0.002</td> <td>    0.024</td>\n",
       "</tr>\n",
       "<tr>\n",
       "  <th>County[T.Bexar County, TX]</th>            <td>    0.0083</td> <td>    0.007</td> <td>    1.215</td> <td> 0.233</td> <td>   -0.006</td> <td>    0.022</td>\n",
       "</tr>\n",
       "<tr>\n",
       "  <th>County[T.Bronx County, NY]</th>            <td>-4.998e-15</td> <td> 3.85e-15</td> <td>   -1.298</td> <td> 0.204</td> <td>-1.29e-14</td> <td> 2.86e-15</td>\n",
       "</tr>\n",
       "<tr>\n",
       "  <th>County[T.Broward County, FL]</th>          <td>    0.0080</td> <td>    0.007</td> <td>    1.184</td> <td> 0.246</td> <td>   -0.006</td> <td>    0.022</td>\n",
       "</tr>\n",
       "<tr>\n",
       "  <th>County[T.Caddo Parish, LA]</th>            <td>-2.239e-15</td> <td> 1.73e-15</td> <td>   -1.298</td> <td> 0.204</td> <td>-5.76e-15</td> <td> 1.28e-15</td>\n",
       "</tr>\n",
       "<tr>\n",
       "  <th>County[T.Clark County, NV]</th>            <td>    0.0082</td> <td>    0.007</td> <td>    1.212</td> <td> 0.235</td> <td>   -0.006</td> <td>    0.022</td>\n",
       "</tr>\n",
       "<tr>\n",
       "  <th>County[T.Cook County, IL]</th>             <td>    0.0080</td> <td>    0.007</td> <td>    1.207</td> <td> 0.237</td> <td>   -0.006</td> <td>    0.022</td>\n",
       "</tr>\n",
       "<tr>\n",
       "  <th>County[T.Cuyahoga County, OH]</th>         <td>-2.034e-15</td> <td> 1.57e-15</td> <td>   -1.297</td> <td> 0.204</td> <td>-5.23e-15</td> <td> 1.17e-15</td>\n",
       "</tr>\n",
       "<tr>\n",
       "  <th>County[T.Dallas County, TX]</th>           <td>    0.0088</td> <td>    0.007</td> <td>    1.279</td> <td> 0.210</td> <td>   -0.005</td> <td>    0.023</td>\n",
       "</tr>\n",
       "<tr>\n",
       "  <th>County[T.District of Columbia, DC]</th>    <td> 2.941e-15</td> <td> 2.27e-15</td> <td>    1.297</td> <td> 0.204</td> <td>-1.69e-15</td> <td> 7.57e-15</td>\n",
       "</tr>\n",
       "<tr>\n",
       "  <th>County[T.Duval County, FL]</th>            <td>    0.0095</td> <td>    0.006</td> <td>    1.522</td> <td> 0.138</td> <td>   -0.003</td> <td>    0.022</td>\n",
       "</tr>\n",
       "<tr>\n",
       "  <th>County[T.East Baton Rouge Parish, LA]</th> <td>    0.0115</td> <td>    0.007</td> <td>    1.670</td> <td> 0.105</td> <td>   -0.003</td> <td>    0.026</td>\n",
       "</tr>\n",
       "<tr>\n",
       "  <th>County[T.Essex County, NJ]</th>            <td>    0.0090</td> <td>    0.007</td> <td>    1.359</td> <td> 0.184</td> <td>   -0.004</td> <td>    0.022</td>\n",
       "</tr>\n",
       "<tr>\n",
       "  <th>County[T.Franklin County, OH]</th>         <td>    0.0092</td> <td>    0.007</td> <td>    1.312</td> <td> 0.199</td> <td>   -0.005</td> <td>    0.024</td>\n",
       "</tr>\n",
       "<tr>\n",
       "  <th>County[T.Fresno County, CA]</th>           <td> 5.664e-16</td> <td> 4.37e-16</td> <td>    1.296</td> <td> 0.205</td> <td>-3.25e-16</td> <td> 1.46e-15</td>\n",
       "</tr>\n",
       "<tr>\n",
       "  <th>County[T.Fulton County, GA]</th>           <td>-9.864e-16</td> <td> 7.61e-16</td> <td>   -1.297</td> <td> 0.204</td> <td>-2.54e-15</td> <td> 5.65e-16</td>\n",
       "</tr>\n",
       "<tr>\n",
       "  <th>County[T.Hamilton County, OH]</th>         <td> 1.403e-15</td> <td> 1.08e-15</td> <td>    1.296</td> <td> 0.204</td> <td>-8.05e-16</td> <td> 3.61e-15</td>\n",
       "</tr>\n",
       "<tr>\n",
       "  <th>County[T.Harris County, TX]</th>           <td>    0.0077</td> <td>    0.007</td> <td>    1.107</td> <td> 0.277</td> <td>   -0.006</td> <td>    0.022</td>\n",
       "</tr>\n",
       "<tr>\n",
       "  <th>County[T.Hillsborough County, FL]</th>     <td> 4.245e-17</td> <td> 3.26e-17</td> <td>    1.300</td> <td> 0.203</td> <td>-2.41e-17</td> <td> 1.09e-16</td>\n",
       "</tr>\n",
       "<tr>\n",
       "  <th>County[T.Jefferson County, AL]</th>        <td> 8.573e-17</td> <td> 6.64e-17</td> <td>    1.291</td> <td> 0.206</td> <td>-4.97e-17</td> <td> 2.21e-16</td>\n",
       "</tr>\n",
       "<tr>\n",
       "  <th>County[T.Kern County, CA]</th>             <td> 5.711e-17</td> <td> 4.41e-17</td> <td>    1.296</td> <td> 0.205</td> <td>-3.28e-17</td> <td> 1.47e-16</td>\n",
       "</tr>\n",
       "<tr>\n",
       "  <th>County[T.King County, WA]</th>             <td>    0.0083</td> <td>    0.007</td> <td>    1.254</td> <td> 0.219</td> <td>   -0.005</td> <td>    0.022</td>\n",
       "</tr>\n",
       "<tr>\n",
       "  <th>County[T.Kings County, NY]</th>            <td>    0.0067</td> <td>    0.007</td> <td>    1.022</td> <td> 0.314</td> <td>   -0.007</td> <td>    0.020</td>\n",
       "</tr>\n",
       "<tr>\n",
       "  <th>County[T.Los Angeles County, CA]</th>      <td>    0.0074</td> <td>    0.007</td> <td>    1.118</td> <td> 0.272</td> <td>   -0.006</td> <td>    0.021</td>\n",
       "</tr>\n",
       "<tr>\n",
       "  <th>County[T.Maricopa County, AZ]</th>         <td>    0.0076</td> <td>    0.006</td> <td>    1.177</td> <td> 0.248</td> <td>   -0.006</td> <td>    0.021</td>\n",
       "</tr>\n",
       "<tr>\n",
       "  <th>County[T.Marion County, IN]</th>           <td>         0</td> <td>        0</td> <td>      nan</td> <td>   nan</td> <td>        0</td> <td>        0</td>\n",
       "</tr>\n",
       "<tr>\n",
       "  <th>County[T.Miami-Dade County, FL]</th>       <td>    0.0080</td> <td>    0.007</td> <td>    1.182</td> <td> 0.246</td> <td>   -0.006</td> <td>    0.022</td>\n",
       "</tr>\n",
       "<tr>\n",
       "  <th>County[T.Milwaukee County, WI]</th>        <td>    0.0107</td> <td>    0.007</td> <td>    1.585</td> <td> 0.123</td> <td>   -0.003</td> <td>    0.025</td>\n",
       "</tr>\n",
       "<tr>\n",
       "  <th>County[T.Mobile County, AL]</th>           <td>         0</td> <td>        0</td> <td>      nan</td> <td>   nan</td> <td>        0</td> <td>        0</td>\n",
       "</tr>\n",
       "<tr>\n",
       "  <th>County[T.Oklahoma County, OK]</th>         <td>         0</td> <td>        0</td> <td>      nan</td> <td>   nan</td> <td>        0</td> <td>        0</td>\n",
       "</tr>\n",
       "<tr>\n",
       "  <th>County[T.Philadelphia County, PA]</th>     <td>    0.0075</td> <td>    0.006</td> <td>    1.168</td> <td> 0.252</td> <td>   -0.006</td> <td>    0.021</td>\n",
       "</tr>\n",
       "<tr>\n",
       "  <th>County[T.Prince George's County, MD]</th>  <td>         0</td> <td>        0</td> <td>      nan</td> <td>   nan</td> <td>        0</td> <td>        0</td>\n",
       "</tr>\n",
       "<tr>\n",
       "  <th>County[T.Queens County, NY]</th>           <td>         0</td> <td>        0</td> <td>      nan</td> <td>   nan</td> <td>        0</td> <td>        0</td>\n",
       "</tr>\n",
       "<tr>\n",
       "  <th>County[T.Riverside County, CA]</th>        <td>         0</td> <td>        0</td> <td>      nan</td> <td>   nan</td> <td>        0</td> <td>        0</td>\n",
       "</tr>\n",
       "<tr>\n",
       "  <th>County[T.San Bernardino County, CA]</th>   <td>         0</td> <td>        0</td> <td>      nan</td> <td>   nan</td> <td>        0</td> <td>        0</td>\n",
       "</tr>\n",
       "<tr>\n",
       "  <th>County[T.San Diego County, CA]</th>        <td>         0</td> <td>        0</td> <td>      nan</td> <td>   nan</td> <td>        0</td> <td>        0</td>\n",
       "</tr>\n",
       "<tr>\n",
       "  <th>County[T.Shelby County, TN]</th>           <td>    0.0092</td> <td>    0.007</td> <td>    1.396</td> <td> 0.173</td> <td>   -0.004</td> <td>    0.023</td>\n",
       "</tr>\n",
       "<tr>\n",
       "  <th>County[T.St. Louis city, MO]</th>          <td>         0</td> <td>        0</td> <td>      nan</td> <td>   nan</td> <td>        0</td> <td>        0</td>\n",
       "</tr>\n",
       "<tr>\n",
       "  <th>County[T.Tarrant County, TX]</th>          <td>    0.0082</td> <td>    0.007</td> <td>    1.202</td> <td> 0.239</td> <td>   -0.006</td> <td>    0.022</td>\n",
       "</tr>\n",
       "<tr>\n",
       "  <th>County[T.Wayne County, MI]</th>            <td>    0.0085</td> <td>    0.007</td> <td>    1.295</td> <td> 0.205</td> <td>   -0.005</td> <td>    0.022</td>\n",
       "</tr>\n",
       "<tr>\n",
       "  <th>County[T.Will County, IL]</th>             <td>         0</td> <td>        0</td> <td>      nan</td> <td>   nan</td> <td>        0</td> <td>        0</td>\n",
       "</tr>\n",
       "<tr>\n",
       "  <th>County[T.Worcester County, MA]</th>        <td>         0</td> <td>        0</td> <td>      nan</td> <td>   nan</td> <td>        0</td> <td>        0</td>\n",
       "</tr>\n",
       "<tr>\n",
       "  <th>Race[T.White]</th>                         <td>   -0.0016</td> <td>    0.000</td> <td>   -5.943</td> <td> 0.000</td> <td>   -0.002</td> <td>   -0.001</td>\n",
       "</tr>\n",
       "<tr>\n",
       "  <th>Gender[T.Male]</th>                        <td>-3.364e-05</td> <td>    0.000</td> <td>   -0.152</td> <td> 0.880</td> <td>   -0.000</td> <td>    0.000</td>\n",
       "</tr>\n",
       "<tr>\n",
       "  <th>intercept</th>                             <td>    0.1813</td> <td>    0.140</td> <td>    1.296</td> <td> 0.204</td> <td>   -0.104</td> <td>    0.466</td>\n",
       "</tr>\n",
       "</table>\n",
       "<table class=\"simpletable\">\n",
       "<tr>\n",
       "  <th>Omnibus:</th>       <td> 4.510</td> <th>  Durbin-Watson:     </th> <td>   2.220</td>\n",
       "</tr>\n",
       "<tr>\n",
       "  <th>Prob(Omnibus):</th> <td> 0.105</td> <th>  Jarque-Bera (JB):  </th> <td>   5.291</td>\n",
       "</tr>\n",
       "<tr>\n",
       "  <th>Skew:</th>          <td>-0.092</td> <th>  Prob(JB):          </th> <td>  0.0710</td>\n",
       "</tr>\n",
       "<tr>\n",
       "  <th>Kurtosis:</th>      <td> 4.481</td> <th>  Cond. No.          </th> <td>1.19e+19</td>\n",
       "</tr>\n",
       "</table>"
      ],
      "text/plain": [
       "<class 'statsmodels.iolib.summary.Summary'>\n",
       "\"\"\"\n",
       "                            OLS Regression Results                            \n",
       "==============================================================================\n",
       "Dep. Variable:            Death_ratio   R-squared:                       0.940\n",
       "Model:                            OLS   Adj. R-squared:                  0.892\n",
       "Method:                 Least Squares   F-statistic:                     19.53\n",
       "Date:                Wed, 13 Sep 2017   Prob (F-statistic):           8.39e-13\n",
       "Time:                        14:20:14   Log-Likelihood:                 366.32\n",
       "No. Observations:                  57   AIC:                            -680.6\n",
       "Df Residuals:                      31   BIC:                            -627.5\n",
       "Df Model:                          25                                         \n",
       "Covariance Type:            nonrobust                                         \n",
       "=========================================================================================================\n",
       "                                            coef    std err          t      P>|t|      [0.025      0.975]\n",
       "---------------------------------------------------------------------------------------------------------\n",
       "unemployment_rate                        2.7e-05      0.000      0.161      0.873      -0.000       0.000\n",
       "HI_ratio                               3.818e-05      0.000      0.179      0.859      -0.000       0.000\n",
       "Year                                  -9.286e-05   7.29e-05     -1.275      0.212      -0.000    5.57e-05\n",
       "County[T.Baltimore city, MD]              0.0109      0.006      1.716      0.096      -0.002       0.024\n",
       "County[T.Bexar County, TX]                0.0083      0.007      1.215      0.233      -0.006       0.022\n",
       "County[T.Bronx County, NY]            -4.998e-15   3.85e-15     -1.298      0.204   -1.29e-14    2.86e-15\n",
       "County[T.Broward County, FL]              0.0080      0.007      1.184      0.246      -0.006       0.022\n",
       "County[T.Caddo Parish, LA]            -2.239e-15   1.73e-15     -1.298      0.204   -5.76e-15    1.28e-15\n",
       "County[T.Clark County, NV]                0.0082      0.007      1.212      0.235      -0.006       0.022\n",
       "County[T.Cook County, IL]                 0.0080      0.007      1.207      0.237      -0.006       0.022\n",
       "County[T.Cuyahoga County, OH]         -2.034e-15   1.57e-15     -1.297      0.204   -5.23e-15    1.17e-15\n",
       "County[T.Dallas County, TX]               0.0088      0.007      1.279      0.210      -0.005       0.023\n",
       "County[T.District of Columbia, DC]     2.941e-15   2.27e-15      1.297      0.204   -1.69e-15    7.57e-15\n",
       "County[T.Duval County, FL]                0.0095      0.006      1.522      0.138      -0.003       0.022\n",
       "County[T.East Baton Rouge Parish, LA]     0.0115      0.007      1.670      0.105      -0.003       0.026\n",
       "County[T.Essex County, NJ]                0.0090      0.007      1.359      0.184      -0.004       0.022\n",
       "County[T.Franklin County, OH]             0.0092      0.007      1.312      0.199      -0.005       0.024\n",
       "County[T.Fresno County, CA]            5.664e-16   4.37e-16      1.296      0.205   -3.25e-16    1.46e-15\n",
       "County[T.Fulton County, GA]           -9.864e-16   7.61e-16     -1.297      0.204   -2.54e-15    5.65e-16\n",
       "County[T.Hamilton County, OH]          1.403e-15   1.08e-15      1.296      0.204   -8.05e-16    3.61e-15\n",
       "County[T.Harris County, TX]               0.0077      0.007      1.107      0.277      -0.006       0.022\n",
       "County[T.Hillsborough County, FL]      4.245e-17   3.26e-17      1.300      0.203   -2.41e-17    1.09e-16\n",
       "County[T.Jefferson County, AL]         8.573e-17   6.64e-17      1.291      0.206   -4.97e-17    2.21e-16\n",
       "County[T.Kern County, CA]              5.711e-17   4.41e-17      1.296      0.205   -3.28e-17    1.47e-16\n",
       "County[T.King County, WA]                 0.0083      0.007      1.254      0.219      -0.005       0.022\n",
       "County[T.Kings County, NY]                0.0067      0.007      1.022      0.314      -0.007       0.020\n",
       "County[T.Los Angeles County, CA]          0.0074      0.007      1.118      0.272      -0.006       0.021\n",
       "County[T.Maricopa County, AZ]             0.0076      0.006      1.177      0.248      -0.006       0.021\n",
       "County[T.Marion County, IN]                    0          0        nan        nan           0           0\n",
       "County[T.Miami-Dade County, FL]           0.0080      0.007      1.182      0.246      -0.006       0.022\n",
       "County[T.Milwaukee County, WI]            0.0107      0.007      1.585      0.123      -0.003       0.025\n",
       "County[T.Mobile County, AL]                    0          0        nan        nan           0           0\n",
       "County[T.Oklahoma County, OK]                  0          0        nan        nan           0           0\n",
       "County[T.Philadelphia County, PA]         0.0075      0.006      1.168      0.252      -0.006       0.021\n",
       "County[T.Prince George's County, MD]           0          0        nan        nan           0           0\n",
       "County[T.Queens County, NY]                    0          0        nan        nan           0           0\n",
       "County[T.Riverside County, CA]                 0          0        nan        nan           0           0\n",
       "County[T.San Bernardino County, CA]            0          0        nan        nan           0           0\n",
       "County[T.San Diego County, CA]                 0          0        nan        nan           0           0\n",
       "County[T.Shelby County, TN]               0.0092      0.007      1.396      0.173      -0.004       0.023\n",
       "County[T.St. Louis city, MO]                   0          0        nan        nan           0           0\n",
       "County[T.Tarrant County, TX]              0.0082      0.007      1.202      0.239      -0.006       0.022\n",
       "County[T.Wayne County, MI]                0.0085      0.007      1.295      0.205      -0.005       0.022\n",
       "County[T.Will County, IL]                      0          0        nan        nan           0           0\n",
       "County[T.Worcester County, MA]                 0          0        nan        nan           0           0\n",
       "Race[T.White]                            -0.0016      0.000     -5.943      0.000      -0.002      -0.001\n",
       "Gender[T.Male]                        -3.364e-05      0.000     -0.152      0.880      -0.000       0.000\n",
       "intercept                                 0.1813      0.140      1.296      0.204      -0.104       0.466\n",
       "==============================================================================\n",
       "Omnibus:                        4.510   Durbin-Watson:                   2.220\n",
       "Prob(Omnibus):                  0.105   Jarque-Bera (JB):                5.291\n",
       "Skew:                          -0.092   Prob(JB):                       0.0710\n",
       "Kurtosis:                       4.481   Cond. No.                     1.19e+19\n",
       "==============================================================================\n",
       "\n",
       "Warnings:\n",
       "[1] Standard Errors assume that the covariance matrix of the errors is correctly specified.\n",
       "[2] The smallest eigenvalue is 1.62e-30. This might indicate that there are\n",
       "strong multicollinearity problems or that the design matrix is singular.\n",
       "\"\"\""
      ]
     },
     "execution_count": 89,
     "metadata": {},
     "output_type": "execute_result"
    }
   ],
   "source": [
    "y_test_new1=y_test_new.reset_index().drop('index', axis=1)\n",
    "y_test_new1=y_test_new.reset_index().drop('index', axis=1)\n",
    "\n",
    "new_model = sm.OLS(y_test_new1, df_newdf_testx)\n",
    "new_fit = new_model.fit()\n",
    "new_fit.summary()\n"
   ]
  },
  {
   "cell_type": "code",
   "execution_count": null,
   "metadata": {},
   "outputs": [],
   "source": []
  },
  {
   "cell_type": "code",
   "execution_count": null,
   "metadata": {
    "collapsed": true
   },
   "outputs": [],
   "source": []
  },
  {
   "cell_type": "code",
   "execution_count": null,
   "metadata": {},
   "outputs": [],
   "source": []
  },
  {
   "cell_type": "code",
   "execution_count": 91,
   "metadata": {
    "collapsed": true
   },
   "outputs": [],
   "source": [
    "pca = PCA(n_components=2)\n",
    "\n",
    "x_train_std = ss.fit_transform(df_newdf_trainx)\n",
    "\n",
    "x_test_std = ss.fit_transform(df_newdf_testx)\n",
    "\n",
    "pca.fit(x_train_std)\n",
    "x_pca_tsform = pca.transform(x_test_std)               "
   ]
  },
  {
   "cell_type": "code",
   "execution_count": 92,
   "metadata": {},
   "outputs": [
    {
     "data": {
      "text/plain": [
       "<matplotlib.collections.PathCollection at 0x120dd8908>"
      ]
     },
     "execution_count": 92,
     "metadata": {},
     "output_type": "execute_result"
    },
    {
     "data": {
      "image/png": "[encoded data removed]",
      "text/plain": [
       "<matplotlib.figure.Figure at 0x119e884a8>"
      ]
     },
     "metadata": {},
     "output_type": "display_data"
    }
   ],
   "source": [
    "#plt.scatter(x_train_new)\n",
    "plt.scatter(x_pca_tsform[:,0],x_pca_tsform[:,1], c='red')\n"
   ]
  },
  {
   "cell_type": "code",
   "execution_count": null,
   "metadata": {},
   "outputs": [],
   "source": []
  },
  {
   "cell_type": "code",
   "execution_count": 93,
   "metadata": {
    "collapsed": true
   },
   "outputs": [],
   "source": [
    "pca_df=pd.DataFrame(pca.components_, columns=x_train_new.columns, index=['PCA-1', 'PCA-2']).T"
   ]
  },
  {
   "cell_type": "code",
   "execution_count": 94,
   "metadata": {
    "scrolled": true
   },
   "outputs": [
    {
     "data": {
      "text/plain": [
       "HI_ratio                                 4.288603e-01\n",
       "Race[T.White]                           -4.177177e-01\n",
       "unemployment_rate                        3.740989e-01\n",
       "County[T.Harris County, TX]             -3.163527e-01\n",
       "County[T.Philadelphia County, PA]        3.036212e-01\n",
       "County[T.Wayne County, MI]               2.814845e-01\n",
       "County[T.Dallas County, TX]             -2.473255e-01\n",
       "Year                                     1.847053e-01\n",
       "County[T.Baltimore city, MD]             1.709588e-01\n",
       "County[T.Tarrant County, TX]            -1.307085e-01\n",
       "Gender[T.Male]                           1.226842e-01\n",
       "County[T.Bexar County, TX]              -9.328188e-02\n",
       "County[T.San Diego County, CA]          -8.917493e-02\n",
       "County[T.Shelby County, TN]              8.894918e-02\n",
       "County[T.Will County, IL]               -8.678171e-02\n",
       "County[T.Oklahoma County, OK]           -7.634989e-02\n",
       "County[T.Milwaukee County, WI]           7.416549e-02\n",
       "County[T.Caddo Parish, LA]               6.892000e-02\n",
       "County[T.Jefferson County, AL]           6.713312e-02\n",
       "County[T.Maricopa County, AZ]           -5.819862e-02\n",
       "County[T.Fresno County, CA]              5.007466e-02\n",
       "County[T.San Bernardino County, CA]     -4.738415e-02\n",
       "County[T.Mobile County, AL]              4.575915e-02\n",
       "County[T.Bronx County, NY]               4.420540e-02\n",
       "County[T.Queens County, NY]              3.643013e-02\n",
       "County[T.Hamilton County, OH]            3.495752e-02\n",
       "County[T.Riverside County, CA]          -2.919837e-02\n",
       "County[T.Broward County, FL]             2.720122e-02\n",
       "County[T.East Baton Rouge Parish, LA]   -2.626217e-02\n",
       "County[T.Kern County, CA]                2.527835e-02\n",
       "County[T.Prince George's County, MD]    -2.502917e-02\n",
       "County[T.St. Louis city, MO]             2.240253e-02\n",
       "County[T.Cook County, IL]               -2.231572e-02\n",
       "County[T.District of Columbia, DC]       2.136710e-02\n",
       "County[T.Franklin County, OH]            1.589565e-02\n",
       "County[T.Kings County, NY]              -1.504881e-02\n",
       "County[T.Fulton County, GA]             -1.316687e-02\n",
       "County[T.Worcester County, MA]           1.236436e-02\n",
       "County[T.Cuyahoga County, OH]            1.229795e-02\n",
       "County[T.Hillsborough County, FL]        8.814212e-03\n",
       "County[T.Los Angeles County, CA]         5.168170e-03\n",
       "County[T.Marion County, IN]             -2.807318e-03\n",
       "County[T.Duval County, FL]              -5.293956e-23\n",
       "County[T.Clark County, NV]              -0.000000e+00\n",
       "County[T.Miami-Dade County, FL]         -0.000000e+00\n",
       "County[T.King County, WA]               -0.000000e+00\n",
       "County[T.Essex County, NJ]              -0.000000e+00\n",
       "intercept                               -0.000000e+00\n",
       "Name: PCA-1, dtype: float64"
      ]
     },
     "execution_count": 94,
     "metadata": {},
     "output_type": "execute_result"
    }
   ],
   "source": [
    "pca_df['PCA-1'].reindex(pca_df['PCA-1'].abs().sort_values(inplace=False, ascending=False).index)"
   ]
  },
  {
   "cell_type": "code",
   "execution_count": 95,
   "metadata": {
    "scrolled": true
   },
   "outputs": [
    {
     "data": {
      "text/plain": [
       "HI_ratio                                 0.507781\n",
       "unemployment_rate                       -0.360775\n",
       "Year                                     0.359450\n",
       "County[T.Maricopa County, AZ]            0.341618\n",
       "Race[T.White]                            0.271826\n",
       "County[T.Wayne County, MI]              -0.208818\n",
       "County[T.Queens County, NY]              0.183890\n",
       "County[T.Hillsborough County, FL]        0.155691\n",
       "County[T.Worcester County, MA]           0.152047\n",
       "County[T.Philadelphia County, PA]        0.144770\n",
       "County[T.Shelby County, TN]             -0.126839\n",
       "County[T.Marion County, IN]             -0.117745\n",
       "County[T.Cook County, IL]               -0.117317\n",
       "County[T.Kings County, NY]              -0.103564\n",
       "County[T.Bronx County, NY]              -0.100855\n",
       "Gender[T.Male]                          -0.096324\n",
       "County[T.Dallas County, TX]             -0.090858\n",
       "County[T.District of Columbia, DC]      -0.084829\n",
       "County[T.Bexar County, TX]               0.083993\n",
       "County[T.Los Angeles County, CA]        -0.080521\n",
       "County[T.Jefferson County, AL]           0.077614\n",
       "County[T.Hamilton County, OH]            0.072285\n",
       "County[T.Milwaukee County, WI]          -0.065429\n",
       "County[T.East Baton Rouge Parish, LA]   -0.062696\n",
       "County[T.Franklin County, OH]            0.062610\n",
       "County[T.Tarrant County, TX]             0.062565\n",
       "County[T.Fulton County, GA]             -0.055497\n",
       "County[T.Prince George's County, MD]    -0.051083\n",
       "County[T.Oklahoma County, OK]            0.046504\n",
       "County[T.St. Louis city, MO]            -0.045556\n",
       "County[T.San Diego County, CA]           0.040431\n",
       "County[T.Fresno County, CA]              0.037154\n",
       "County[T.Cuyahoga County, OH]            0.035733\n",
       "County[T.Broward County, FL]            -0.022198\n",
       "County[T.Will County, IL]               -0.022050\n",
       "County[T.Baltimore city, MD]             0.017484\n",
       "County[T.Riverside County, CA]          -0.016079\n",
       "County[T.San Bernardino County, CA]      0.015013\n",
       "County[T.Caddo Parish, LA]               0.012062\n",
       "County[T.Mobile County, AL]              0.011998\n",
       "County[T.Kern County, CA]                0.002789\n",
       "County[T.Harris County, TX]             -0.002404\n",
       "County[T.Clark County, NV]              -0.000000\n",
       "County[T.Duval County, FL]              -0.000000\n",
       "County[T.Essex County, NJ]              -0.000000\n",
       "County[T.King County, WA]               -0.000000\n",
       "County[T.Miami-Dade County, FL]         -0.000000\n",
       "intercept                               -0.000000\n",
       "Name: PCA-2, dtype: float64"
      ]
     },
     "execution_count": 95,
     "metadata": {},
     "output_type": "execute_result"
    }
   ],
   "source": [
    "pca_df['PCA-2'].reindex(pca_df['PCA-2'].abs().sort_values(inplace=False, ascending=False).index)"
   ]
  },
  {
   "cell_type": "markdown",
   "metadata": {},
   "source": [
    "# Tree"
   ]
  },
  {
   "cell_type": "code",
   "execution_count": null,
   "metadata": {},
   "outputs": [],
   "source": []
  },
  {
   "cell_type": "code",
   "execution_count": 106,
   "metadata": {},
   "outputs": [],
   "source": [
    "dt_test_sc = []\n",
    "dt_train_sc = []\n",
    "\n",
    "for n in range(1,21):\n",
    "    DT_reg = DecisionTreeRegressor(max_depth=n)\n",
    "\n",
    "    train = DT_reg.fit(x_train_new, y_train_new).score(x_train_new, y_train_new)\n",
    "    dt_train_sc.append(train)\n",
    "    \n",
    "    test = DT_reg.fit(x_test_new, y_test_new).score(x_test_new, y_test_new)\n",
    "    dt_test_sc.append(test)\n",
    "    "
   ]
  },
  {
   "cell_type": "code",
   "execution_count": 141,
   "metadata": {
    "scrolled": false
   },
   "outputs": [
    {
     "name": "stderr",
     "output_type": "stream",
     "text": [
      "/Users/allandong/anaconda/lib/python3.6/site-packages/matplotlib/axes/_axes.py:545: UserWarning: No labelled objects found. Use label='...' kwarg on individual plots.\n",
      "  warnings.warn(\"No labelled objects found. \"\n"
     ]
    },
    {
     "data": {
      "image/png": "[encoded data removed]",
      "text/plain": [
       "<matplotlib.figure.Figure at 0x11cf2ebe0>"
      ]
     },
     "metadata": {},
     "output_type": "display_data"
    }
   ],
   "source": [
    "plt.figure(figsize=(10,6))\n",
    "plt.ylim(0,1)\n",
    "plt.xlim(0,20)\n",
    "plt.legend()\n",
    "\n",
    "plt.plot(range(1,21), dt_test_sc, label='Test')\n",
    "plt.plot(range(1,21), dt_train_sc, label='Train')\n",
    "plt.title('DecisionTree Score by Depth')\n",
    "plt.legend()\n",
    "plt.xlabel('max_depth')\n",
    "plt.ylabel('DecisionTree score')\n",
    "plt.show()"
   ]
  },
  {
   "cell_type": "code",
   "execution_count": 136,
   "metadata": {
    "collapsed": true
   },
   "outputs": [],
   "source": [
    "reg1 = DecisionTreeRegressor(max_depth=2)\n",
    "reg2 = DecisionTreeRegressor(max_depth=10)\n",
    "\n",
    "reg1.fit(x_train_new, y_train_new)\n",
    "reg2.fit(x_train_new, y_train_new)\n",
    "\n",
    "reg_y1 = reg1.predict(x_test_new)\n",
    "reg_y2 = reg2.predict(x_test_new)"
   ]
  },
  {
   "cell_type": "code",
   "execution_count": 157,
   "metadata": {},
   "outputs": [
    {
     "data": {
      "text/plain": [
       "<matplotlib.collections.PathCollection at 0x11c1114a8>"
      ]
     },
     "execution_count": 157,
     "metadata": {},
     "output_type": "execute_result"
    },
    {
     "data": {
      "image/png": "[encoded data removed]",
      "text/plain": [
       "<matplotlib.figure.Figure at 0x119f87a20>"
      ]
     },
     "metadata": {},
     "output_type": "display_data"
    }
   ],
   "source": [
    "plt.figure()\n",
    "#plt.scatter(new_x, new_y, c='darkorange')\n",
    "plt.scatter(x_test_new.HI_ratio, reg_y1, color='cornflowerblue')\n",
    "#plt.plot(x_test_std, reg_y2, color='yellowgreen')"
   ]
  },
  {
   "cell_type": "code",
   "execution_count": 158,
   "metadata": {
    "scrolled": true
   },
   "outputs": [
    {
     "data": {
      "text/plain": [
       "0.61628910657607694"
      ]
     },
     "execution_count": 158,
     "metadata": {},
     "output_type": "execute_result"
    }
   ],
   "source": [
    "reg2.score(x_test_new, y_test_new)"
   ]
  },
  {
   "cell_type": "code",
   "execution_count": 159,
   "metadata": {},
   "outputs": [
    {
     "data": {
      "text/plain": [
       "0.93723190340618301"
      ]
     },
     "execution_count": 159,
     "metadata": {},
     "output_type": "execute_result"
    }
   ],
   "source": [
    "reg2.score(x_train_new, y_train_new)"
   ]
  },
  {
   "cell_type": "code",
   "execution_count": 160,
   "metadata": {},
   "outputs": [],
   "source": [
    "DT_features = reg2.feature_importances_"
   ]
  },
  {
   "cell_type": "code",
   "execution_count": 100,
   "metadata": {
    "scrolled": true
   },
   "outputs": [],
   "source": [
    "from sklearn.ensemble import RandomForestRegressor"
   ]
  },
  {
   "cell_type": "code",
   "execution_count": 126,
   "metadata": {
    "collapsed": true
   },
   "outputs": [],
   "source": [
    "RF_test_sc = []\n",
    "RF_train_sc = []\n",
    "\n",
    "for n in range(1,21):\n",
    "    RF_reg = RandomForestRegressor(max_depth=n)\n",
    "\n",
    "    train = RF_reg.fit(x_train_new, y_train_new).score(x_train_new, y_train_new)\n",
    "    RF_train_sc.append(train)\n",
    "    \n",
    "    test = RF_reg.fit(x_test_new, y_test_new).score(x_test_new, y_test_new)\n",
    "    RF_test_sc.append(test)\n",
    "    "
   ]
  },
  {
   "cell_type": "code",
   "execution_count": 132,
   "metadata": {},
   "outputs": [
    {
     "name": "stderr",
     "output_type": "stream",
     "text": [
      "/Users/allandong/anaconda/lib/python3.6/site-packages/matplotlib/axes/_axes.py:545: UserWarning: No labelled objects found. Use label='...' kwarg on individual plots.\n",
      "  warnings.warn(\"No labelled objects found. \"\n"
     ]
    },
    {
     "data": {
      "image/png": "[encoded data removed]",
      "text/plain": [
       "<matplotlib.figure.Figure at 0x119d5ae48>"
      ]
     },
     "metadata": {},
     "output_type": "display_data"
    }
   ],
   "source": [
    "plt.figure(figsize=(10,8))\n",
    "plt.ylim(0,1)\n",
    "plt.xlim(0,20)\n",
    "plt.legend()\n",
    "\n",
    "plt.plot(range(1,21), RF_test_sc, label='Test')\n",
    "plt.plot(range(1,21), RF_train_sc, label='Train')\n",
    "\n",
    "plt.legend()\n",
    "plt.xlabel('max_depth')\n",
    "plt.ylabel('DecisionTree score')\n",
    "plt.show()"
   ]
  },
  {
   "cell_type": "code",
   "execution_count": 142,
   "metadata": {},
   "outputs": [
    {
     "data": {
      "text/plain": [
       "RandomForestRegressor(bootstrap=True, criterion='mse', max_depth=10,\n",
       "           max_features='auto', max_leaf_nodes=None,\n",
       "           min_impurity_split=1e-07, min_samples_leaf=1,\n",
       "           min_samples_split=2, min_weight_fraction_leaf=0.0,\n",
       "           n_estimators=10, n_jobs=1, oob_score=False, random_state=None,\n",
       "           verbose=0, warm_start=False)"
      ]
     },
     "execution_count": 142,
     "metadata": {},
     "output_type": "execute_result"
    }
   ],
   "source": [
    "RF_reg1 = RandomForestRegressor(max_depth=2)\n",
    "RF_reg2 = RandomForestRegressor(max_depth=10)\n",
    "\n",
    "RF_reg1.fit(x_train_new, y_train_new)\n",
    "RF_reg2.fit(x_train_new, y_train_new)\n",
    "\n"
   ]
  },
  {
   "cell_type": "code",
   "execution_count": 143,
   "metadata": {},
   "outputs": [
    {
     "data": {
      "text/plain": [
       "0.71527851112102669"
      ]
     },
     "execution_count": 143,
     "metadata": {},
     "output_type": "execute_result"
    }
   ],
   "source": [
    "RF_reg2.score(x_test_new, y_test_new)"
   ]
  },
  {
   "cell_type": "code",
   "execution_count": 144,
   "metadata": {},
   "outputs": [
    {
     "data": {
      "text/plain": [
       "0.92810358800186543"
      ]
     },
     "execution_count": 144,
     "metadata": {},
     "output_type": "execute_result"
    }
   ],
   "source": [
    "RF_reg2.score(x_train_new, y_train_new)"
   ]
  },
  {
   "cell_type": "code",
   "execution_count": 146,
   "metadata": {},
   "outputs": [],
   "source": [
    "RF_features = RF_reg2.feature_importances_"
   ]
  },
  {
   "cell_type": "code",
   "execution_count": 155,
   "metadata": {},
   "outputs": [
    {
     "data": {
      "text/plain": [
       "(48,)"
      ]
     },
     "execution_count": 155,
     "metadata": {},
     "output_type": "execute_result"
    }
   ],
   "source": [
    "RF_features.shape"
   ]
  },
  {
   "cell_type": "code",
   "execution_count": 149,
   "metadata": {},
   "outputs": [],
   "source": [
    "x_train_columns = np.array(x_train_new.columns)"
   ]
  },
  {
   "cell_type": "code",
   "execution_count": 156,
   "metadata": {},
   "outputs": [
    {
     "data": {
      "text/plain": [
       "(48,)"
      ]
     },
     "execution_count": 156,
     "metadata": {},
     "output_type": "execute_result"
    }
   ],
   "source": [
    "x_train_columns.shape"
   ]
  },
  {
   "cell_type": "code",
   "execution_count": 164,
   "metadata": {},
   "outputs": [],
   "source": [
    "df_feat = pd.DataFrame([DT_features, RF_features], columns = x_train_new.columns, index=['DecisionTree', 'RandomForest']).T"
   ]
  },
  {
   "cell_type": "code",
   "execution_count": 166,
   "metadata": {
    "scrolled": true
   },
   "outputs": [
    {
     "data": {
      "text/plain": [
       "Race[T.White]                            0.428472\n",
       "County[T.Caddo Parish, LA]               0.299904\n",
       "County[T.Mobile County, AL]              0.057862\n",
       "County[T.Philadelphia County, PA]        0.028271\n",
       "County[T.St. Louis city, MO]             0.027241\n",
       "HI_ratio                                 0.026270\n",
       "County[T.East Baton Rouge Parish, LA]    0.022341\n",
       "Gender[T.Male]                           0.017114\n",
       "County[T.Jefferson County, AL]           0.013439\n",
       "County[T.Los Angeles County, CA]         0.012408\n",
       "County[T.Worcester County, MA]           0.011707\n",
       "County[T.Harris County, TX]              0.010170\n",
       "County[T.Cuyahoga County, OH]            0.007689\n",
       "Year                                     0.005655\n",
       "County[T.Baltimore city, MD]             0.005097\n",
       "County[T.Oklahoma County, OK]            0.005042\n",
       "County[T.Milwaukee County, WI]           0.004954\n",
       "unemployment_rate                        0.004258\n",
       "County[T.Will County, IL]                0.003534\n",
       "County[T.Marion County, IN]              0.003083\n",
       "County[T.Dallas County, TX]              0.002683\n",
       "County[T.Cook County, IL]                0.001468\n",
       "County[T.Wayne County, MI]               0.001338\n",
       "County[T.Clark County, NV]               0.000000\n",
       "County[T.Franklin County, OH]            0.000000\n",
       "County[T.Broward County, FL]             0.000000\n",
       "County[T.Bronx County, NY]               0.000000\n",
       "County[T.Bexar County, TX]               0.000000\n",
       "County[T.District of Columbia, DC]       0.000000\n",
       "County[T.Duval County, FL]               0.000000\n",
       "County[T.Essex County, NJ]               0.000000\n",
       "intercept                                0.000000\n",
       "County[T.Fresno County, CA]              0.000000\n",
       "County[T.Fulton County, GA]              0.000000\n",
       "County[T.Hamilton County, OH]            0.000000\n",
       "County[T.Hillsborough County, FL]        0.000000\n",
       "County[T.King County, WA]                0.000000\n",
       "County[T.Kings County, NY]               0.000000\n",
       "County[T.Maricopa County, AZ]            0.000000\n",
       "County[T.Miami-Dade County, FL]          0.000000\n",
       "County[T.Prince George's County, MD]     0.000000\n",
       "County[T.Queens County, NY]              0.000000\n",
       "County[T.Riverside County, CA]           0.000000\n",
       "County[T.San Bernardino County, CA]      0.000000\n",
       "County[T.San Diego County, CA]           0.000000\n",
       "County[T.Shelby County, TN]              0.000000\n",
       "County[T.Tarrant County, TX]             0.000000\n",
       "County[T.Kern County, CA]                0.000000\n",
       "Name: DecisionTree, dtype: float64"
      ]
     },
     "execution_count": 166,
     "metadata": {},
     "output_type": "execute_result"
    }
   ],
   "source": [
    "df_feat['DecisionTree'].reindex(df_feat['DecisionTree'].sort_values(inplace=False, ascending=False).index)"
   ]
  },
  {
   "cell_type": "code",
   "execution_count": 167,
   "metadata": {
    "scrolled": true
   },
   "outputs": [
    {
     "data": {
      "text/plain": [
       "County[T.Caddo Parish, LA]               0.402274\n",
       "Race[T.White]                            0.335143\n",
       "County[T.Mobile County, AL]              0.039379\n",
       "unemployment_rate                        0.029814\n",
       "County[T.East Baton Rouge Parish, LA]    0.025148\n",
       "County[T.St. Louis city, MO]             0.022283\n",
       "County[T.Philadelphia County, PA]        0.020892\n",
       "HI_ratio                                 0.018888\n",
       "County[T.Worcester County, MA]           0.015511\n",
       "Gender[T.Male]                           0.011394\n",
       "County[T.Jefferson County, AL]           0.010680\n",
       "Year                                     0.009986\n",
       "County[T.Milwaukee County, WI]           0.008149\n",
       "County[T.Kings County, NY]               0.006854\n",
       "County[T.Oklahoma County, OK]            0.006681\n",
       "County[T.Baltimore city, MD]             0.006494\n",
       "County[T.Hamilton County, OH]            0.005870\n",
       "County[T.Cuyahoga County, OH]            0.004939\n",
       "County[T.Dallas County, TX]              0.004436\n",
       "County[T.Harris County, TX]              0.003807\n",
       "County[T.Will County, IL]                0.002769\n",
       "County[T.Marion County, IN]              0.002406\n",
       "County[T.Wayne County, MI]               0.001324\n",
       "County[T.Cook County, IL]                0.001092\n",
       "County[T.Maricopa County, AZ]            0.000992\n",
       "County[T.Los Angeles County, CA]         0.000939\n",
       "County[T.Bronx County, NY]               0.000916\n",
       "County[T.Hillsborough County, FL]        0.000330\n",
       "County[T.Queens County, NY]              0.000226\n",
       "County[T.Kern County, CA]                0.000197\n",
       "County[T.Tarrant County, TX]             0.000189\n",
       "County[T.Fresno County, CA]              0.000000\n",
       "County[T.Franklin County, OH]            0.000000\n",
       "County[T.Shelby County, TN]              0.000000\n",
       "County[T.San Diego County, CA]           0.000000\n",
       "County[T.Bexar County, TX]               0.000000\n",
       "County[T.San Bernardino County, CA]      0.000000\n",
       "County[T.Broward County, FL]             0.000000\n",
       "County[T.Riverside County, CA]           0.000000\n",
       "County[T.Clark County, NV]               0.000000\n",
       "County[T.Prince George's County, MD]     0.000000\n",
       "County[T.Miami-Dade County, FL]          0.000000\n",
       "County[T.King County, WA]                0.000000\n",
       "County[T.District of Columbia, DC]       0.000000\n",
       "County[T.Duval County, FL]               0.000000\n",
       "County[T.Fulton County, GA]              0.000000\n",
       "County[T.Essex County, NJ]               0.000000\n",
       "intercept                                0.000000\n",
       "Name: RandomForest, dtype: float64"
      ]
     },
     "execution_count": 167,
     "metadata": {},
     "output_type": "execute_result"
    }
   ],
   "source": [
    "df_feat['RandomForest'].reindex(df_feat['RandomForest'].sort_values(inplace=False, ascending=False).index)"
   ]
  },
  {
   "cell_type": "code",
   "execution_count": null,
   "metadata": {
    "collapsed": true
   },
   "outputs": [],
   "source": [
    "pca_df['PCA-1'].reindex(pca_df['PCA-1'].abs().sort_values(inplace=False, ascending=False).index)"
   ]
  }
 ],
 "metadata": {
  "kernelspec": {
   "display_name": "Python 3",
   "language": "python",
   "name": "python3"
  },
  "language_info": {
   "codemirror_mode": {
    "name": "ipython",
    "version": 3
   },
   "file_extension": ".py",
   "mimetype": "text/x-python",
   "name": "python",
   "nbconvert_exporter": "python",
   "pygments_lexer": "ipython3",
   "version": "3.6.1"
  }
 },
 "nbformat": 4,
 "nbformat_minor": 2
}
